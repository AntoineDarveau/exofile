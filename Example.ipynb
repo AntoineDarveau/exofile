{
 "cells": [
  {
   "cell_type": "code",
   "execution_count": 1,
   "metadata": {},
   "outputs": [
    {
     "name": "stdout",
     "output_type": "stream",
     "text": [
      "Query Confirmed Planet Table...Done\n",
      "Query extended database....Done\n",
      "Building new reference table...Done\n",
      "Completing database with extended database (may take some time)..."
     ]
    },
    {
     "name": "stderr",
     "output_type": "stream",
     "text": [
      "WARNING: MergeConflictWarning: Cannot merge meta key 'value' types <class 'int'> and <class 'int'>, choosing value=13940 [astropy.utils.metadata]\n",
      "WARNING: MergeConflictWarning: Cannot merge meta key 'value' types <class 'int'> and <class 'int'>, choosing value=13940 [astropy.utils.metadata]\n"
     ]
    },
    {
     "name": "stdout",
     "output_type": "stream",
     "text": [
      "Done\n"
     ]
    }
   ],
   "source": [
    "from masterfile.archive import MasterFile\n",
    "\n",
    "new, ref = MasterFile.update()"
   ]
  },
  {
   "cell_type": "code",
   "execution_count": 3,
   "metadata": {},
   "outputs": [
    {
     "data": {
      "text/html": [
       "<i>PlanetArchive masked=True length=1</i>\n",
       "<table id=\"table139690951894032\" class=\"table-striped table-bordered table-condensed\">\n",
       "<thead><tr><th>pl_tranmid</th><th>pl_tranmiderr1</th><th>pl_tranmiderr2</th></tr></thead>\n",
       "<thead><tr><th>d</th><th>d</th><th>d</th></tr></thead>\n",
       "<thead><tr><th>float64</th><th>float64</th><th>float64</th></tr></thead>\n",
       "<tr><td>2456034.2126</td><td>0.00015</td><td>-0.00015</td></tr>\n",
       "</table>"
      ],
      "text/plain": [
       "<PlanetArchive masked=True length=1>\n",
       " pl_tranmid  pl_tranmiderr1 pl_tranmiderr2\n",
       "     d             d              d       \n",
       "  float64       float64        float64    \n",
       "------------ -------------- --------------\n",
       "2456034.2126        0.00015       -0.00015"
      ]
     },
     "execution_count": 3,
     "metadata": {},
     "output_type": "execute_result"
    }
   ],
   "source": [
    "new.by_pl_name('WASP-14 b', name_key='pl_name')['pl_tranmid','pl_tranmiderr1', 'pl_tranmiderr2']"
   ]
  },
  {
   "cell_type": "code",
   "execution_count": 2,
   "metadata": {},
   "outputs": [
    {
     "data": {
      "text/html": [
       "<i>Table masked=True length=1</i>\n",
       "<table id=\"table139796713506000\" class=\"table-striped table-bordered table-condensed\">\n",
       "<thead><tr><th>pl_tranmid</th><th>pl_tranmiderr1</th><th>pl_tranmiderr2</th></tr></thead>\n",
       "<thead><tr><th>bytes42</th><th>bytes42</th><th>bytes42</th></tr></thead>\n",
       "<tr><td>Wong et al. 2015</td><td>Wong et al. 2015</td><td>Wong et al. 2015</td></tr>\n",
       "</table>"
      ],
      "text/plain": [
       "<Table masked=True length=1>\n",
       "   pl_tranmid     pl_tranmiderr1   pl_tranmiderr2 \n",
       "    bytes42          bytes42          bytes42     \n",
       "---------------- ---------------- ----------------\n",
       "Wong et al. 2015 Wong et al. 2015 Wong et al. 2015"
      ]
     },
     "execution_count": 2,
     "metadata": {},
     "output_type": "execute_result"
    }
   ],
   "source": [
    "ref.by_pl_name('WASP-14 b', name_key='pl_name')['pl_tranmid','pl_tranmiderr1', 'pl_tranmiderr2']"
   ]
  },
  {
   "cell_type": "code",
   "execution_count": null,
   "metadata": {},
   "outputs": [],
   "source": []
  }
 ],
 "metadata": {
  "kernelspec": {
   "display_name": "Python 3",
   "language": "python",
   "name": "python3"
  },
  "language_info": {
   "codemirror_mode": {
    "name": "ipython",
    "version": 3
   },
   "file_extension": ".py",
   "mimetype": "text/x-python",
   "name": "python",
   "nbconvert_exporter": "python",
   "pygments_lexer": "ipython3",
   "version": "3.7.5"
  }
 },
 "nbformat": 4,
 "nbformat_minor": 2
}
