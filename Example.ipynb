{
 "cells": [
  {
   "cell_type": "markdown",
   "metadata": {},
   "source": [
    "# Import"
   ]
  },
  {
   "cell_type": "code",
   "execution_count": 1,
   "metadata": {},
   "outputs": [],
   "source": [
    "from exofile.archive import ExoFile"
   ]
  },
  {
   "cell_type": "markdown",
   "metadata": {},
   "source": [
    "# Load the exofile\n",
    "(The warning about the custom file is not worrysome, since there is no custom file yet)"
   ]
  },
  {
   "cell_type": "code",
   "execution_count": 2,
   "metadata": {},
   "outputs": [
    {
     "name": "stderr",
     "output_type": "stream",
     "text": [
      "WARNING: ColUnitsWarning: Units conflict for 'pl_occdep' column. Converting 'perc' to '%'. Make sure units were properly converted. [exofile.archive]\n",
      "WARNING: ColUnitsWarning: Units conflict for 'pl_occdeperr1' column. Converting 'perc' to '%'. Make sure units were properly converted. [exofile.archive]\n",
      "WARNING: ColUnitsWarning: Units conflict for 'pl_occdeperr2' column. Converting 'perc' to '%'. Make sure units were properly converted. [exofile.archive]\n",
      "WARNING: ColUnitsWarning: Units conflict for 'pl_insol' column. Converting 'Fearth' to '0.0795775 solLum / AU2'. Make sure units were properly converted. [exofile.archive]\n",
      "WARNING: ColUnitsWarning: Units conflict for 'pl_insolerr1' column. Converting 'Fearth' to '0.0795775 solLum / AU2'. Make sure units were properly converted. [exofile.archive]\n",
      "WARNING: ColUnitsWarning: Units conflict for 'pl_insolerr2' column. Converting 'Fearth' to '0.0795775 solLum / AU2'. Make sure units were properly converted. [exofile.archive]\n",
      "WARNING: ColUnitsWarning: Units conflict for 'pl_trandep' column. Converting 'perc' to '%'. Make sure units were properly converted. [exofile.archive]\n",
      "WARNING: ColUnitsWarning: Units conflict for 'pl_trandeperr1' column. Converting 'perc' to '%'. Make sure units were properly converted. [exofile.archive]\n",
      "WARNING: ColUnitsWarning: Units conflict for 'pl_trandeperr2' column. Converting 'perc' to '%'. Make sure units were properly converted. [exofile.archive]\n",
      "WARNING: ColUnitsWarning: Units conflict for 'st_lum' column. Converting 'logLsun' to 'dex(solLum)'. Make sure units were properly converted. [exofile.archive]\n",
      "WARNING: ColUnitsWarning: Units conflict for 'st_lumerr1' column. Converting 'logLsun' to 'dex(solLum)'. Make sure units were properly converted. [exofile.archive]\n",
      "WARNING: ColUnitsWarning: Units conflict for 'st_lumerr2' column. Converting 'logLsun' to 'dex(solLum)'. Make sure units were properly converted. [exofile.archive]\n",
      "WARNING: ColUnitsWarning: Units conflict for 'st_logg' column. Converting 'cm / s2' to 'dex(cm / s2)'. Make sure units were properly converted. [exofile.archive]\n",
      "WARNING: ColUnitsWarning: Units conflict for 'st_loggerr1' column. Converting 'cm / s2' to 'dex(cm / s2)'. Make sure units were properly converted. [exofile.archive]\n",
      "WARNING: ColUnitsWarning: Units conflict for 'st_loggerr2' column. Converting 'cm / s2' to 'dex(cm / s2)'. Make sure units were properly converted. [exofile.archive]\n",
      "/home/vandal/astro/exofile/exofile/archive.py:332: GetLocalFileWarning: DID NOT READ CUSTOM FILE. FileNotFoundError has occur when trying to query/read custom file.\n",
      "  warn(GetLocalFileWarning(file=\"custom file\", err=e))\n"
     ]
    }
   ],
   "source": [
    "data = ExoFile.load()"
   ]
  },
  {
   "cell_type": "markdown",
   "metadata": {},
   "source": [
    "# Acces columns\n",
    "(see column's names from the [Confirmed Planet Table](https://exoplanetarchive.ipac.caltech.edu/docs/API_exoplanet_columns.html))"
   ]
  },
  {
   "cell_type": "code",
   "execution_count": 3,
   "metadata": {},
   "outputs": [
    {
     "data": {
      "text/html": [
       "<div><i>ExoFile length=4914</i>\n",
       "<table id=\"table140414870391008\" class=\"table-striped table-bordered table-condensed\">\n",
       "<thead><tr><th>pl_name</th><th>pl_eqt</th><th>pl_orbper</th><th>pl_trandur</th></tr></thead>\n",
       "<thead><tr><th></th><th>K</th><th>d</th><th>d</th></tr></thead>\n",
       "<thead><tr><th>str29</th><th>float64</th><th>float64</th><th>float64</th></tr></thead>\n",
       "<tr><td>OGLE-2016-BLG-1227L b</td><td>nan</td><td>nan</td><td>nan</td></tr>\n",
       "<tr><td>GJ 480 b</td><td>nan</td><td>9.567</td><td>nan</td></tr>\n",
       "<tr><td>Kepler-276 c</td><td>563.0</td><td>31.884</td><td>5.099</td></tr>\n",
       "<tr><td>Kepler-829 b</td><td>857.0</td><td>6.88337562</td><td>2.2442</td></tr>\n",
       "<tr><td>K2-283 b</td><td>1186.0</td><td>1.921036</td><td>1.7496</td></tr>\n",
       "<tr><td>Kepler-477 b</td><td>649.0</td><td>11.11990653</td><td>3.3296</td></tr>\n",
       "<tr><td>HAT-P-15 b</td><td>904.0</td><td>10.8635</td><td>5.484</td></tr>\n",
       "<tr><td>HD 149143 b</td><td>nan</td><td>4.07182</td><td>nan</td></tr>\n",
       "<tr><td>HD 210702 b</td><td>nan</td><td>354.1</td><td>nan</td></tr>\n",
       "<tr><td>HIP 12961 b</td><td>nan</td><td>57.435</td><td>nan</td></tr>\n",
       "<tr><td>XO-5 b</td><td>1230.0</td><td>4.1877558</td><td>3.1176</td></tr>\n",
       "<tr><td>HD 5608 b</td><td>nan</td><td>779.9</td><td>nan</td></tr>\n",
       "<tr><td>HD 95872 b</td><td>nan</td><td>4375.0</td><td>nan</td></tr>\n",
       "<tr><td>OGLE-2015-BLG-0966L b</td><td>nan</td><td>nan</td><td>nan</td></tr>\n",
       "<tr><td>WASP-123 b</td><td>1520.0</td><td>2.9776412</td><td>3.0936</td></tr>\n",
       "<tr><td>tau Cet e</td><td>nan</td><td>162.87</td><td>nan</td></tr>\n",
       "<tr><td>K2-254 c</td><td>551.0</td><td>12.11839</td><td>nan</td></tr>\n",
       "<tr><td>HD 26965 b</td><td>nan</td><td>42.378</td><td>nan</td></tr>\n",
       "<tr><td>EPIC 220554210 c</td><td>nan</td><td>0.70531</td><td>1.704</td></tr>\n",
       "<tr><td>NSVS 14256825 b</td><td>nan</td><td>3225.0</td><td>nan</td></tr>\n",
       "<tr><td>Kepler-1390 b</td><td>934.0</td><td>6.48021673</td><td>3.211</td></tr>\n",
       "<tr><td>Kepler-393 c</td><td>901.0</td><td>14.613612</td><td>5.401</td></tr>\n",
       "<tr><td>Kepler-263 c</td><td>386.0</td><td>47.332773</td><td>3.069</td></tr>\n",
       "<tr><td>Kepler-1431 b</td><td>1064.0</td><td>5.86601526</td><td>3.978</td></tr>\n",
       "<tr><td>Kepler-237 c</td><td>687.0</td><td>8.103636</td><td>3.15</td></tr>\n",
       "<tr><td>Kepler-1510 b</td><td>537.0</td><td>84.703921</td><td>10.447</td></tr>\n",
       "<tr><td>Kepler-169 e</td><td>595.0</td><td>13.767102</td><td>2.912</td></tr>\n",
       "<tr><td>Kepler-145 c</td><td>709.0</td><td>42.882</td><td>9.7471</td></tr>\n",
       "<tr><td>Kepler-219 c</td><td>766.0</td><td>22.714613</td><td>5.808</td></tr>\n",
       "<tr><td>Kepler-910 b</td><td>1752.0</td><td>2.36436901</td><td>3.2852</td></tr>\n",
       "<tr><td>Kepler-1037 b</td><td>1650.0</td><td>1.06378867</td><td>1.0764</td></tr>\n",
       "<tr><td>Kepler-992 b</td><td>510.0</td><td>20.16034462</td><td>3.8215</td></tr>\n",
       "<tr><td>...</td><td>...</td><td>...</td><td>...</td></tr>\n",
       "<tr><td>Kepler-1868 b</td><td>215.0</td><td>211.0339966</td><td>7.119</td></tr>\n",
       "<tr><td>Kepler-1878 b</td><td>1063.0</td><td>4.44587994</td><td>2.3816</td></tr>\n",
       "<tr><td>Kepler-1895 b</td><td>789.0</td><td>6.07029009</td><td>1.29</td></tr>\n",
       "<tr><td>Kepler-1898 b</td><td>1167.0</td><td>4.76562023</td><td>2.165</td></tr>\n",
       "<tr><td>Kepler-1901 b</td><td>1132.0</td><td>3.48412991</td><td>1.356</td></tr>\n",
       "<tr><td>Kepler-1910 b</td><td>645.0</td><td>5.68876982</td><td>2.55</td></tr>\n",
       "<tr><td>Kepler-1913 b</td><td>818.0</td><td>14.1960001</td><td>3.577</td></tr>\n",
       "<tr><td>Kepler-1914 b</td><td>585.0</td><td>30.82789993</td><td>4.192</td></tr>\n",
       "<tr><td>Kepler-1918 b</td><td>497.0</td><td>47.0564003</td><td>4.803</td></tr>\n",
       "<tr><td>Kepler-1921 b</td><td>967.0</td><td>20.03479958</td><td>6.627</td></tr>\n",
       "<tr><td>Kepler-1923 b</td><td>553.0</td><td>52.60969925</td><td>8.202</td></tr>\n",
       "<tr><td>Kepler-1965 b</td><td>492.0</td><td>41.86869812</td><td>5.783</td></tr>\n",
       "<tr><td>Kepler-1930 b</td><td>643.0</td><td>13.02680016</td><td>0.785</td></tr>\n",
       "<tr><td>Kepler-1931 b</td><td>619.0</td><td>38.5760994</td><td>19.861</td></tr>\n",
       "<tr><td>Kepler-1933 b</td><td>1058.0</td><td>4.94329023</td><td>2.9334</td></tr>\n",
       "<tr><td>Kepler-27 d</td><td>810.0</td><td>6.54628992</td><td>2.993</td></tr>\n",
       "<tr><td>Kepler-381 d</td><td>1387.0</td><td>8.25629997</td><td>1.9904</td></tr>\n",
       "<tr><td>Kepler-394 d</td><td>1165.0</td><td>5.61358023</td><td>2.95</td></tr>\n",
       "<tr><td>Kepler-1848 b</td><td>774.0</td><td>5.60402012</td><td>1.0273</td></tr>\n",
       "<tr><td>Kepler-1813 b</td><td>1059.0</td><td>2.81816006</td><td>1.7758</td></tr>\n",
       "<tr><td>Kepler-1876 b</td><td>1194.0</td><td>6.99202013</td><td>4.842</td></tr>\n",
       "<tr><td>Kepler-1896 b</td><td>536.0</td><td>44.87020111</td><td>4.199</td></tr>\n",
       "<tr><td>Kepler-1897 b</td><td>505.0</td><td>24.22030067</td><td>3.271</td></tr>\n",
       "<tr><td>Kepler-1899 b</td><td>851.0</td><td>4.0957799</td><td>1.704</td></tr>\n",
       "<tr><td>Kepler-1904 b</td><td>567.0</td><td>4.57702017</td><td>0.949</td></tr>\n",
       "<tr><td>Kepler-1905 b</td><td>1212.0</td><td>3.42392993</td><td>1.794</td></tr>\n",
       "<tr><td>TOI-2109 b</td><td>3646.0</td><td>0.67247414</td><td>1.801</td></tr>\n",
       "<tr><td>TOI-1842 b</td><td>1007.73230504</td><td>9.5739</td><td>4.3</td></tr>\n",
       "<tr><td>2M0437 b</td><td>1450.0</td><td>nan</td><td>nan</td></tr>\n",
       "<tr><td>HATS-74 A b</td><td>895.1</td><td>1.73185606</td><td>1.65336</td></tr>\n",
       "<tr><td>HATS-75 b</td><td>772.3</td><td>2.7886556</td><td>1.91256</td></tr>\n",
       "<tr><td>HATS-76 b</td><td>939.8</td><td>1.9416423</td><td>1.8576</td></tr>\n",
       "<tr><td>HATS-77 b</td><td>828.3</td><td>3.0876262</td><td>2.22768</td></tr>\n",
       "</table></div>"
      ],
      "text/plain": [
       "<ExoFile length=4914>\n",
       "       pl_name            pl_eqt     pl_orbper  pl_trandur\n",
       "                            K            d          d     \n",
       "        str29            float64      float64    float64  \n",
       "--------------------- ------------- ----------- ----------\n",
       "OGLE-2016-BLG-1227L b           nan         nan        nan\n",
       "             GJ 480 b           nan       9.567        nan\n",
       "         Kepler-276 c         563.0      31.884      5.099\n",
       "         Kepler-829 b         857.0  6.88337562     2.2442\n",
       "             K2-283 b        1186.0    1.921036     1.7496\n",
       "         Kepler-477 b         649.0 11.11990653     3.3296\n",
       "           HAT-P-15 b         904.0     10.8635      5.484\n",
       "          HD 149143 b           nan     4.07182        nan\n",
       "          HD 210702 b           nan       354.1        nan\n",
       "          HIP 12961 b           nan      57.435        nan\n",
       "               XO-5 b        1230.0   4.1877558     3.1176\n",
       "            HD 5608 b           nan       779.9        nan\n",
       "           HD 95872 b           nan      4375.0        nan\n",
       "OGLE-2015-BLG-0966L b           nan         nan        nan\n",
       "           WASP-123 b        1520.0   2.9776412     3.0936\n",
       "            tau Cet e           nan      162.87        nan\n",
       "             K2-254 c         551.0    12.11839        nan\n",
       "           HD 26965 b           nan      42.378        nan\n",
       "     EPIC 220554210 c           nan     0.70531      1.704\n",
       "      NSVS 14256825 b           nan      3225.0        nan\n",
       "        Kepler-1390 b         934.0  6.48021673      3.211\n",
       "         Kepler-393 c         901.0   14.613612      5.401\n",
       "         Kepler-263 c         386.0   47.332773      3.069\n",
       "        Kepler-1431 b        1064.0  5.86601526      3.978\n",
       "         Kepler-237 c         687.0    8.103636       3.15\n",
       "        Kepler-1510 b         537.0   84.703921     10.447\n",
       "         Kepler-169 e         595.0   13.767102      2.912\n",
       "         Kepler-145 c         709.0      42.882     9.7471\n",
       "         Kepler-219 c         766.0   22.714613      5.808\n",
       "         Kepler-910 b        1752.0  2.36436901     3.2852\n",
       "        Kepler-1037 b        1650.0  1.06378867     1.0764\n",
       "         Kepler-992 b         510.0 20.16034462     3.8215\n",
       "                  ...           ...         ...        ...\n",
       "        Kepler-1868 b         215.0 211.0339966      7.119\n",
       "        Kepler-1878 b        1063.0  4.44587994     2.3816\n",
       "        Kepler-1895 b         789.0  6.07029009       1.29\n",
       "        Kepler-1898 b        1167.0  4.76562023      2.165\n",
       "        Kepler-1901 b        1132.0  3.48412991      1.356\n",
       "        Kepler-1910 b         645.0  5.68876982       2.55\n",
       "        Kepler-1913 b         818.0  14.1960001      3.577\n",
       "        Kepler-1914 b         585.0 30.82789993      4.192\n",
       "        Kepler-1918 b         497.0  47.0564003      4.803\n",
       "        Kepler-1921 b         967.0 20.03479958      6.627\n",
       "        Kepler-1923 b         553.0 52.60969925      8.202\n",
       "        Kepler-1965 b         492.0 41.86869812      5.783\n",
       "        Kepler-1930 b         643.0 13.02680016      0.785\n",
       "        Kepler-1931 b         619.0  38.5760994     19.861\n",
       "        Kepler-1933 b        1058.0  4.94329023     2.9334\n",
       "          Kepler-27 d         810.0  6.54628992      2.993\n",
       "         Kepler-381 d        1387.0  8.25629997     1.9904\n",
       "         Kepler-394 d        1165.0  5.61358023       2.95\n",
       "        Kepler-1848 b         774.0  5.60402012     1.0273\n",
       "        Kepler-1813 b        1059.0  2.81816006     1.7758\n",
       "        Kepler-1876 b        1194.0  6.99202013      4.842\n",
       "        Kepler-1896 b         536.0 44.87020111      4.199\n",
       "        Kepler-1897 b         505.0 24.22030067      3.271\n",
       "        Kepler-1899 b         851.0   4.0957799      1.704\n",
       "        Kepler-1904 b         567.0  4.57702017      0.949\n",
       "        Kepler-1905 b        1212.0  3.42392993      1.794\n",
       "           TOI-2109 b        3646.0  0.67247414      1.801\n",
       "           TOI-1842 b 1007.73230504      9.5739        4.3\n",
       "             2M0437 b        1450.0         nan        nan\n",
       "          HATS-74 A b         895.1  1.73185606    1.65336\n",
       "            HATS-75 b         772.3   2.7886556    1.91256\n",
       "            HATS-76 b         939.8   1.9416423     1.8576\n",
       "            HATS-77 b         828.3   3.0876262    2.22768"
      ]
     },
     "execution_count": 3,
     "metadata": {},
     "output_type": "execute_result"
    }
   ],
   "source": [
    "data['pl_name', 'pl_eqt', 'pl_orbper', 'pl_trandur']"
   ]
  },
  {
   "cell_type": "markdown",
   "metadata": {},
   "source": [
    "### Choose only some planets\n",
    "(can auto-complete/guess if unique, case sensitive)"
   ]
  },
  {
   "cell_type": "code",
   "execution_count": 4,
   "metadata": {},
   "outputs": [
    {
     "data": {
      "text/html": [
       "<div><i>ExoFile length=3</i>\n",
       "<table id=\"table140414870396960\" class=\"table-striped table-bordered table-condensed\">\n",
       "<thead><tr><th>pl_name</th><th>pl_eqt</th><th>pl_orbper</th><th>pl_trandur</th></tr></thead>\n",
       "<thead><tr><th></th><th>K</th><th>d</th><th>d</th></tr></thead>\n",
       "<thead><tr><th>str29</th><th>float64</th><th>float64</th><th>float64</th></tr></thead>\n",
       "<tr><td>HD 189733 b</td><td>1209.0</td><td>0.0</td><td>1.803648</td></tr>\n",
       "<tr><td>WASP-33 b</td><td>2781.7</td><td>1.21987</td><td>2.8536</td></tr>\n",
       "<tr><td>KELT-9 b</td><td>4050.0</td><td>1.4811235</td><td>3.91584</td></tr>\n",
       "</table></div>"
      ],
      "text/plain": [
       "<ExoFile length=3>\n",
       "  pl_name    pl_eqt pl_orbper pl_trandur\n",
       "               K        d         d     \n",
       "   str29    float64  float64   float64  \n",
       "----------- ------- --------- ----------\n",
       "HD 189733 b  1209.0       0.0   1.803648\n",
       "  WASP-33 b  2781.7   1.21987     2.8536\n",
       "   KELT-9 b  4050.0 1.4811235    3.91584"
      ]
     },
     "execution_count": 4,
     "metadata": {},
     "output_type": "execute_result"
    }
   ],
   "source": [
    "data.by_pl_name('HD 189733 b', 'WASP-33 b', 'KELT-9 b')['pl_name', 'pl_eqt', 'pl_orbper', 'pl_trandur']"
   ]
  },
  {
   "cell_type": "markdown",
   "metadata": {},
   "source": [
    "## Find reference"
   ]
  },
  {
   "cell_type": "code",
   "execution_count": 5,
   "metadata": {},
   "outputs": [
    {
     "data": {
      "text/html": [
       "&lt;MaskedColumn name=&apos;pl_eqt_reflink&apos; dtype=&apos;str40&apos; length=1&gt;\n",
       "<table>\n",
       "<tr><td>Addison et al. 2019</td></tr>\n",
       "</table>"
      ],
      "text/plain": [
       "<MaskedColumn name='pl_eqt_reflink' dtype='str40' length=1>\n",
       "Addison et al. 2019"
      ]
     },
     "execution_count": 5,
     "metadata": {},
     "output_type": "execute_result"
    }
   ],
   "source": [
    "data.by_pl_name('HD 189733 b')['pl_eqt_reflink']"
   ]
  },
  {
   "cell_type": "markdown",
   "metadata": {},
   "source": [
    "# Define custom values on your computer\n",
    "It is recommended to keep a file with your preferred values. It can be a simple .csv file that you can simply edit with excel. If you do so, make sure the column names and the units are the same as the NASA exoplanet archive."
   ]
  },
  {
   "cell_type": "code",
   "execution_count": 6,
   "metadata": {},
   "outputs": [],
   "source": [
    "from exofile.config import edit_param  # To edit\n",
    "\n",
    "from exofile.config import Param  # To show the current parameters\n",
    "from exofile.config import reset_param  # To reset parameters"
   ]
  },
  {
   "cell_type": "markdown",
   "metadata": {},
   "source": [
    "## 1. Specify the path to your custom table\n",
    "- A good practice is to keep a dedicated directory for the custom file, so it will always be loaded by `ExoFile.load()` wherever you are in your computer.\n",
    "### You need to modify the default parameters of the code (only once):\n",
    "Note that I'm using a .csv file so it's easier to edit with excel or numbers. However, you might need to specify the delimiter when loading (in my case, excel saves a .csv with \";\" and not \",\"): `ExoFile.load(delimiter=\";\")`. You might also need to specify the encoding, for example: `ExoFile.load(encoding='utf-8-sig')`. All the keywords used by `astropy.table.Table.read()` can be passed to `ExoFile.load()` to read the custom file."
   ]
  },
  {
   "cell_type": "code",
   "execution_count": 7,
   "metadata": {},
   "outputs": [
    {
     "data": {
      "text/plain": [
       "!!python/object/apply:collections.OrderedDict\n",
       "- - - sheet_key\n",
       "    - Description: string, Key of the google sheet with custom values\n",
       "      Value: 1eAhWaff9mURg3TJ1Sp1VkAaMxeZEcKKs05w1kiGFVhs\n",
       "  - - url\n",
       "    - Description: string, Where to find the exofile, generated from NASA composite\n",
       "        table (url)\n",
       "      Value: https://www.astro.umontreal.ca/~adb/exofile.ecsv\n",
       "  - - url_alt\n",
       "    - Description: string, Where to find the \"alternative\" exofile, generated with\n",
       "        NASA PS table and \"full-row\" merge (url)\n",
       "      Value: https://www.astro.umontreal.ca/~adb/exofile_alt.ecsv\n",
       "  - - custom_file\n",
       "    - Description: string, Local file with custom values. Will be used to complement\n",
       "        the online exofile\n",
       "      Value: !!python/object/apply:pathlib.PosixPath\n",
       "      - exofile_custom.csv\n",
       "  - - exofile\n",
       "    - Description: string, Local exofile to use offline.\n",
       "      Value: !!python/object/apply:pathlib.PosixPath\n",
       "      - my_local_exofile.ecsv\n",
       "  - - exofile_alt\n",
       "    - Description: string, Local alternative exofile to use offline.\n",
       "      Value: !!python/object/apply:pathlib.PosixPath\n",
       "      - my_local_exofile_alt.ecsv\n",
       "  - - archive_mappings_csv\n",
       "    - Description: string, Local copy of file containing exoplanet archive CSV mappings\n",
       "      Value: Exoplanet_Archive_Column_Mapping_CSV.csv"
      ]
     },
     "execution_count": 7,
     "metadata": {},
     "output_type": "execute_result"
    }
   ],
   "source": [
    "# Edit the path to your local values\n",
    "from pathlib import Path\n",
    "PATH_TO_EXOFILE_DIR = Path(\".\")\n",
    "edit_param(custom_file=PATH_TO_EXOFILE_DIR / 'exofile_custom.csv')\n",
    "\n",
    "# Show all the default parameters. You can see the modified 'custom_file' key\n",
    "Param.load()"
   ]
  },
  {
   "cell_type": "code",
   "execution_count": 8,
   "metadata": {},
   "outputs": [
    {
     "data": {
      "text/plain": [
       "{'Value': 'exofile_custom.ecsv',\n",
       " 'Description': 'string, Local file with custom values. Will be used to complement the online exofile'}"
      ]
     },
     "execution_count": 8,
     "metadata": {},
     "output_type": "execute_result"
    }
   ],
   "source": [
    "# Not satisfied? Run reset_param() to go back to default parameters\n",
    "reset_param()\n",
    "Param.load()['custom_file']  # Show modification"
   ]
  },
  {
   "cell_type": "markdown",
   "metadata": {},
   "source": [
    "## 2. If the table exists, you're done! It will read it when using `ExoFile.load()`. Now, if you want to create the file, you can do it with excel and create a .csv or you can do it in a code with the ExoFile as follow."
   ]
  },
  {
   "cell_type": "code",
   "execution_count": 9,
   "metadata": {},
   "outputs": [
    {
     "data": {
      "text/html": [
       "<div><i>ExoFile masked=True length=2</i>\n",
       "<table id=\"table140414870402960\" class=\"table-striped table-bordered table-condensed\">\n",
       "<thead><tr><th>pl_name</th><th>pl_eqt</th><th>pl_trandur</th></tr></thead>\n",
       "<thead><tr><th></th><th></th><th>h</th></tr></thead>\n",
       "<thead><tr><th>str30</th><th>float64</th><th>float64</th></tr></thead>\n",
       "<tr><td>HD 189733 b</td><td>3000.0</td><td>--</td></tr>\n",
       "<tr><td>NewSecretPlanet b</td><td>2156.0</td><td>3.21</td></tr>\n",
       "</table></div>"
      ],
      "text/plain": [
       "<ExoFile masked=True length=2>\n",
       "     pl_name       pl_eqt pl_trandur\n",
       "                              h     \n",
       "      str30       float64  float64  \n",
       "----------------- ------- ----------\n",
       "      HD 189733 b  3000.0         --\n",
       "NewSecretPlanet b  2156.0       3.21"
      ]
     },
     "execution_count": 9,
     "metadata": {},
     "output_type": "execute_result"
    }
   ],
   "source": [
    "# Better to use masked column\n",
    "from exofile.table_custom import MaskedColumn\n",
    "custom = ExoFile(masked=True)\n",
    "\n",
    "# Define columns\n",
    "custom.add_column(MaskedColumn(name='pl_name', dtype='U30'))\n",
    "custom.add_column(MaskedColumn(name='pl_eqt'))\n",
    "custom.add_column(MaskedColumn(name='pl_trandur', unit='h'))\n",
    "\n",
    "# Add custom values\n",
    "custom.add_row({'pl_name':'HD 189733 b', 'pl_eqt':3000.})\n",
    "custom.add_row({'pl_name':'NewSecretPlanet b', 'pl_trandur':3.21, 'pl_eqt':2156})\n",
    "\n",
    "# Re-mask the table since add_row deals weirdly with masks\n",
    "custom = ExoFile(custom, masked=True)\n",
    "custom"
   ]
  },
  {
   "cell_type": "code",
   "execution_count": 10,
   "metadata": {},
   "outputs": [],
   "source": [
    "# Save the table to default custom table.\n",
    "custom.write_to_custom()"
   ]
  },
  {
   "cell_type": "markdown",
   "metadata": {},
   "source": [
    "Note that the default custom file is a .ecsv. It has the advantage to save the units. However, excel does not support it, so you would always need to edit it with a code like above."
   ]
  },
  {
   "cell_type": "markdown",
   "metadata": {},
   "source": [
    "### We can test if the modification worked"
   ]
  },
  {
   "cell_type": "code",
   "execution_count": 11,
   "metadata": {},
   "outputs": [
    {
     "name": "stderr",
     "output_type": "stream",
     "text": [
      "WARNING: NoUnitsWarning: Units conflict for 'pl_eqt' column. No units were specified. Assuming 'K'. [exofile.archive]\n",
      "WARNING: ColUnitsWarning: Units conflict for 'pl_trandur' column. Converting 'h' to 'd'. Make sure units were properly converted. [exofile.archive]\n"
     ]
    }
   ],
   "source": [
    "data = ExoFile.load()"
   ]
  },
  {
   "cell_type": "code",
   "execution_count": 12,
   "metadata": {},
   "outputs": [
    {
     "data": {
      "text/html": [
       "<div><i>ExoFile length=2</i>\n",
       "<table id=\"table140414870456112\" class=\"table-striped table-bordered table-condensed\">\n",
       "<thead><tr><th>pl_name</th><th>pl_eqt</th><th>pl_trandur</th></tr></thead>\n",
       "<thead><tr><th></th><th>K</th><th>d</th></tr></thead>\n",
       "<thead><tr><th>str29</th><th>float64</th><th>float64</th></tr></thead>\n",
       "<tr><td>HD 189733 b</td><td>3000.0</td><td>1.803648</td></tr>\n",
       "<tr><td>NewSecretPlanet b</td><td>2156.0</td><td>0.13374999999999998</td></tr>\n",
       "</table></div>"
      ],
      "text/plain": [
       "<ExoFile length=2>\n",
       "     pl_name       pl_eqt      pl_trandur    \n",
       "                     K             d         \n",
       "      str29       float64       float64      \n",
       "----------------- ------- -------------------\n",
       "      HD 189733 b  3000.0            1.803648\n",
       "NewSecretPlanet b  2156.0 0.13374999999999998"
      ]
     },
     "execution_count": 12,
     "metadata": {},
     "output_type": "execute_result"
    }
   ],
   "source": [
    "data.by_pl_name('HD 189733 b', 'NewSecret')['pl_name','pl_eqt','pl_trandur']"
   ]
  },
  {
   "cell_type": "markdown",
   "metadata": {},
   "source": [
    "Note that __pl_trandur__ column has been convert to days to match _exofile.ecsv_ units"
   ]
  },
  {
   "cell_type": "markdown",
   "metadata": {},
   "source": [
    "### The reference for these values will automatically change"
   ]
  },
  {
   "cell_type": "code",
   "execution_count": 13,
   "metadata": {},
   "outputs": [
    {
     "data": {
      "text/html": [
       "<div><i>ExoFile length=2</i>\n",
       "<table id=\"table140414870456352\" class=\"table-striped table-bordered table-condensed\">\n",
       "<thead><tr><th>pl_name</th><th>pl_eqt_reflink</th><th>pl_trandur_reflink</th></tr></thead>\n",
       "<thead><tr><th>str29</th><th>str40</th><th>str31</th></tr></thead>\n",
       "<tr><td>HD 189733 b</td><td>custom ref</td><td>Baluev et al. 2015</td></tr>\n",
       "<tr><td>NewSecretPlanet b</td><td>custom ref</td><td>custom ref</td></tr>\n",
       "</table></div>"
      ],
      "text/plain": [
       "<ExoFile length=2>\n",
       "     pl_name      pl_eqt_reflink pl_trandur_reflink\n",
       "      str29           str40            str31       \n",
       "----------------- -------------- ------------------\n",
       "      HD 189733 b     custom ref Baluev et al. 2015\n",
       "NewSecretPlanet b     custom ref         custom ref"
      ]
     },
     "execution_count": 13,
     "metadata": {},
     "output_type": "execute_result"
    }
   ],
   "source": [
    "data.by_pl_name('HD 189733 b', 'NewSecret')['pl_name','pl_eqt_reflink','pl_trandur_reflink']"
   ]
  },
  {
   "cell_type": "markdown",
   "metadata": {},
   "source": [
    "# Keep a version of the exofile on your computer\n",
    "\n",
    "Usefull to be able to work offline, or save a subsample of the exofile to be quicker to use\n",
    "### WARNING: Remember to NOT edit the exofile direclty, use custom_table instead."
   ]
  },
  {
   "cell_type": "markdown",
   "metadata": {},
   "source": [
    "## 1. Save the complete _exofile.ecsv_ in a dedicated folder\n",
    "(so that `ExoFile.load()` will work offline)\n",
    "- Again, a good practice is to keep this safety _exofile.ecsv_ in the aforementioned dedicated directory (could be the same as the custom_file), so it will always be loaded by `ExoFile.load()` by default."
   ]
  },
  {
   "cell_type": "markdown",
   "metadata": {},
   "source": [
    "### a) Save a version of the exofile\n",
    "(Only this step needs an internet connection)"
   ]
  },
  {
   "cell_type": "code",
   "execution_count": 14,
   "metadata": {},
   "outputs": [],
   "source": [
    "# Save a version\n",
    "data = ExoFile.load()\n",
    "data.write(PATH_TO_EXOFILE_DIR / 'my_local_exofile.ecsv')"
   ]
  },
  {
   "cell_type": "markdown",
   "metadata": {},
   "source": [
    "### b) Specify the path of your local exofile"
   ]
  },
  {
   "cell_type": "code",
   "execution_count": 15,
   "metadata": {},
   "outputs": [],
   "source": [
    "# Edit the path to your local exofile\n",
    "edit_param(exofile=PATH_TO_EXOFILE_DIR / 'my_local_exofile.ecsv')"
   ]
  },
  {
   "cell_type": "markdown",
   "metadata": {},
   "source": [
    "### c) Load the exofile offline \n",
    "NOTE: the `query=False` is not necessary here if you're working offline. `ExoFile.load()` will automatically reach for the local default exofile if the query is not working."
   ]
  },
  {
   "cell_type": "code",
   "execution_count": 16,
   "metadata": {},
   "outputs": [],
   "source": [
    "# Read a local version:\n",
    "data = ExoFile.load(query=False)"
   ]
  },
  {
   "cell_type": "markdown",
   "metadata": {},
   "source": [
    "### Note that the same steps could be done but for the alternative file.\n",
    "This file uses a custom composite table where the rows are merged by taking all\n",
    "parameters from one reference before going to the other, instead of getting\n",
    "the most precise value for each parameter individually."
   ]
  },
  {
   "cell_type": "code",
   "execution_count": 17,
   "metadata": {},
   "outputs": [],
   "source": [
    "# Save a version\n",
    "data = ExoFile.load(use_alt_file=True)\n",
    "data.write(PATH_TO_EXOFILE_DIR / 'my_local_exofile_alt.ecsv')\n",
    "\n",
    "# Edit the path to your local exofile\n",
    "edit_param(exofile_alt=PATH_TO_EXOFILE_DIR / 'my_local_exofile_alt.ecsv')\n",
    "\n",
    "# Read a local version:\n",
    "data = ExoFile.load(query=False, use_alt_file=True)"
   ]
  },
  {
   "cell_type": "markdown",
   "metadata": {},
   "source": [
    "## 2. Save a subsample of _exofile.ecsv_ in your code directory\n",
    "(so that `ExoFile.load()` will be quicker)\n",
    "- In this case, we don't want to edit the parameters of the `exofile` code since it's specific to a routine."
   ]
  },
  {
   "cell_type": "markdown",
   "metadata": {},
   "source": [
    "### a) Save a version of the exofile\n",
    "(Only this step needs a connection)"
   ]
  },
  {
   "cell_type": "code",
   "execution_count": 18,
   "metadata": {},
   "outputs": [],
   "source": [
    "# Save a version (in this example I only need 3 exoplanets)\n",
    "sub_sample = ExoFile.load().by_pl_name('HD 189733','WASP-33', 'HD 209458')"
   ]
  },
  {
   "cell_type": "code",
   "execution_count": 19,
   "metadata": {},
   "outputs": [],
   "source": [
    "# Write in the directory where you run your routine\n",
    "PATH_TO_ROUTINE = Path(\".\")\n",
    "sub_sample.write(PATH_TO_ROUTINE / 'sub_sample_exofile.ecsv')"
   ]
  },
  {
   "cell_type": "markdown",
   "metadata": {},
   "source": [
    "### b) Specify the path of your local exofile only when loading it\n",
    "NOTES: \n",
    "- `query=False` is necessary here since otherwise, `ExoFile.load()` will only reach for the local exofile if the query doesn't work.\n",
    "- I assume the following line of code is called from your routine directory: `\"/path/to/your/routine/\"`"
   ]
  },
  {
   "cell_type": "code",
   "execution_count": 20,
   "metadata": {},
   "outputs": [
    {
     "name": "stderr",
     "output_type": "stream",
     "text": [
      "/home/vandal/astro/exofile/exofile/archive.py:332: GetLocalFileWarning: DID NOT READ CUSTOM FILE. TypeError has occur when trying to query/read custom file.\n",
      "  warn(GetLocalFileWarning(file=\"custom file\", err=e))\n"
     ]
    }
   ],
   "source": [
    "# Read a local version:\n",
    "data = ExoFile.load(query=False, exofile='sub_sample_exofile.ecsv')"
   ]
  },
  {
   "cell_type": "markdown",
   "metadata": {},
   "source": [
    "###  Again, the same steps could be done but for the reference file."
   ]
  },
  {
   "cell_type": "markdown",
   "metadata": {},
   "source": [
    "# Other considerations\n",
    "## Using in a code\n",
    "- __Local version__: It is good practice to keep a version of _exofile.ecsv_ on your computer (as show in the previous section). This way, `ExoFile.load()` will work offline without changing anything. The values won't necessary be up to date (since you have to download a version yourself), but you won't get an error, even without specifying `query=False`.\n",
    " - I recommend that you save this _exofile.ecsv_ in a dedicated folder and give the full path to `edit_param(exofile=\"/yourPATH_TO_EXOFILE_DIR/exofile.ecsv\")`\n",
    "- __Custom table__: I recommend that you put your custom values in the aforementioned dedicated folder and give the full path to `edit_param(custom_file=\"/yourPATH_TO_EXOFILE_DIR/exofile_custom.csv\")`. This way, wherever you call `ExoFile.load()`, the custom values will be added to the output table.\n",
    "- __Reduced *exofile.ecsv*__: To speed-up a code where you need only a subsample of exoplanets' informations, I recommend that you save a version of _sub_sample_exofile.ecsv_ in the directory your code is working and specify the name of the file when calling `ExoFile.load(exofile=\"sub_sample_exofile.ecsv\", query=False)` instead of editing the parameters of the `exofile` code.\n",
    "- __Dealing with astropy Table__: The exofile is a astropy table, which is useful to store data, but not to do calculations. In my opinion, it is better to convert the data you need with the desired units to an array to use it in a code. See the next lines of code for an example."
   ]
  },
  {
   "cell_type": "code",
   "execution_count": 21,
   "metadata": {},
   "outputs": [
    {
     "data": {
      "text/plain": [
       "masked_array(data=[nan, nan, 563.0, ..., 939.8, 828.3, 2156.0],\n",
       "             mask=[False, False, False, ..., False, False, False],\n",
       "       fill_value=1e+20)"
      ]
     },
     "execution_count": 21,
     "metadata": {},
     "output_type": "execute_result"
    }
   ],
   "source": [
    "# Example: Get all available equilibrium temperatures\n",
    "# and make sure it is in Kelvins\n",
    "data['pl_eqt'].to_array(units='K')"
   ]
  },
  {
   "cell_type": "code",
   "execution_count": 22,
   "metadata": {},
   "outputs": [
    {
     "data": {
      "text/plain": [
       "array([   nan,    nan,  563. , ...,  939.8,  828.3, 2156. ])"
      ]
     },
     "execution_count": 22,
     "metadata": {},
     "output_type": "execute_result"
    }
   ],
   "source": [
    "# The method returns a masked array.\n",
    "# If you prefer to use Nans:\n",
    "from numpy import nan\n",
    "eqt = data['pl_eqt'].to_array(units='K')\n",
    "eqt = eqt.filled(fill_value=nan)\n",
    "eqt"
   ]
  },
  {
   "cell_type": "markdown",
   "metadata": {},
   "source": [
    "*Everything you need to understand on how to use the exofile is above.* <br>*The next part of the notebook is just supplementary example of what you could do.*\n",
    "-------"
   ]
  },
  {
   "cell_type": "markdown",
   "metadata": {},
   "source": [
    "# Bonus utilities\n",
    "\n",
    "## Calculate missing time of periastron\n",
    "\n",
    "Some parameters are missing from the NASA exoplanet archive. A common example is the time of periastron, which is sometimes instead specify as a transit time (these are usually in the archive), or as $\\tau$ or $\\chi$, which is defined as\n",
    "\n",
    "$$\n",
    "\\tau = (t_{\\mathrm{ref}} - t_p) / P\n",
    "$$\n",
    "\n",
    "Where $P$ is the period, $t_p$ the time of periastron and $t_{\\mathrm{ref}}$ is a reference time (often the first observation).\n",
    "\n",
    "For many use cases, it is more convenient to have $t_p$, so we provide a utility function to derive it. In the example below, we use this function to obtain $t_p$ for GJ 536 b, based on results from [Mascareño et al. (2017)](https://ui.adsabs.harvard.edu/abs/2017A%26A...597A.108S/abstract). The values for $\\tau$ and $P$ are in the paper ($\\tau$ is labeled $\\chi$), and the first observation time can be found from [the RV data](http://cdsarc.u-strasbg.fr/viz-bin/qcat?J/A+A/597/A108#/browse)."
   ]
  },
  {
   "cell_type": "code",
   "execution_count": 4,
   "metadata": {},
   "outputs": [
    {
     "name": "stdout",
     "output_type": "stream",
     "text": [
      "Tp for GJ 536 b is 2453194.91 +/- 0.87\n"
     ]
    }
   ],
   "source": [
    "from astropy import uncertainty as unc\n",
    "import numpy as np\n",
    "import exofile.utils as ut\n",
    "\n",
    "tref = 3202.5590 + 2450000\n",
    "n_samples = 10_000\n",
    "per = unc.normal(8.7076, std=np.mean([0.0022, 0.0025]), n_samples=n_samples)\n",
    "tau = unc.normal(0.88, std=np.mean([0.08, 0.12]), n_samples=n_samples)\n",
    "\n",
    "tp, tp_err = np.round(ut.get_tp_from_tau(tau, per, tref), 2)\n",
    "\n",
    "print(f\"Tp for GJ 536 b is {tp} +/- {tp_err}\")"
   ]
  },
  {
   "cell_type": "markdown",
   "metadata": {},
   "source": [
    "We could then add these values to a custom exofile so that they are stored somewhere for future use."
   ]
  },
  {
   "cell_type": "markdown",
   "metadata": {},
   "source": [
    "## Accessing tables from NASA exoplanet archive\n",
    "The Planetary System and Planetary System Composite Parameters tables be\n",
    "queried with `exofile`. The PS table has one entry for every parameter set\n",
    "for each planet, so it takes a while to long. Under the hood, `exofile` uses \n",
    "\n",
    "_NOTE: `exofile` queries accept arbitrary critera that are passed to the Astroquery\n",
    "interface for the exoplanet archive tables._\n",
    "\n",
    "### Example with the PSCP table\n",
    "This will work only with internet acess."
   ]
  },
  {
   "cell_type": "code",
   "execution_count": 23,
   "metadata": {},
   "outputs": [
    {
     "name": "stderr",
     "output_type": "stream",
     "text": [
      "WARNING: column st_lum has a unit but is kept as a MaskedColumn as an attempt to convert it to Quantity failed with:\n",
      "UnitTypeError(\"MaskedQuantity instances require normal units, not <class 'astropy.units.function.logarithmic.DexUnit'> instances.\") [astropy.table.table]\n",
      "WARNING: column st_lumerr1 has a unit but is kept as a MaskedColumn as an attempt to convert it to Quantity failed with:\n",
      "UnitTypeError(\"MaskedQuantity instances require normal units, not <class 'astropy.units.function.logarithmic.DexUnit'> instances.\") [astropy.table.table]\n",
      "WARNING: column st_lumerr2 has a unit but is kept as a MaskedColumn as an attempt to convert it to Quantity failed with:\n",
      "UnitTypeError(\"MaskedQuantity instances require normal units, not <class 'astropy.units.function.logarithmic.DexUnit'> instances.\") [astropy.table.table]\n",
      "WARNING: column st_logg has a unit but is kept as a MaskedColumn as an attempt to convert it to Quantity failed with:\n",
      "UnitTypeError(\"MaskedQuantity instances require normal units, not <class 'astropy.units.function.logarithmic.DexUnit'> instances.\") [astropy.table.table]\n",
      "WARNING: column st_loggerr1 has a unit but is kept as a MaskedColumn as an attempt to convert it to Quantity failed with:\n",
      "UnitTypeError(\"MaskedQuantity instances require normal units, not <class 'astropy.units.function.logarithmic.DexUnit'> instances.\") [astropy.table.table]\n",
      "WARNING: column st_loggerr2 has a unit but is kept as a MaskedColumn as an attempt to convert it to Quantity failed with:\n",
      "UnitTypeError(\"MaskedQuantity instances require normal units, not <class 'astropy.units.function.logarithmic.DexUnit'> instances.\") [astropy.table.table]\n"
     ]
    }
   ],
   "source": [
    "from exofile.archive import ExoArchive\n",
    "\n",
    "# Query the whole archive, so can take some time\n",
    "pscp = ExoArchive.query()"
   ]
  },
  {
   "cell_type": "code",
   "execution_count": 24,
   "metadata": {},
   "outputs": [
    {
     "data": {
      "text/html": [
       "<div><i>ExoArchive length=1</i>\n",
       "<table id=\"table140414787227408\" class=\"table-striped table-bordered table-condensed\">\n",
       "<thead><tr><th>pl_name</th><th>pl_orbper</th><th>pl_orbper_reflink</th></tr></thead>\n",
       "<thead><tr><th></th><th>d</th><th></th></tr></thead>\n",
       "<thead><tr><th>str29</th><th>float64</th><th>str176</th></tr></thead>\n",
       "<tr><td>HD 189733 b</td><td>2.21857567</td><td>&lt;a refstr=STASSUN_ET_AL__2017 href=https://ui.adsabs.harvard.edu/abs/2017AJ....153..136S/abstract target=ref&gt;Stassun et al. 2017&lt;/a&gt;</td></tr>\n",
       "</table></div>"
      ],
      "text/plain": [
       "<ExoArchive length=1>\n",
       "  pl_name   pl_orbper                                                           pl_orbper_reflink                                                          \n",
       "                d                                                                                                                                          \n",
       "   str29     float64                                                                  str176                                                               \n",
       "----------- ---------- ------------------------------------------------------------------------------------------------------------------------------------\n",
       "HD 189733 b 2.21857567 <a refstr=STASSUN_ET_AL__2017 href=https://ui.adsabs.harvard.edu/abs/2017AJ....153..136S/abstract target=ref>Stassun et al. 2017</a>"
      ]
     },
     "execution_count": 24,
     "metadata": {},
     "output_type": "execute_result"
    }
   ],
   "source": [
    "# Get index of a planet in the table\n",
    "index = pscp['pl_name'].find('HD 189733')[0]\n",
    "pscp[index]['pl_name', 'pl_orbper', 'pl_orbper_reflink']"
   ]
  },
  {
   "cell_type": "markdown",
   "metadata": {},
   "source": [
    "# Other examples"
   ]
  },
  {
   "cell_type": "markdown",
   "metadata": {},
   "source": [
    "## Search exoplanets confirmed by TESS"
   ]
  },
  {
   "cell_type": "code",
   "execution_count": 25,
   "metadata": {},
   "outputs": [
    {
     "data": {
      "text/html": [
       "<div><i>ExoFile length=180</i>\n",
       "<table id=\"table140414787227024\" class=\"table-striped table-bordered table-condensed\">\n",
       "<thead><tr><th>pl_name</th><th>disc_facility</th><th>pl_trandur</th><th>pl_bmassj</th><th>pl_eqt</th><th>sy_jmag</th></tr></thead>\n",
       "<thead><tr><th></th><th></th><th>d</th><th>jupiterMass</th><th>K</th><th>mag</th></tr></thead>\n",
       "<thead><tr><th>str29</th><th>str60</th><th>float64</th><th>float64</th><th>float64</th><th>float64</th></tr></thead>\n",
       "<tr><td>WD 1856+534 b</td><td>Transiting Exoplanet Survey Satellite (TESS)</td><td>0.1333</td><td>13.8</td><td>163.0</td><td>15.677</td></tr>\n",
       "<tr><td>TOI-1201 b</td><td>Transiting Exoplanet Survey Satellite (TESS)</td><td>1.747</td><td>0.01976</td><td>703.0</td><td>9.528</td></tr>\n",
       "<tr><td>LTT 1445 A c</td><td>Transiting Exoplanet Survey Satellite (TESS)</td><td>0.482</td><td>0.00485</td><td>508.0</td><td>7.294</td></tr>\n",
       "<tr><td>HD 213885 b</td><td>Transiting Exoplanet Survey Satellite (TESS)</td><td>1.545466</td><td>0.02778</td><td>2128.0</td><td>6.806</td></tr>\n",
       "<tr><td>HD 219666 b</td><td>Transiting Exoplanet Survey Satellite (TESS)</td><td>2.158</td><td>0.05223</td><td>1073.0</td><td>8.557</td></tr>\n",
       "<tr><td>HD 110113 b</td><td>Transiting Exoplanet Survey Satellite (TESS)</td><td>2.376</td><td>0.01432</td><td>1371.0</td><td>8.903</td></tr>\n",
       "<tr><td>HD 202772 A b</td><td>Transiting Exoplanet Survey Satellite (TESS)</td><td>5.6304</td><td>1.017</td><td>2132.0</td><td>7.232</td></tr>\n",
       "<tr><td>HD 221416 b</td><td>Transiting Exoplanet Survey Satellite (TESS)</td><td>8.488</td><td>0.19</td><td>1012.0</td><td>6.568</td></tr>\n",
       "<tr><td>HD 191939 d</td><td>Transiting Exoplanet Survey Satellite (TESS)</td><td>5.527</td><td>0.0319</td><td>499.0</td><td>7.597</td></tr>\n",
       "<tr><td>TOI-216.01</td><td>Transiting Exoplanet Survey Satellite (TESS)</td><td>5.514</td><td>0.62927</td><td>497.0</td><td>10.759</td></tr>\n",
       "<tr><td>TOI-1130 b</td><td>Transiting Exoplanet Survey Satellite (TESS)</td><td>2.3</td><td>0.0407</td><td>810.0</td><td>9.055</td></tr>\n",
       "<tr><td>TOI-763 b</td><td>Transiting Exoplanet Survey Satellite (TESS)</td><td>2.777366</td><td>0.0308</td><td>1038.0</td><td>8.858</td></tr>\n",
       "<tr><td>TOI-540 b</td><td>Transiting Exoplanet Survey Satellite (TESS)</td><td>0.345812</td><td>0.00212</td><td>611.0</td><td>9.755</td></tr>\n",
       "<tr><td>GJ 3473 b</td><td>Transiting Exoplanet Survey Satellite (TESS)</td><td>0.95</td><td>0.00585</td><td>773.0</td><td>9.627</td></tr>\n",
       "<tr><td>HD 108236 e</td><td>Transiting Exoplanet Survey Satellite (TESS)</td><td>4.2</td><td>0.0306</td><td>636.0</td><td>8.046</td></tr>\n",
       "<tr><td>HD 110082 b</td><td>Transiting Exoplanet Survey Satellite (TESS)</td><td>2.91</td><td>0.0325</td><td>955.146119</td><td>8.272</td></tr>\n",
       "<tr><td>TOI-1259 A b</td><td>Transiting Exoplanet Survey Satellite (TESS)</td><td>2.4754</td><td>0.441</td><td>963.0</td><td>10.226</td></tr>\n",
       "<tr><td>HD 108236 d</td><td>Transiting Exoplanet Survey Satellite (TESS)</td><td>3.85</td><td>0.022</td><td>708.0</td><td>8.046</td></tr>\n",
       "<tr><td>HR 858 b</td><td>Transiting Exoplanet Survey Satellite (TESS)</td><td>2.7096</td><td>0.0157</td><td>1572.0</td><td>5.473</td></tr>\n",
       "<tr><td>HIP 67522 b</td><td>Transiting Exoplanet Survey Satellite (TESS)</td><td>4.822</td><td>0.228</td><td>1174.0</td><td>8.587</td></tr>\n",
       "<tr><td>HIP 65 A b</td><td>Transiting Exoplanet Survey Satellite (TESS)</td><td>0.78576</td><td>3.213</td><td>1411.0</td><td>8.922</td></tr>\n",
       "<tr><td>TOI-1260 c</td><td>Transiting Exoplanet Survey Satellite (TESS)</td><td>1.96</td><td>0.03713</td><td>643.0</td><td>9.698</td></tr>\n",
       "<tr><td>TOI-558 b</td><td>Transiting Exoplanet Survey Satellite (TESS)</td><td>0.1127</td><td>3.61</td><td>1061.0</td><td>10.581</td></tr>\n",
       "<tr><td>TOI-1266 b</td><td>Transiting Exoplanet Survey Satellite (TESS)</td><td>2.1288</td><td>0.04248</td><td>413.0</td><td>9.706</td></tr>\n",
       "<tr><td>TOI-421 b</td><td>Transiting Exoplanet Survey Satellite (TESS)</td><td>1.107</td><td>0.02256</td><td>981.4</td><td>8.547</td></tr>\n",
       "<tr><td>L 168-9 b</td><td>Transiting Exoplanet Survey Satellite (TESS)</td><td>1.239376</td><td>0.01447</td><td>965.0</td><td>7.941</td></tr>\n",
       "<tr><td>L 98-59 b</td><td>Transiting Exoplanet Survey Satellite (TESS)</td><td>0.992</td><td>0.00126</td><td>627.0</td><td>7.933</td></tr>\n",
       "<tr><td>TOI-421 c</td><td>Transiting Exoplanet Survey Satellite (TESS)</td><td>2.71</td><td>0.05166</td><td>673.6</td><td>8.547</td></tr>\n",
       "<tr><td>LHS 3844 b</td><td>Transiting Exoplanet Survey Satellite (TESS)</td><td>0.5212</td><td>0.00708</td><td>805.0</td><td>10.046</td></tr>\n",
       "<tr><td>NGTS-11 b</td><td>Transiting Exoplanet Survey Satellite (TESS)</td><td>3.59</td><td>0.344</td><td>435.0</td><td>10.855</td></tr>\n",
       "<tr><td>TOI-1431 b</td><td>Transiting Exoplanet Survey Satellite (TESS)</td><td>2.489</td><td>3.12</td><td>2370.0</td><td>7.541</td></tr>\n",
       "<tr><td>TOI-813 b</td><td>Transiting Exoplanet Survey Satellite (TESS)</td><td>11.947</td><td>0.114</td><td>610.0</td><td>9.326</td></tr>\n",
       "<tr><td>...</td><td>...</td><td>...</td><td>...</td><td>...</td><td>...</td></tr>\n",
       "<tr><td>LP 791-18 b</td><td>Transiting Exoplanet Survey Satellite (TESS)</td><td>0.612</td><td>0.00459</td><td>650.0</td><td>11.559</td></tr>\n",
       "<tr><td>TOI-122 b</td><td>Transiting Exoplanet Survey Satellite (TESS)</td><td>1.09</td><td>0.0247</td><td>471.0</td><td>11.531</td></tr>\n",
       "<tr><td>L 98-59 c</td><td>Transiting Exoplanet Survey Satellite (TESS)</td><td>1.346</td><td>0.00698</td><td>553.0</td><td>7.933</td></tr>\n",
       "<tr><td>TOI-172 b</td><td>Transiting Exoplanet Survey Satellite (TESS)</td><td>4.7136</td><td>5.42</td><td>1198.0</td><td>10.135</td></tr>\n",
       "<tr><td>HD 63433 b</td><td>Transiting Exoplanet Survey Satellite (TESS)</td><td>3.216</td><td>0.0166</td><td>885.898044</td><td>5.624</td></tr>\n",
       "<tr><td>GJ 143 b</td><td>Transiting Exoplanet Survey Satellite (TESS)</td><td>3.23</td><td>0.07142</td><td>422.0</td><td>6.081</td></tr>\n",
       "<tr><td>HD 15337 b</td><td>Transiting Exoplanet Survey Satellite (TESS)</td><td>2.49</td><td>0.02363</td><td>1001.0</td><td>7.553</td></tr>\n",
       "<tr><td>TOI-269 b</td><td>Transiting Exoplanet Survey Satellite (TESS)</td><td>0.86142</td><td>0.02769</td><td>531.0</td><td>10.909</td></tr>\n",
       "<tr><td>TOI-257 b</td><td>Transiting Exoplanet Survey Satellite (TESS)</td><td>6.485</td><td>0.138</td><td>1027.0</td><td>6.504</td></tr>\n",
       "<tr><td>HD 5278 b</td><td>Transiting Exoplanet Survey Satellite (TESS)</td><td>4.8</td><td>0.02454</td><td>943.0</td><td>6.949</td></tr>\n",
       "<tr><td>LHS 1478 b</td><td>Transiting Exoplanet Survey Satellite (TESS)</td><td>0.705</td><td>0.00733</td><td>595.0</td><td>9.615</td></tr>\n",
       "<tr><td>TOI-1749 b</td><td>Transiting Exoplanet Survey Satellite (TESS)</td><td>nan</td><td>0.17934</td><td>831.0</td><td>11.069</td></tr>\n",
       "<tr><td>TOI-1749 d</td><td>Transiting Exoplanet Survey Satellite (TESS)</td><td>1.941802</td><td>0.0472</td><td>533.0</td><td>11.069</td></tr>\n",
       "<tr><td>TOI-1749 c</td><td>Transiting Exoplanet Survey Satellite (TESS)</td><td>1.865111</td><td>0.04405</td><td>673.0</td><td>11.069</td></tr>\n",
       "<tr><td>TOI-1062 b</td><td>Transiting Exoplanet Survey Satellite (TESS)</td><td>1.175</td><td>0.03194</td><td>1077.0</td><td>8.777</td></tr>\n",
       "<tr><td>TOI-1278 b</td><td>Transiting Exoplanet Survey Satellite (TESS)</td><td>1.557437</td><td>18.5</td><td>407.855835</td><td>10.601</td></tr>\n",
       "<tr><td>TOI-431 c</td><td>Transiting Exoplanet Survey Satellite (TESS)</td><td>nan</td><td>0.0089</td><td>867.0</td><td>7.305</td></tr>\n",
       "<tr><td>TOI-1062 c</td><td>Transiting Exoplanet Survey Satellite (TESS)</td><td>nan</td><td>0.03077</td><td>859.0</td><td>8.777</td></tr>\n",
       "<tr><td>TOI-270 d</td><td>Transiting Exoplanet Survey Satellite (TESS)</td><td>2.148</td><td>0.01504</td><td>387.0</td><td>9.099</td></tr>\n",
       "<tr><td>TOI-2406 b</td><td>Transiting Exoplanet Survey Satellite (TESS)</td><td>1.240054</td><td>0.0282</td><td>447.0</td><td>12.633</td></tr>\n",
       "<tr><td>TOI-2202 b</td><td>Transiting Exoplanet Survey Satellite (TESS)</td><td>3.78757</td><td>0.978</td><td>651.833419</td><td>11.326</td></tr>\n",
       "<tr><td>TOI-2285 b</td><td>Transiting Exoplanet Survey Satellite (TESS)</td><td>2.4633215</td><td>0.06135</td><td>284.0</td><td>9.86</td></tr>\n",
       "<tr><td>TOI-559 b</td><td>Transiting Exoplanet Survey Satellite (TESS)</td><td>0.21459</td><td>6.01</td><td>1180.0</td><td>9.985</td></tr>\n",
       "<tr><td>TOI-3362 b</td><td>Transiting Exoplanet Survey Satellite (TESS)</td><td>2.621</td><td>5.029</td><td>643.0</td><td>9.944</td></tr>\n",
       "<tr><td>TOI-1296 b</td><td>Transiting Exoplanet Survey Satellite (TESS)</td><td>4.8331442</td><td>0.298</td><td>1562.0</td><td>10.15</td></tr>\n",
       "<tr><td>TIC 172900988 b</td><td>Transiting Exoplanet Survey Satellite (TESS)</td><td>nan</td><td>2.96386</td><td>nan</td><td>9.08</td></tr>\n",
       "<tr><td>LHS 1678 b</td><td>Transiting Exoplanet Survey Satellite (TESS)</td><td>0.774</td><td>0.0011</td><td>830.44058138</td><td>9.020001</td></tr>\n",
       "<tr><td>LHS 1678 c</td><td>Transiting Exoplanet Survey Satellite (TESS)</td><td>1.26</td><td>0.0044</td><td>510.904079282</td><td>9.020001</td></tr>\n",
       "<tr><td>HIP 97166 b</td><td>Transiting Exoplanet Survey Satellite (TESS)</td><td>nan</td><td>0.06293</td><td>757.0</td><td>8.386</td></tr>\n",
       "<tr><td>TOI-2257 b</td><td>Transiting Exoplanet Survey Satellite (TESS)</td><td>3.846</td><td>0.0171</td><td>256.0</td><td>11.47</td></tr>\n",
       "<tr><td>GJ 367 b</td><td>Transiting Exoplanet Survey Satellite (TESS)</td><td>0.615</td><td>0.00172</td><td>1745.0</td><td>6.632</td></tr>\n",
       "<tr><td>TOI-2109 b</td><td>Transiting Exoplanet Survey Satellite (TESS)</td><td>1.801</td><td>5.02</td><td>3646.0</td><td>9.382</td></tr>\n",
       "<tr><td>TOI-1842 b</td><td>Transiting Exoplanet Survey Satellite (TESS)</td><td>4.3</td><td>0.214</td><td>1007.73230504</td><td>8.747</td></tr>\n",
       "</table></div>"
      ],
      "text/plain": [
       "<ExoFile length=180>\n",
       "    pl_name                    disc_facility                 pl_trandur  pl_bmassj      pl_eqt    sy_jmag \n",
       "                                                                 d      jupiterMass       K         mag   \n",
       "     str29                         str60                      float64     float64      float64    float64 \n",
       "--------------- -------------------------------------------- ---------- ----------- ------------- --------\n",
       "  WD 1856+534 b Transiting Exoplanet Survey Satellite (TESS)     0.1333        13.8         163.0   15.677\n",
       "     TOI-1201 b Transiting Exoplanet Survey Satellite (TESS)      1.747     0.01976         703.0    9.528\n",
       "   LTT 1445 A c Transiting Exoplanet Survey Satellite (TESS)      0.482     0.00485         508.0    7.294\n",
       "    HD 213885 b Transiting Exoplanet Survey Satellite (TESS)   1.545466     0.02778        2128.0    6.806\n",
       "    HD 219666 b Transiting Exoplanet Survey Satellite (TESS)      2.158     0.05223        1073.0    8.557\n",
       "    HD 110113 b Transiting Exoplanet Survey Satellite (TESS)      2.376     0.01432        1371.0    8.903\n",
       "  HD 202772 A b Transiting Exoplanet Survey Satellite (TESS)     5.6304       1.017        2132.0    7.232\n",
       "    HD 221416 b Transiting Exoplanet Survey Satellite (TESS)      8.488        0.19        1012.0    6.568\n",
       "    HD 191939 d Transiting Exoplanet Survey Satellite (TESS)      5.527      0.0319         499.0    7.597\n",
       "     TOI-216.01 Transiting Exoplanet Survey Satellite (TESS)      5.514     0.62927         497.0   10.759\n",
       "     TOI-1130 b Transiting Exoplanet Survey Satellite (TESS)        2.3      0.0407         810.0    9.055\n",
       "      TOI-763 b Transiting Exoplanet Survey Satellite (TESS)   2.777366      0.0308        1038.0    8.858\n",
       "      TOI-540 b Transiting Exoplanet Survey Satellite (TESS)   0.345812     0.00212         611.0    9.755\n",
       "      GJ 3473 b Transiting Exoplanet Survey Satellite (TESS)       0.95     0.00585         773.0    9.627\n",
       "    HD 108236 e Transiting Exoplanet Survey Satellite (TESS)        4.2      0.0306         636.0    8.046\n",
       "    HD 110082 b Transiting Exoplanet Survey Satellite (TESS)       2.91      0.0325    955.146119    8.272\n",
       "   TOI-1259 A b Transiting Exoplanet Survey Satellite (TESS)     2.4754       0.441         963.0   10.226\n",
       "    HD 108236 d Transiting Exoplanet Survey Satellite (TESS)       3.85       0.022         708.0    8.046\n",
       "       HR 858 b Transiting Exoplanet Survey Satellite (TESS)     2.7096      0.0157        1572.0    5.473\n",
       "    HIP 67522 b Transiting Exoplanet Survey Satellite (TESS)      4.822       0.228        1174.0    8.587\n",
       "     HIP 65 A b Transiting Exoplanet Survey Satellite (TESS)    0.78576       3.213        1411.0    8.922\n",
       "     TOI-1260 c Transiting Exoplanet Survey Satellite (TESS)       1.96     0.03713         643.0    9.698\n",
       "      TOI-558 b Transiting Exoplanet Survey Satellite (TESS)     0.1127        3.61        1061.0   10.581\n",
       "     TOI-1266 b Transiting Exoplanet Survey Satellite (TESS)     2.1288     0.04248         413.0    9.706\n",
       "      TOI-421 b Transiting Exoplanet Survey Satellite (TESS)      1.107     0.02256         981.4    8.547\n",
       "      L 168-9 b Transiting Exoplanet Survey Satellite (TESS)   1.239376     0.01447         965.0    7.941\n",
       "      L 98-59 b Transiting Exoplanet Survey Satellite (TESS)      0.992     0.00126         627.0    7.933\n",
       "      TOI-421 c Transiting Exoplanet Survey Satellite (TESS)       2.71     0.05166         673.6    8.547\n",
       "     LHS 3844 b Transiting Exoplanet Survey Satellite (TESS)     0.5212     0.00708         805.0   10.046\n",
       "      NGTS-11 b Transiting Exoplanet Survey Satellite (TESS)       3.59       0.344         435.0   10.855\n",
       "     TOI-1431 b Transiting Exoplanet Survey Satellite (TESS)      2.489        3.12        2370.0    7.541\n",
       "      TOI-813 b Transiting Exoplanet Survey Satellite (TESS)     11.947       0.114         610.0    9.326\n",
       "            ...                                          ...        ...         ...           ...      ...\n",
       "    LP 791-18 b Transiting Exoplanet Survey Satellite (TESS)      0.612     0.00459         650.0   11.559\n",
       "      TOI-122 b Transiting Exoplanet Survey Satellite (TESS)       1.09      0.0247         471.0   11.531\n",
       "      L 98-59 c Transiting Exoplanet Survey Satellite (TESS)      1.346     0.00698         553.0    7.933\n",
       "      TOI-172 b Transiting Exoplanet Survey Satellite (TESS)     4.7136        5.42        1198.0   10.135\n",
       "     HD 63433 b Transiting Exoplanet Survey Satellite (TESS)      3.216      0.0166    885.898044    5.624\n",
       "       GJ 143 b Transiting Exoplanet Survey Satellite (TESS)       3.23     0.07142         422.0    6.081\n",
       "     HD 15337 b Transiting Exoplanet Survey Satellite (TESS)       2.49     0.02363        1001.0    7.553\n",
       "      TOI-269 b Transiting Exoplanet Survey Satellite (TESS)    0.86142     0.02769         531.0   10.909\n",
       "      TOI-257 b Transiting Exoplanet Survey Satellite (TESS)      6.485       0.138        1027.0    6.504\n",
       "      HD 5278 b Transiting Exoplanet Survey Satellite (TESS)        4.8     0.02454         943.0    6.949\n",
       "     LHS 1478 b Transiting Exoplanet Survey Satellite (TESS)      0.705     0.00733         595.0    9.615\n",
       "     TOI-1749 b Transiting Exoplanet Survey Satellite (TESS)        nan     0.17934         831.0   11.069\n",
       "     TOI-1749 d Transiting Exoplanet Survey Satellite (TESS)   1.941802      0.0472         533.0   11.069\n",
       "     TOI-1749 c Transiting Exoplanet Survey Satellite (TESS)   1.865111     0.04405         673.0   11.069\n",
       "     TOI-1062 b Transiting Exoplanet Survey Satellite (TESS)      1.175     0.03194        1077.0    8.777\n",
       "     TOI-1278 b Transiting Exoplanet Survey Satellite (TESS)   1.557437        18.5    407.855835   10.601\n",
       "      TOI-431 c Transiting Exoplanet Survey Satellite (TESS)        nan      0.0089         867.0    7.305\n",
       "     TOI-1062 c Transiting Exoplanet Survey Satellite (TESS)        nan     0.03077         859.0    8.777\n",
       "      TOI-270 d Transiting Exoplanet Survey Satellite (TESS)      2.148     0.01504         387.0    9.099\n",
       "     TOI-2406 b Transiting Exoplanet Survey Satellite (TESS)   1.240054      0.0282         447.0   12.633\n",
       "     TOI-2202 b Transiting Exoplanet Survey Satellite (TESS)    3.78757       0.978    651.833419   11.326\n",
       "     TOI-2285 b Transiting Exoplanet Survey Satellite (TESS)  2.4633215     0.06135         284.0     9.86\n",
       "      TOI-559 b Transiting Exoplanet Survey Satellite (TESS)    0.21459        6.01        1180.0    9.985\n",
       "     TOI-3362 b Transiting Exoplanet Survey Satellite (TESS)      2.621       5.029         643.0    9.944\n",
       "     TOI-1296 b Transiting Exoplanet Survey Satellite (TESS)  4.8331442       0.298        1562.0    10.15\n",
       "TIC 172900988 b Transiting Exoplanet Survey Satellite (TESS)        nan     2.96386           nan     9.08\n",
       "     LHS 1678 b Transiting Exoplanet Survey Satellite (TESS)      0.774      0.0011  830.44058138 9.020001\n",
       "     LHS 1678 c Transiting Exoplanet Survey Satellite (TESS)       1.26      0.0044 510.904079282 9.020001\n",
       "    HIP 97166 b Transiting Exoplanet Survey Satellite (TESS)        nan     0.06293         757.0    8.386\n",
       "     TOI-2257 b Transiting Exoplanet Survey Satellite (TESS)      3.846      0.0171         256.0    11.47\n",
       "       GJ 367 b Transiting Exoplanet Survey Satellite (TESS)      0.615     0.00172        1745.0    6.632\n",
       "     TOI-2109 b Transiting Exoplanet Survey Satellite (TESS)      1.801        5.02        3646.0    9.382\n",
       "     TOI-1842 b Transiting Exoplanet Survey Satellite (TESS)        4.3       0.214 1007.73230504    8.747"
      ]
     },
     "execution_count": 25,
     "metadata": {},
     "output_type": "execute_result"
    }
   ],
   "source": [
    "index = data['disc_facility'].find('TESS')[0]\n",
    "tess_data = data[index]\n",
    "# TODO: check online for what this value\n",
    "tess_data['pl_name', 'disc_facility', 'pl_trandur', 'pl_bmassj', 'pl_eqt','sy_jmag']"
   ]
  },
  {
   "cell_type": "markdown",
   "metadata": {},
   "source": [
    "### Use it to compute some quantities\n",
    "#### Relative flux at 1.25 microns (J-band central wavelength) assuming blackbody radiation"
   ]
  },
  {
   "cell_type": "code",
   "execution_count": 26,
   "metadata": {},
   "outputs": [],
   "source": [
    "import astropy.units as u\n",
    "from astropy.modeling.models import BlackBody\n",
    "from numpy import isfinite, where\n",
    "import matplotlib.pyplot as plt"
   ]
  },
  {
   "cell_type": "code",
   "execution_count": 27,
   "metadata": {},
   "outputs": [
    {
     "data": {
      "text/latex": [
       "$[163,~703,~508,~\\dots,~1745,~3646,~1007.7323] \\; \\mathrm{K}$"
      ],
      "text/plain": [
       "<Quantity [ 163.        ,  703.        ,  508.        , 2128.        ,\n",
       "           1073.        , 1371.        , 2132.        , 1012.        ,\n",
       "            499.        ,  497.        ,  810.        , 1038.        ,\n",
       "            611.        ,  773.        ,  636.        ,  955.146119  ,\n",
       "            963.        ,  708.        , 1572.        , 1174.        ,\n",
       "           1411.        ,  643.        , 1061.        ,  413.        ,\n",
       "            981.4       ,  965.        ,  627.        ,  673.6       ,\n",
       "            805.        ,  435.        , 2370.        ,  610.        ,\n",
       "           1679.        ,  873.        ,  638.1       , 1253.        ,\n",
       "           1169.8       , 1932.        ,  454.        ,  329.6       ,\n",
       "           2147.76934812,  911.        ,  805.        , 1388.        ,\n",
       "           1311.        ,  784.        ,  634.        , 1491.        ,\n",
       "           1228.3       ,  642.        ,  924.        ,  870.        ,\n",
       "            860.        , 1326.        , 1069.        , 1978.        ,\n",
       "            775.        , 1395.        ,  918.        , 1619.        ,\n",
       "            767.        , 1041.044763  ,  628.        ,  417.        ,\n",
       "                     nan, 1586.        , 1749.        , 1192.        ,\n",
       "           1526.        ,  800.        ,  514.        ,  415.        ,\n",
       "            424.        , 1397.        , 1119.546882  ,           nan,\n",
       "            850.        ,  812.        ,  769.        ,  876.        ,\n",
       "            525.        , 2100.        , 1762.        ,  722.        ,\n",
       "            760.        , 2480.        , 1714.        ,           nan,\n",
       "           1120.        ,  980.842908  ,           nan,  632.2       ,\n",
       "            416.        ,  700.        ,  370.        ,  892.        ,\n",
       "            750.        ,  974.        ,  637.        ,           nan,\n",
       "           1669.        , 1040.        ,  690.        ,  470.        ,\n",
       "           1491.        ,  875.        ,  724.222781  ,  617.        ,\n",
       "            600.        ,           nan, 1089.        ,  827.8       ,\n",
       "            581.        , 1862.        , 1927.        ,  635.        ,\n",
       "            362.        ,  344.        ,  388.        ,  701.        ,\n",
       "            500.        ,  734.        ,  552.        ,  593.        ,\n",
       "            633.        ,  268.8       , 1099.        ,  565.        ,\n",
       "           1370.        , 1037.        , 1715.        ,  613.        ,\n",
       "           1404.5       , 1588.        ,  488.        ,  867.        ,\n",
       "           1075.        , 2061.        ,  353.        ,  348.        ,\n",
       "            759.        ,  356.        ,  621.909976  ,  648.        ,\n",
       "            860.        , 1252.        ,  932.        ,  650.        ,\n",
       "            471.        ,  553.        , 1198.        ,  885.898044  ,\n",
       "            422.        , 1001.        ,  531.        , 1027.        ,\n",
       "            943.        ,  595.        ,  831.        ,  533.        ,\n",
       "            673.        , 1077.        ,  407.855835  ,  867.        ,\n",
       "            859.        ,  387.        ,  447.        ,  651.833419  ,\n",
       "            284.        , 1180.        ,  643.        , 1562.        ,\n",
       "                     nan,  830.44058138,  510.90407928,  757.        ,\n",
       "            256.        , 1745.        , 3646.        , 1007.73230504] K>"
      ]
     },
     "execution_count": 27,
     "metadata": {},
     "output_type": "execute_result"
    }
   ],
   "source": [
    "T_pl = tess_data['pl_eqt'].quantity\n",
    "T_star = tess_data['st_teff'].quantity\n",
    "R_pl = tess_data['pl_radj'].quantity\n",
    "R_st = tess_data['st_rad'].quantity\n",
    "T_pl"
   ]
  },
  {
   "cell_type": "code",
   "execution_count": 28,
   "metadata": {},
   "outputs": [
    {
     "name": "stderr",
     "output_type": "stream",
     "text": [
      "/home/vandal/astro/exofile/venv/lib64/python3.10/site-packages/astropy/units/quantity.py:613: RuntimeWarning: invalid value encountered in expm1\n",
      "  result = super().__array_ufunc__(function, method, *arrays, **kwargs)\n"
     ]
    }
   ],
   "source": [
    "bb_pl = BlackBody(temperature=T_pl)\n",
    "bb_star = BlackBody(temperature=T_star)\n",
    "F_pl = bb_pl(1.25 * u.micron)\n",
    "F_star = bb_star(1.25 * u.micron)"
   ]
  },
  {
   "cell_type": "code",
   "execution_count": 29,
   "metadata": {},
   "outputs": [
    {
     "name": "stderr",
     "output_type": "stream",
     "text": [
      "/home/vandal/astro/exofile/venv/lib64/python3.10/site-packages/astropy/units/quantity.py:613: RuntimeWarning: divide by zero encountered in true_divide\n",
      "  result = super().__array_ufunc__(function, method, *arrays, **kwargs)\n"
     ]
    },
    {
     "data": {
      "text/latex": [
       "$\\mathrm{\\frac{R_{\\rm J}^{2}}{R_{\\odot}^{2}}}$"
      ],
      "text/plain": [
       "Unit(\"jupiterRad2 / solRad2\")"
      ]
     },
     "execution_count": 29,
     "metadata": {},
     "output_type": "execute_result"
    }
   ],
   "source": [
    "ratio = F_pl/F_star * (R_pl/R_st)**2\n",
    "ratio.unit"
   ]
  },
  {
   "cell_type": "code",
   "execution_count": 30,
   "metadata": {},
   "outputs": [
    {
     "data": {
      "text/latex": [
       "$\\mathrm{}$"
      ],
      "text/plain": [
       "Unit(dimensionless)"
      ]
     },
     "execution_count": 30,
     "metadata": {},
     "output_type": "execute_result"
    }
   ],
   "source": [
    "ratio = ratio.decompose()\n",
    "ratio.unit"
   ]
  },
  {
   "cell_type": "code",
   "execution_count": 31,
   "metadata": {},
   "outputs": [
    {
     "name": "stderr",
     "output_type": "stream",
     "text": [
      "posx and posy should be finite values\n",
      "posx and posy should be finite values\n"
     ]
    },
    {
     "name": "stdout",
     "output_type": "stream",
     "text": [
      "15.677 inf WD 1856+534 b\n",
      "7.232 8.989441578369101e-05 HD 202772 A b\n",
      "8.922 0.00027135507196673485 HIP 65 A b\n",
      "7.541 0.0001728267410846678 TOI-1431 b\n",
      "8.485 3.067046338454575e-05 TOI-1333 b\n",
      "10.832 2.291313384518314e-05 TOI-849 b\n",
      "8.446 4.502097158619129e-05 LTT 9779 b\n",
      "9.505 1.638214875692783e-05 TOI-1601 b\n",
      "9.17 2.4738432354209725e-05 TOI-628 b\n",
      "9.519 5.250947118853418e-05 TOI-640 b\n",
      "8.103 2.6632824296911735e-05 TOI-1807 b\n",
      "10.696 6.020569739376481e-05 TIC 257060897 b\n",
      "8.879 1.6643444459280137e-05 TOI-561 b\n",
      "10.044 7.515415449639074e-05 TOI-564 b\n",
      "10.404 4.251768531917768e-05 TOI-163 b\n",
      "8.672 6.92020247464367e-05 TOI-1789 b\n",
      "11.181 5.5455189684329594e-05 TOI-169 b\n",
      "10.324 1.0390192400340911e-05 TOI-150.01\n",
      "11.371 6.734298652021508e-05 TOI-157 b\n",
      "8.825 0.0001503175207900052 HD 2685 b\n",
      "10.15 2.4921161099624086e-05 TOI-1296 b\n",
      "9.382 0.001418083862968328 TOI-2109 b\n"
     ]
    },
    {
     "data": {
      "image/png": "[encoded data removed]",
      "text/plain": [
       "<Figure size 432x288 with 1 Axes>"
      ]
     },
     "metadata": {
      "needs_background": "light"
     },
     "output_type": "display_data"
    }
   ],
   "source": [
    "mask = (ratio == 0) | (~isfinite(ratio)) \n",
    "plt.plot(tess_data['sy_jmag'][~mask], ratio[~mask]*1e6, 'o')\n",
    "\n",
    "itext = where(ratio > 10 * 1e-6)[0]\n",
    "for i in itext:\n",
    "    print(tess_data['sy_jmag'][i],ratio[i], tess_data['pl_name'][i])\n",
    "    plt.text(tess_data['sy_jmag'][i], ratio[i]*1e6, tess_data['pl_name'][i])\n",
    "\n",
    "plt.ylabel('Fp/Fstar [ppm] at 1.25 micron')\n",
    "_ = plt.xlabel('mag J')"
   ]
  },
  {
   "cell_type": "markdown",
   "metadata": {},
   "source": [
    "## Edit columns or values\n",
    "See https://docs.astropy.org/en/stable/table/modify_table.html"
   ]
  },
  {
   "cell_type": "markdown",
   "metadata": {},
   "source": [
    "### Change units"
   ]
  },
  {
   "cell_type": "code",
   "execution_count": 32,
   "metadata": {},
   "outputs": [],
   "source": [
    "test_table = ExoFile(tess_data.copy(), masked=True, copy=False)"
   ]
  },
  {
   "cell_type": "code",
   "execution_count": 33,
   "metadata": {},
   "outputs": [],
   "source": [
    "# You cannot change the units like that\n",
    "new_data = test_table['pl_trandur'].to('h')\n",
    "mask = test_table['pl_trandur'].mask\n",
    "test_table['pl_trandur'] = new_data\n",
    "test_table['pl_trandur'].mask = mask"
   ]
  },
  {
   "cell_type": "code",
   "execution_count": 34,
   "metadata": {},
   "outputs": [
    {
     "data": {
      "text/html": [
       "&lt;MaskedColumn name=&apos;pl_trandur&apos; dtype=&apos;float64&apos; unit=&apos;h&apos; length=180&gt;\n",
       "<table>\n",
       "<tr><td>3.1992000000000003</td></tr>\n",
       "<tr><td>41.928000000000004</td></tr>\n",
       "<tr><td>11.568</td></tr>\n",
       "<tr><td>37.091184</td></tr>\n",
       "<tr><td>51.792</td></tr>\n",
       "<tr><td>57.024</td></tr>\n",
       "<tr><td>135.12959999999998</td></tr>\n",
       "<tr><td>203.712</td></tr>\n",
       "<tr><td>132.648</td></tr>\n",
       "<tr><td>132.336</td></tr>\n",
       "<tr><td>55.199999999999996</td></tr>\n",
       "<tr><td>66.65678399999999</td></tr>\n",
       "<tr><td>8.299488</td></tr>\n",
       "<tr><td>22.799999999999997</td></tr>\n",
       "<tr><td>100.80000000000001</td></tr>\n",
       "<tr><td>69.84</td></tr>\n",
       "<tr><td>59.4096</td></tr>\n",
       "<tr><td>92.4</td></tr>\n",
       "<tr><td>65.0304</td></tr>\n",
       "<tr><td>115.72800000000001</td></tr>\n",
       "<tr><td>18.858240000000002</td></tr>\n",
       "<tr><td>47.04</td></tr>\n",
       "<tr><td>2.7047999999999996</td></tr>\n",
       "<tr><td>51.0912</td></tr>\n",
       "<tr><td>26.567999999999998</td></tr>\n",
       "<tr><td>29.745024</td></tr>\n",
       "<tr><td>23.808</td></tr>\n",
       "<tr><td>65.03999999999999</td></tr>\n",
       "<tr><td>12.5088</td></tr>\n",
       "<tr><td>86.16</td></tr>\n",
       "<tr><td>59.736</td></tr>\n",
       "<tr><td>286.72799999999995</td></tr>\n",
       "<tr><td>111.39840000000001</td></tr>\n",
       "<tr><td>46.8</td></tr>\n",
       "<tr><td>74.7072</td></tr>\n",
       "<tr><td>...</td></tr>\n",
       "<tr><td>61.862399999999994</td></tr>\n",
       "<tr><td>68.64</td></tr>\n",
       "<tr><td>14.687999999999999</td></tr>\n",
       "<tr><td>26.160000000000004</td></tr>\n",
       "<tr><td>32.304</td></tr>\n",
       "<tr><td>113.12639999999999</td></tr>\n",
       "<tr><td>77.184</td></tr>\n",
       "<tr><td>77.52</td></tr>\n",
       "<tr><td>59.760000000000005</td></tr>\n",
       "<tr><td>20.67408</td></tr>\n",
       "<tr><td>155.64000000000001</td></tr>\n",
       "<tr><td>115.19999999999999</td></tr>\n",
       "<tr><td>16.919999999999998</td></tr>\n",
       "<tr><td>nan</td></tr>\n",
       "<tr><td>46.603248</td></tr>\n",
       "<tr><td>44.762664</td></tr>\n",
       "<tr><td>28.200000000000003</td></tr>\n",
       "<tr><td>37.378488</td></tr>\n",
       "<tr><td>nan</td></tr>\n",
       "<tr><td>nan</td></tr>\n",
       "<tr><td>51.55200000000001</td></tr>\n",
       "<tr><td>29.761296</td></tr>\n",
       "<tr><td>90.90168</td></tr>\n",
       "<tr><td>59.119716000000004</td></tr>\n",
       "<tr><td>5.15016</td></tr>\n",
       "<tr><td>62.903999999999996</td></tr>\n",
       "<tr><td>115.99546079999999</td></tr>\n",
       "<tr><td>nan</td></tr>\n",
       "<tr><td>18.576</td></tr>\n",
       "<tr><td>30.240000000000002</td></tr>\n",
       "<tr><td>nan</td></tr>\n",
       "<tr><td>92.304</td></tr>\n",
       "<tr><td>14.76</td></tr>\n",
       "<tr><td>43.224</td></tr>\n",
       "<tr><td>103.19999999999999</td></tr>\n",
       "</table>"
      ],
      "text/plain": [
       "<MaskedColumn name='pl_trandur' dtype='float64' unit='h' length=180>\n",
       "3.1992000000000003\n",
       "41.928000000000004\n",
       "            11.568\n",
       "         37.091184\n",
       "            51.792\n",
       "            57.024\n",
       "135.12959999999998\n",
       "           203.712\n",
       "           132.648\n",
       "           132.336\n",
       "55.199999999999996\n",
       " 66.65678399999999\n",
       "          8.299488\n",
       "22.799999999999997\n",
       "100.80000000000001\n",
       "             69.84\n",
       "           59.4096\n",
       "              92.4\n",
       "           65.0304\n",
       "115.72800000000001\n",
       "18.858240000000002\n",
       "             47.04\n",
       "2.7047999999999996\n",
       "           51.0912\n",
       "26.567999999999998\n",
       "         29.745024\n",
       "            23.808\n",
       " 65.03999999999999\n",
       "           12.5088\n",
       "             86.16\n",
       "            59.736\n",
       "286.72799999999995\n",
       "111.39840000000001\n",
       "              46.8\n",
       "           74.7072\n",
       "               ...\n",
       "61.862399999999994\n",
       "             68.64\n",
       "14.687999999999999\n",
       "26.160000000000004\n",
       "            32.304\n",
       "113.12639999999999\n",
       "            77.184\n",
       "             77.52\n",
       "59.760000000000005\n",
       "          20.67408\n",
       "155.64000000000001\n",
       "115.19999999999999\n",
       "16.919999999999998\n",
       "               nan\n",
       "         46.603248\n",
       "         44.762664\n",
       "28.200000000000003\n",
       "         37.378488\n",
       "               nan\n",
       "               nan\n",
       " 51.55200000000001\n",
       "         29.761296\n",
       "          90.90168\n",
       "59.119716000000004\n",
       "           5.15016\n",
       "62.903999999999996\n",
       "115.99546079999999\n",
       "               nan\n",
       "            18.576\n",
       "30.240000000000002\n",
       "               nan\n",
       "            92.304\n",
       "             14.76\n",
       "            43.224\n",
       "103.19999999999999"
      ]
     },
     "execution_count": 34,
     "metadata": {},
     "output_type": "execute_result"
    }
   ],
   "source": [
    "test_table['pl_trandur']"
   ]
  },
  {
   "cell_type": "code",
   "execution_count": 35,
   "metadata": {},
   "outputs": [
    {
     "data": {
      "text/html": [
       "&lt;MaskedColumn name=&apos;pl_trandur&apos; dtype=&apos;float64&apos; unit=&apos;d&apos; length=180&gt;\n",
       "<table>\n",
       "<tr><td>0.1333</td></tr>\n",
       "<tr><td>1.747</td></tr>\n",
       "<tr><td>0.482</td></tr>\n",
       "<tr><td>1.545466</td></tr>\n",
       "<tr><td>2.158</td></tr>\n",
       "<tr><td>2.376</td></tr>\n",
       "<tr><td>5.6304</td></tr>\n",
       "<tr><td>8.488</td></tr>\n",
       "<tr><td>5.527</td></tr>\n",
       "<tr><td>5.514</td></tr>\n",
       "<tr><td>2.3</td></tr>\n",
       "<tr><td>2.777366</td></tr>\n",
       "<tr><td>0.345812</td></tr>\n",
       "<tr><td>0.95</td></tr>\n",
       "<tr><td>4.2</td></tr>\n",
       "<tr><td>2.91</td></tr>\n",
       "<tr><td>2.4754</td></tr>\n",
       "<tr><td>3.85</td></tr>\n",
       "<tr><td>2.7096</td></tr>\n",
       "<tr><td>4.822</td></tr>\n",
       "<tr><td>0.78576</td></tr>\n",
       "<tr><td>1.96</td></tr>\n",
       "<tr><td>0.1127</td></tr>\n",
       "<tr><td>2.1288</td></tr>\n",
       "<tr><td>1.107</td></tr>\n",
       "<tr><td>1.239376</td></tr>\n",
       "<tr><td>0.992</td></tr>\n",
       "<tr><td>2.71</td></tr>\n",
       "<tr><td>0.5212</td></tr>\n",
       "<tr><td>3.59</td></tr>\n",
       "<tr><td>2.489</td></tr>\n",
       "<tr><td>11.947</td></tr>\n",
       "<tr><td>4.6416</td></tr>\n",
       "<tr><td>1.95</td></tr>\n",
       "<tr><td>3.1128</td></tr>\n",
       "<tr><td>...</td></tr>\n",
       "<tr><td>2.5776</td></tr>\n",
       "<tr><td>2.86</td></tr>\n",
       "<tr><td>0.612</td></tr>\n",
       "<tr><td>1.09</td></tr>\n",
       "<tr><td>1.346</td></tr>\n",
       "<tr><td>4.7136</td></tr>\n",
       "<tr><td>3.216</td></tr>\n",
       "<tr><td>3.23</td></tr>\n",
       "<tr><td>2.49</td></tr>\n",
       "<tr><td>0.86142</td></tr>\n",
       "<tr><td>6.485</td></tr>\n",
       "<tr><td>4.8</td></tr>\n",
       "<tr><td>0.705</td></tr>\n",
       "<tr><td>nan</td></tr>\n",
       "<tr><td>1.941802</td></tr>\n",
       "<tr><td>1.865111</td></tr>\n",
       "<tr><td>1.175</td></tr>\n",
       "<tr><td>1.557437</td></tr>\n",
       "<tr><td>nan</td></tr>\n",
       "<tr><td>nan</td></tr>\n",
       "<tr><td>2.148</td></tr>\n",
       "<tr><td>1.240054</td></tr>\n",
       "<tr><td>3.78757</td></tr>\n",
       "<tr><td>2.4633215</td></tr>\n",
       "<tr><td>0.21459</td></tr>\n",
       "<tr><td>2.621</td></tr>\n",
       "<tr><td>4.8331442</td></tr>\n",
       "<tr><td>nan</td></tr>\n",
       "<tr><td>0.774</td></tr>\n",
       "<tr><td>1.26</td></tr>\n",
       "<tr><td>nan</td></tr>\n",
       "<tr><td>3.846</td></tr>\n",
       "<tr><td>0.615</td></tr>\n",
       "<tr><td>1.801</td></tr>\n",
       "<tr><td>4.3</td></tr>\n",
       "</table>"
      ],
      "text/plain": [
       "<MaskedColumn name='pl_trandur' dtype='float64' unit='d' length=180>\n",
       "   0.1333\n",
       "    1.747\n",
       "    0.482\n",
       " 1.545466\n",
       "    2.158\n",
       "    2.376\n",
       "   5.6304\n",
       "    8.488\n",
       "    5.527\n",
       "    5.514\n",
       "      2.3\n",
       " 2.777366\n",
       " 0.345812\n",
       "     0.95\n",
       "      4.2\n",
       "     2.91\n",
       "   2.4754\n",
       "     3.85\n",
       "   2.7096\n",
       "    4.822\n",
       "  0.78576\n",
       "     1.96\n",
       "   0.1127\n",
       "   2.1288\n",
       "    1.107\n",
       " 1.239376\n",
       "    0.992\n",
       "     2.71\n",
       "   0.5212\n",
       "     3.59\n",
       "    2.489\n",
       "   11.947\n",
       "   4.6416\n",
       "     1.95\n",
       "   3.1128\n",
       "      ...\n",
       "   2.5776\n",
       "     2.86\n",
       "    0.612\n",
       "     1.09\n",
       "    1.346\n",
       "   4.7136\n",
       "    3.216\n",
       "     3.23\n",
       "     2.49\n",
       "  0.86142\n",
       "    6.485\n",
       "      4.8\n",
       "    0.705\n",
       "      nan\n",
       " 1.941802\n",
       " 1.865111\n",
       "    1.175\n",
       " 1.557437\n",
       "      nan\n",
       "      nan\n",
       "    2.148\n",
       " 1.240054\n",
       "  3.78757\n",
       "2.4633215\n",
       "  0.21459\n",
       "    2.621\n",
       "4.8331442\n",
       "      nan\n",
       "    0.774\n",
       "     1.26\n",
       "      nan\n",
       "    3.846\n",
       "    0.615\n",
       "    1.801\n",
       "      4.3"
      ]
     },
     "execution_count": 35,
     "metadata": {},
     "output_type": "execute_result"
    }
   ],
   "source": [
    "tess_data['pl_trandur']"
   ]
  },
  {
   "cell_type": "markdown",
   "metadata": {},
   "source": [
    "# Plan transit observations with astroplan"
   ]
  },
  {
   "cell_type": "code",
   "execution_count": 36,
   "metadata": {},
   "outputs": [],
   "source": [
    "from astropy.time import Time\n",
    "import warnings\n",
    "from astropy.utils.exceptions import AstropyUserWarning\n",
    "from astropy.coordinates import SkyCoord\n",
    "from astropy.table import Table\n",
    "# Import astroplan tools and constraints\n",
    "# Other constraints are available\n",
    "from astroplan import (FixedTarget, Observer, EclipsingSystem,\n",
    "                       is_event_observable, AtNightConstraint,\n",
    "                       TimeConstraint, AirmassConstraint)"
   ]
  },
  {
   "cell_type": "code",
   "execution_count": 37,
   "metadata": {},
   "outputs": [
    {
     "data": {
      "text/html": [
       "<i>ExoFile length=173</i>\n",
       "<table id=\"table140414685073072-182951\" class=\"table-striped table-bordered table-condensed\">\n",
       "<thead><tr><th>idx</th><th>pl_name</th><th>pl_tranmid</th><th>pl_trandur</th><th>pl_orbper</th></tr></thead>\n",
       "<thead><tr><th></th><th></th><th>d</th><th>d</th><th>d</th></tr></thead>\n",
       "<tr><td>0</td><td>WD 1856+534 b</td><td>2458779.375083</td><td>0.1333</td><td>1.4079405</td></tr>\n",
       "<tr><td>1</td><td>TOI-1201 b</td><td>2459169.23222</td><td>1.747</td><td>2.4919863</td></tr>\n",
       "<tr><td>2</td><td>LTT 1445 A c</td><td>2458412.58159</td><td>0.482</td><td>3.1239035</td></tr>\n",
       "<tr><td>3</td><td>HD 213885 b</td><td>2458379.97043</td><td>1.545466</td><td>1.008035</td></tr>\n",
       "<tr><td>4</td><td>HD 219666 b</td><td>2458329.1996</td><td>2.158</td><td>6.03607</td></tr>\n",
       "<tr><td>5</td><td>HD 110113 b</td><td>2458570.101</td><td>2.376</td><td>2.541</td></tr>\n",
       "<tr><td>6</td><td>HD 202772 A b</td><td>2458338.61047</td><td>5.6304</td><td>3.308958</td></tr>\n",
       "<tr><td>7</td><td>HD 221416 b</td><td>2458357.0149</td><td>8.488</td><td>14.2767</td></tr>\n",
       "<tr><td>8</td><td>HD 191939 d</td><td>2458743.5505</td><td>5.527</td><td>38.3561</td></tr>\n",
       "<tr><td>9</td><td>TOI-216.01</td><td>2458331.28531</td><td>5.514</td><td>34.556</td></tr>\n",
       "<tr><td>10</td><td>TOI-1130 b</td><td>2458658.74627</td><td>2.3</td><td>4.066499</td></tr>\n",
       "<tr><td>11</td><td>TOI-763 b</td><td>2458572.102</td><td>2.777366</td><td>5.6057</td></tr>\n",
       "<tr><td>12</td><td>TOI-540 b</td><td>2458411.82601</td><td>0.345812</td><td>1.2391491</td></tr>\n",
       "<tr><td>13</td><td>GJ 3473 b</td><td>2458492.20408</td><td>0.95</td><td>1.1980035</td></tr>\n",
       "<tr><td>14</td><td>HD 108236 e</td><td>2458782.46935</td><td>4.2</td><td>19.590025</td></tr>\n",
       "<tr><td>15</td><td>HD 110082 b</td><td>2458629.909</td><td>2.91</td><td>10.18271</td></tr>\n",
       "<tr><td>16</td><td>TOI-1259 A b</td><td>2458686.700531</td><td>2.4754</td><td>3.477978</td></tr>\n",
       "<tr><td>17</td><td>HD 108236 d</td><td>2458769.79682</td><td>3.85</td><td>14.175685</td></tr>\n",
       "<tr><td>18</td><td>HR 858 b</td><td>2458409.18969</td><td>2.7096</td><td>3.58599</td></tr>\n",
       "<tr><td>19</td><td>HIP 67522 b</td><td>2458604.02371</td><td>4.822</td><td>6.959503</td></tr>\n",
       "<tr><td>20</td><td>HIP 65 A b</td><td>2458326.10418</td><td>0.78576</td><td>0.9809734</td></tr>\n",
       "<tr><td>21</td><td>TOI-1260 c</td><td>2458686.1179</td><td>1.96</td><td>7.49325</td></tr>\n",
       "<tr><td>22</td><td>TOI-558 b</td><td>2458871.07253</td><td>0.1127</td><td>14.574071</td></tr>\n",
       "<tr><td>23</td><td>TOI-1266 b</td><td>2458821.74439</td><td>2.1288</td><td>10.894843</td></tr>\n",
       "<tr><td>24</td><td>TOI-421 b</td><td>2458441.2847</td><td>1.107</td><td>5.19672</td></tr>\n",
       "<tr><td>25</td><td>L 168-9 b</td><td>2458340.04781</td><td>1.239376</td><td>1.4015</td></tr>\n",
       "<tr><td>26</td><td>L 98-59 b</td><td>2458366.17067</td><td>0.992</td><td>2.2531136</td></tr>\n",
       "<tr><td>27</td><td>TOI-421 c</td><td>2458440.13162</td><td>2.71</td><td>16.06819</td></tr>\n",
       "<tr><td>28</td><td>LHS 3844 b</td><td>2458325.72558</td><td>0.5212</td><td>0.46292913</td></tr>\n",
       "<tr><td>29</td><td>NGTS-11 b</td><td>2458390.7043</td><td>3.59</td><td>35.45533</td></tr>\n",
       "<tr><td>30</td><td>TOI-1431 b</td><td>2458739.17737</td><td>2.489</td><td>2.650237</td></tr>\n",
       "<tr><td>31</td><td>TOI-813 b</td><td>2458370.7836</td><td>11.947</td><td>83.8911</td></tr>\n",
       "<tr><td>32</td><td>TOI-1333 b</td><td>2458913.37033</td><td>4.6416</td><td>4.720219</td></tr>\n",
       "<tr><td>33</td><td>TOI-178 c</td><td>2458741.4783</td><td>1.95</td><td>3.23845</td></tr>\n",
       "<tr><td>34</td><td>TOI-125 d</td><td>2458342.8516</td><td>3.1128</td><td>19.98</td></tr>\n",
       "<tr><td>35</td><td>TOI-824 b</td><td>2458639.60354</td><td>1.15344</td><td>1.392978</td></tr>\n",
       "<tr><td>36</td><td>pi Men c</td><td>2458325.504</td><td>2.953</td><td>6.2679</td></tr>\n",
       "<tr><td>37</td><td>TOI-849 b</td><td>2458394.73768</td><td>1.57</td><td>0.76552414</td></tr>\n",
       "<tr><td>38</td><td>AU Mic c</td><td>2458342.2223</td><td>4.5</td><td>18.859019</td></tr>\n",
       "<tr><td>39</td><td>TOI-1231 b</td><td>2458685.1163</td><td>3.24</td><td>24.245586</td></tr>\n",
       "<tr><td>40</td><td>TOI-1444 b</td><td>2458711.3676</td><td>1.1525477</td><td>0.4702694</td></tr>\n",
       "<tr><td>41</td><td>HD 63935 b</td><td>2458494.4462</td><td>3.36</td><td>9.058811</td></tr>\n",
       "<tr><td>42</td><td>TOI-220 b</td><td>2458335.902</td><td>2.239</td><td>10.695264</td></tr>\n",
       "<tr><td>43</td><td>TOI-1298 b</td><td>2458929.58558</td><td>4.0216128</td><td>4.537164</td></tr>\n",
       "<tr><td>44</td><td>HD 86226 c</td><td>2458543.2539</td><td>3.12</td><td>3.98442</td></tr>\n",
       "<tr><td>45</td><td>TOI-1064 b</td><td>2459036.8534</td><td>1.98</td><td>6.443868</td></tr>\n",
       "<tr><td>46</td><td>TOI-1064 c</td><td>2459043.51289</td><td>2.37</td><td>12.226574</td></tr>\n",
       "<tr><td>47</td><td>TOI-2184 b</td><td>2458332.126</td><td>6.78</td><td>6.90683</td></tr>\n",
       "<tr><td>48</td><td>HD 1397 b</td><td>2458332.08261</td><td>8.6016</td><td>11.53533</td></tr>\n",
       "<tr><td>49</td><td>HD 15337 c</td><td>2458414.5501</td><td>2.25</td><td>17.1784</td></tr>\n",
       "<tr><td>50</td><td>TOI-1634 b</td><td>2458791.51473</td><td>1.027</td><td>0.989343</td></tr>\n",
       "<tr><td>51</td><td>TOI-2076 b</td><td>2458847.2776</td><td>3.326</td><td>10.35566</td></tr>\n",
       "<tr><td>52</td><td>TOI-1260 b</td><td>2458684.0128</td><td>1.963</td><td>3.12748</td></tr>\n",
       "<tr><td>53</td><td>HR 858 c</td><td>2458415.6344</td><td>2.9016</td><td>5.97293</td></tr>\n",
       "<tr><td>54</td><td>TOI-1685 b</td><td>2458816.22615</td><td>0.912603</td><td>0.6691403</td></tr>\n",
       "<tr><td>55</td><td>LTT 9779 b</td><td>2458354.2143</td><td>0.671088</td><td>0.792052</td></tr>\n",
       "<tr><td>56</td><td>TOI-1235 b</td><td>2458683.6155</td><td>2.094</td><td>3.444717</td></tr>\n",
       "<tr><td>57</td><td>TOI-132 b</td><td>2458333.23095</td><td>2.638</td><td>2.1097019</td></tr>\n",
       "<tr><td>58</td><td>TOI-1478 b</td><td>2458607.90338</td><td>4.1664</td><td>10.180249</td></tr>\n",
       "<tr><td>59</td><td>TOI-1601 b</td><td>2458990.55302</td><td>6.3048</td><td>5.331751</td></tr>\n",
       "<tr><td>60</td><td>TOI-1728 b</td><td>2458843.27427</td><td>1.96</td><td>3.49151</td></tr>\n",
       "<tr><td>61</td><td>TOI-251 b</td><td>2458357.30548</td><td>2.232</td><td>4.93777</td></tr>\n",
       "<tr><td>62</td><td>TOI-216.02</td><td>2458325.327</td><td>2.062</td><td>17.089</td></tr>\n",
       "<tr><td>63</td><td>TOI-700 b</td><td>2458490.9867</td><td>2.2632</td><td>9.97702</td></tr>\n",
       "<tr><td>64</td><td>TOI-561 d</td><td>2458521.882</td><td>4.85</td><td>25.62</td></tr>\n",
       "<tr><td>65</td><td>TOI-628 b</td><td>2458629.47972</td><td>3.7824</td><td>3.4095675</td></tr>\n",
       "<tr><td>66</td><td>TOI-640 b</td><td>2458459.73877</td><td>3.6048</td><td>5.0037775</td></tr>\n",
       "<tr><td>67</td><td>TOI-905 b</td><td>2458643.30898</td><td>2.028</td><td>3.739494</td></tr>\n",
       "<tr><td>68</td><td>TOI-954 b</td><td>2458411.90651</td><td>5.09</td><td>3.6849729</td></tr>\n",
       "<tr><td>69</td><td>TOI-763 c</td><td>2458572.9661</td><td>3.656382</td><td>12.2737</td></tr>\n",
       "<tr><td>70</td><td>TOI-776 b</td><td>2458571.4167</td><td>2.41</td><td>8.24661</td></tr>\n",
       "<tr><td>71</td><td>TOI-776 c</td><td>2458572.5999</td><td>2.99</td><td>15.6653</td></tr>\n",
       "<tr><td>72</td><td>LTT 1445 A b</td><td>2458412.70851</td><td>1.367</td><td>5.3587657</td></tr>\n",
       "<tr><td>73</td><td>TOI-892 b</td><td>2458475.689</td><td>5.415</td><td>10.62656</td></tr>\n",
       "<tr><td>74</td><td>HD 152843 b</td><td>2458994.2831</td><td>5.53</td><td>11.6264</td></tr>\n",
       "<tr><td>75</td><td>HD 152843 c</td><td>2459002.7708</td><td>6.359</td><td>24.38</td></tr>\n",
       "<tr><td>76</td><td>DS Tuc A b</td><td>2458332.30997</td><td>3.1764</td><td>8.138268</td></tr>\n",
       "<tr><td>77</td><td>HD 191939 b</td><td>2458715.35554</td><td>3.075</td><td>8.880403</td></tr>\n",
       "<tr><td>78</td><td>HD 183579 b</td><td>2458661.06315</td><td>4.36</td><td>17.471278</td></tr>\n",
       "<tr><td>79</td><td>HD 332231 b</td><td>2458729.67987</td><td>6.156</td><td>18.71204</td></tr>\n",
       "<tr><td>80</td><td>GJ 357 b</td><td>2458517.99862</td><td>1.53</td><td>3.93072</td></tr>\n",
       "<tr><td>81</td><td>TOI-1807 b</td><td>2457000.166</td><td>0.972</td><td>0.549372</td></tr>\n",
       "<tr><td>82</td><td>TIC 257060897 b</td><td>2458708.9983</td><td>0.194</td><td>3.660028</td></tr>\n",
       "<tr><td>83</td><td>TOI-451 d</td><td>2458416.63478</td><td>4.0968</td><td>16.364988</td></tr>\n",
       "<tr><td>84</td><td>TOI-519 b</td><td>2458491.877117</td><td>1.2332</td><td>1.2652328</td></tr>\n",
       "<tr><td>85</td><td>TOI-561 b</td><td>2458517.498</td><td>1.327</td><td>0.446578</td></tr>\n",
       "<tr><td>86</td><td>TOI-564 b</td><td>2458549.57554</td><td>1.0272</td><td>1.651144</td></tr>\n",
       "<tr><td>87</td><td>TOI-561 e</td><td>2458538.181</td><td>6.96</td><td>77.23</td></tr>\n",
       "<tr><td>88</td><td>TOI-942 b</td><td>2458441.5762</td><td>3.4032</td><td>4.32419</td></tr>\n",
       "<tr><td>89</td><td>TOI-837 b</td><td>2458574.272527</td><td>1.957</td><td>8.3248762</td></tr>\n",
       "<tr><td>90</td><td>HD 207897 b</td><td>2458926.10942</td><td>2.911</td><td>16.202159</td></tr>\n",
       "<tr><td>91</td><td>L 98-59 d</td><td>2458362.73974</td><td>0.84</td><td>7.4507245</td></tr>\n",
       "<tr><td>92</td><td>LP 714-47 b</td><td>2459196.11534</td><td>1.287</td><td>4.052037</td></tr>\n",
       "<tr><td>93</td><td>LP 791-18 c</td><td>2458651.29807</td><td>1.208</td><td>4.989963</td></tr>\n",
       "<tr><td>94</td><td>LTT 3780 b</td><td>2458543.9115</td><td>0.805</td><td>0.768448</td></tr>\n",
       "<tr><td>95</td><td>TOI-561 f</td><td>2458521.8828</td><td>4.45</td><td>16.287</td></tr>\n",
       "<tr><td>96</td><td>TIC 237913194 b</td><td>2458319.15055</td><td>1.572</td><td>15.168865</td></tr>\n",
       "<tr><td>97</td><td>TOI-1130 c</td><td>2458657.90461</td><td>2.02</td><td>8.350381</td></tr>\n",
       "<tr><td>98</td><td>TOI-163 b</td><td>2458328.8797</td><td>4.93</td><td>4.231306</td></tr>\n",
       "<tr><td>99</td><td>TOI-178 b</td><td>2458741.6365</td><td>1.692</td><td>1.914558</td></tr>\n",
       "<tr><td>100</td><td>TOI-178 d</td><td>2458747.14623</td><td>2.346</td><td>6.5577</td></tr>\n",
       "<tr><td>101</td><td>TOI-178 g</td><td>2458748.0302</td><td>2.167</td><td>20.7095</td></tr>\n",
       "<tr><td>102</td><td>TOI-451 b</td><td>2458410.99</td><td>2.0376</td><td>1.858703</td></tr>\n",
       "<tr><td>103</td><td>TOI-451 c</td><td>2458411.7956</td><td>3.5592</td><td>9.192522</td></tr>\n",
       "<tr><td>104</td><td>TOI-1338 b</td><td>2458342.15</td><td>14.844805</td><td>95.174</td></tr>\n",
       "<tr><td>105</td><td>LHS 1815 b</td><td>2458327.4161</td><td>1.34</td><td>3.81433</td></tr>\n",
       "<tr><td>106</td><td>TOI-178 e</td><td>2458751.4658</td><td>2.501</td><td>9.961881</td></tr>\n",
       "<tr><td>107</td><td>TOI-942 c</td><td>2458447.0563</td><td>1.91856</td><td>10.15643</td></tr>\n",
       "<tr><td>108</td><td>GJ 1252 b</td><td>2458668.09739</td><td>0.734</td><td>0.5182349</td></tr>\n",
       "<tr><td>109</td><td>TOI-125 c</td><td>2458361.9085</td><td>2.9544</td><td>9.15059</td></tr>\n",
       "<tr><td>110</td><td>TOI-270 b</td><td>2458387.09505</td><td>1.387</td><td>3.3601538</td></tr>\n",
       "<tr><td>111</td><td>TOI-431 b</td><td>2458627.538</td><td>1.084597</td><td>0.490047</td></tr>\n",
       "<tr><td>112</td><td>TOI-1789 b</td><td>2458873.65374</td><td>2.3</td><td>3.208664</td></tr>\n",
       "<tr><td>113</td><td>TOI-674 b</td><td>2458641.404552</td><td>1.055315</td><td>1.977143</td></tr>\n",
       "<tr><td>114</td><td>TOI-1899 b</td><td>2458711.957792</td><td>4.67</td><td>29.02</td></tr>\n",
       "<tr><td>115</td><td>TOI-1266 c</td><td>2458821.5706</td><td>2.1864</td><td>18.80151</td></tr>\n",
       "<tr><td>116</td><td>TOI-237 b</td><td>2458697.7198</td><td>1.172585</td><td>5.436098</td></tr>\n",
       "<tr><td>117</td><td>HD 21749 c</td><td>2458371.2287</td><td>2.515</td><td>7.78993</td></tr>\n",
       "<tr><td>118</td><td>HD 23472 b</td><td>2459226.349919</td><td>2.512</td><td>17.667</td></tr>\n",
       "<tr><td>119</td><td>TOI-2076 c</td><td>2458834.6615</td><td>4.215</td><td>--</td></tr>\n",
       "<tr><td>120</td><td>HD 191939 c</td><td>2458726.0531</td><td>4.455</td><td>28.58059</td></tr>\n",
       "<tr><td>121</td><td>AU Mic b</td><td>2458330.39051</td><td>3.5</td><td>8.463</td></tr>\n",
       "<tr><td>122</td><td>TOI-431 d</td><td>2458627.5453</td><td>3.239</td><td>12.46103</td></tr>\n",
       "<tr><td>123</td><td>TOI-700 d</td><td>2458742.1476</td><td>3.3216</td><td>37.42475</td></tr>\n",
       "<tr><td>124</td><td>HD 108236 b</td><td>2458773.2964</td><td>2.384</td><td>3.795963</td></tr>\n",
       "<tr><td>125</td><td>TOI-530 b</td><td>2458470.1998</td><td>2.5389801</td><td>6.387597</td></tr>\n",
       "<tr><td>126</td><td>TOI-481 b</td><td>2458511.6418</td><td>5.662391</td><td>10.33111</td></tr>\n",
       "<tr><td>127</td><td>TOI-125 b</td><td>2458355.35529</td><td>2.9616</td><td>4.65382</td></tr>\n",
       "<tr><td>128</td><td>TOI-169 b</td><td>2458327.44174</td><td>1.7064</td><td>2.2554477</td></tr>\n",
       "<tr><td>129</td><td>HD 23472 c</td><td>2459234.224619</td><td>2.944</td><td>29.625</td></tr>\n",
       "<tr><td>130</td><td>TOI-150.01</td><td>2458326.2773</td><td>5.12</td><td>5.857487</td></tr>\n",
       "<tr><td>131</td><td>TOI-157 b</td><td>2458326.54771</td><td>2.14584</td><td>2.0845435</td></tr>\n",
       "<tr><td>132</td><td>TOI-270 c</td><td>2458389.50285</td><td>1.658</td><td>5.6605731</td></tr>\n",
       "<tr><td>133</td><td>TOI-532 b</td><td>2458470.576777</td><td>1.75</td><td>2.3266508</td></tr>\n",
       "<tr><td>134</td><td>HR 858 d</td><td>2458409.7328</td><td>3.4344</td><td>11.23</td></tr>\n",
       "<tr><td>135</td><td>HD 2685 b</td><td>2458325.78297</td><td>4.429</td><td>4.12688</td></tr>\n",
       "<tr><td>136</td><td>LTT 3780 c</td><td>2458546.8484</td><td>1.392</td><td>12.2519</td></tr>\n",
       "<tr><td>137</td><td>TOI-2180 b</td><td>2458830.7652</td><td>24.096</td><td>260.79</td></tr>\n",
       "<tr><td>138</td><td>TOI-201 b</td><td>2458376.052</td><td>4.511</td><td>52.97818</td></tr>\n",
       "<tr><td>139</td><td>TOI-700 c</td><td>2458548.75256</td><td>1.4136</td><td>16.05111</td></tr>\n",
       "<tr><td>140</td><td>HD 63433 c</td><td>2458844.05799</td><td>4.068</td><td>20.5453</td></tr>\n",
       "<tr><td>141</td><td>TOI-2076 d</td><td>2458837.9363</td><td>3.2</td><td>--</td></tr>\n",
       "<tr><td>142</td><td>TOI-561 c</td><td>2458527.06</td><td>3.77</td><td>10.779</td></tr>\n",
       "<tr><td>143</td><td>TOI-677 b</td><td>2458547.47448</td><td>2.5776</td><td>11.2366</td></tr>\n",
       "<tr><td>144</td><td>HD 108236 c</td><td>2458770.90586</td><td>2.86</td><td>6.203449</td></tr>\n",
       "<tr><td>145</td><td>LP 791-18 b</td><td>2458645.94405</td><td>0.612</td><td>0.948005</td></tr>\n",
       "<tr><td>146</td><td>TOI-122 b</td><td>2458425.602564</td><td>1.09</td><td>5.07803</td></tr>\n",
       "<tr><td>147</td><td>L 98-59 c</td><td>2458367.27375</td><td>1.346</td><td>3.6906777</td></tr>\n",
       "<tr><td>148</td><td>TOI-172 b</td><td>2458345.8734</td><td>4.7136</td><td>9.47725</td></tr>\n",
       "<tr><td>149</td><td>HD 63433 b</td><td>2458916.4526</td><td>3.216</td><td>7.10793</td></tr>\n",
       "<tr><td>150</td><td>GJ 143 b</td><td>2458385.92502</td><td>3.23</td><td>35.61253</td></tr>\n",
       "<tr><td>151</td><td>HD 15337 b</td><td>2458411.46156</td><td>2.49</td><td>4.75615</td></tr>\n",
       "<tr><td>152</td><td>TOI-269 b</td><td>2458381.84668</td><td>0.86142</td><td>3.6977104</td></tr>\n",
       "<tr><td>153</td><td>TOI-257 b</td><td>2458385.7601</td><td>6.485</td><td>18.38818</td></tr>\n",
       "<tr><td>154</td><td>HD 5278 b</td><td>2458680.69932</td><td>4.8</td><td>14.339156</td></tr>\n",
       "<tr><td>155</td><td>LHS 1478 b</td><td>2458786.75425</td><td>0.705</td><td>1.9495378</td></tr>\n",
       "<tr><td>156</td><td>TOI-1749 d</td><td>2458688.784755</td><td>1.941802</td><td>9.0497</td></tr>\n",
       "<tr><td>157</td><td>TOI-1749 c</td><td>2458685.939893</td><td>1.865111</td><td>4.4929</td></tr>\n",
       "<tr><td>158</td><td>TOI-1062 b</td><td>2459082.59</td><td>1.175</td><td>4.11296</td></tr>\n",
       "<tr><td>159</td><td>TOI-1278 b</td><td>2458711.9595</td><td>1.557437</td><td>14.47567</td></tr>\n",
       "<tr><td>160</td><td>TOI-270 d</td><td>2458389.68186</td><td>2.148</td><td>11.379573</td></tr>\n",
       "<tr><td>161</td><td>TOI-2406 b</td><td>2459115.97547</td><td>1.240054</td><td>3.0766896</td></tr>\n",
       "<tr><td>162</td><td>TOI-2202 b</td><td>2459292.027871</td><td>3.78757</td><td>11.9101</td></tr>\n",
       "<tr><td>163</td><td>TOI-2285 b</td><td>2458747.1815</td><td>2.4633215</td><td>27.26955</td></tr>\n",
       "<tr><td>164</td><td>TOI-559 b</td><td>2458893.81305</td><td>0.21459</td><td>6.9839095</td></tr>\n",
       "<tr><td>165</td><td>TOI-3362 b</td><td>2458529.325</td><td>2.621</td><td>18.09547</td></tr>\n",
       "<tr><td>166</td><td>TOI-1296 b</td><td>2458930.75532</td><td>4.8331442</td><td>3.9443715</td></tr>\n",
       "<tr><td>167</td><td>LHS 1678 b</td><td>2459121.168814</td><td>0.774</td><td>0.8602322</td></tr>\n",
       "<tr><td>168</td><td>LHS 1678 c</td><td>2459120.360617</td><td>1.26</td><td>3.694247</td></tr>\n",
       "<tr><td>169</td><td>TOI-2257 b</td><td>2459007.97949</td><td>3.846</td><td>35.189346</td></tr>\n",
       "<tr><td>170</td><td>GJ 367 b</td><td>2458544.1348</td><td>0.615</td><td>0.321962</td></tr>\n",
       "<tr><td>171</td><td>TOI-2109 b</td><td>2459378.45937</td><td>1.801</td><td>0.67247414</td></tr>\n",
       "<tr><td>172</td><td>TOI-1842 b</td><td>2459402.4575</td><td>4.3</td><td>9.5739</td></tr>\n",
       "</table><style>table.dataTable {clear: both; width: auto !important; margin: 0 !important;}\n",
       ".dataTables_info, .dataTables_length, .dataTables_filter, .dataTables_paginate{\n",
       "display: inline-block; margin-right: 1em; }\n",
       ".paginate_button { margin-right: 5px; }\n",
       "</style>\n",
       "<script>\n",
       "\n",
       "var astropy_sort_num = function(a, b) {\n",
       "    var a_num = parseFloat(a);\n",
       "    var b_num = parseFloat(b);\n",
       "\n",
       "    if (isNaN(a_num) && isNaN(b_num))\n",
       "        return ((a < b) ? -1 : ((a > b) ? 1 : 0));\n",
       "    else if (!isNaN(a_num) && !isNaN(b_num))\n",
       "        return ((a_num < b_num) ? -1 : ((a_num > b_num) ? 1 : 0));\n",
       "    else\n",
       "        return isNaN(a_num) ? -1 : 1;\n",
       "}\n",
       "\n",
       "require.config({paths: {\n",
       "    datatables: 'https://cdn.datatables.net/1.10.12/js/jquery.dataTables.min'\n",
       "}});\n",
       "require([\"datatables\"], function(){\n",
       "    console.log(\"$('#table140414685073072-182951').dataTable()\");\n",
       "    \n",
       "jQuery.extend( jQuery.fn.dataTableExt.oSort, {\n",
       "    \"optionalnum-asc\": astropy_sort_num,\n",
       "    \"optionalnum-desc\": function (a,b) { return -astropy_sort_num(a, b); }\n",
       "});\n",
       "\n",
       "    $('#table140414685073072-182951').dataTable({\n",
       "        order: [],\n",
       "        pageLength: 50,\n",
       "        lengthMenu: [[10, 25, 50, 100, 500, 1000, -1], [10, 25, 50, 100, 500, 1000, 'All']],\n",
       "        pagingType: \"full_numbers\",\n",
       "        columnDefs: [{targets: [0, 2, 3, 4], type: \"optionalnum\"}]\n",
       "    });\n",
       "});\n",
       "</script>\n"
      ],
      "text/plain": [
       "<IPython.core.display.HTML object>"
      ]
     },
     "execution_count": 37,
     "metadata": {},
     "output_type": "execute_result"
    }
   ],
   "source": [
    "# Keep only target with transit duration\n",
    "tess_data = ExoFile(tess_data, masked=True, copy=False)\n",
    "tess_data.nan_to_mask()\n",
    "missing = tess_data['pl_trandur'].mask | tess_data['pl_tranmid'].mask\n",
    "transit_data = tess_data[~missing]\n",
    "transit_data['pl_name', 'pl_tranmid', 'pl_trandur', 'pl_orbper'].show_in_notebook()"
   ]
  },
  {
   "cell_type": "code",
   "execution_count": 38,
   "metadata": {},
   "outputs": [],
   "source": [
    "epoch = Time(transit_data['pl_tranmid'], format='jd')\n",
    "period = transit_data['pl_orbper'].quantity\n",
    "transit_duration = transit_data['pl_trandur'].quantity"
   ]
  },
  {
   "cell_type": "markdown",
   "metadata": {},
   "source": [
    "### Constraints"
   ]
  },
  {
   "cell_type": "code",
   "execution_count": 39,
   "metadata": {},
   "outputs": [],
   "source": [
    "# 2020A semester at cfht\n",
    "t1, t2 = Time(['2020-02-01 00:00', '2020-07-31 00:00'])\n",
    "site = 'cfht'\n",
    "\n",
    "# See astroplan available constraints\n",
    "constraints = [AtNightConstraint.twilight_nautical(),\n",
    "               AirmassConstraint(max=3.),\n",
    "               TimeConstraint(t1, t2)\n",
    "              ]"
   ]
  },
  {
   "cell_type": "markdown",
   "metadata": {},
   "source": [
    "### Compute next transits\n",
    "_NOTE: This might not work offline if you have never used astroplan before\n",
    "(CFHT info will not be downloaded)._"
   ]
  },
  {
   "cell_type": "code",
   "execution_count": 40,
   "metadata": {},
   "outputs": [],
   "source": [
    "obs = Observer.at_site(site)\n",
    "\n",
    "ra_unit = transit_data['ra'].unit\n",
    "dec_unit = transit_data['dec'].unit\n",
    "\n",
    "for itar, row in enumerate(transit_data):\n",
    "\n",
    "    # -------------------------\n",
    "    # Steps to predict transits\n",
    "    # -------------------------\n",
    "\n",
    "    ra = row['ra'] * ra_unit\n",
    "    dec = row['dec'] * dec_unit\n",
    "    coord = SkyCoord(ra=ra, dec=dec)\n",
    "    target = FixedTarget(coord=coord, name=row['pl_name'])\n",
    "\n",
    "    # Define system\n",
    "    sys = EclipsingSystem(primary_eclipse_time=epoch[itar],\n",
    "                          orbital_period=period[itar],\n",
    "                          duration=transit_duration[itar],\n",
    "                          name=target.name\n",
    "                         )\n",
    "    \n",
    "    # Predict 'n' next transits\n",
    "    with warnings.catch_warnings(record=True) as w:\n",
    "        \n",
    "        # Compute transits\n",
    "        t_mid = sys.next_primary_eclipse_time(t1, n_eclipses=1000)\n",
    "        \n",
    "    # Check if last event after time limit\n",
    "    if t_mid[-1] < t2:\n",
    "        warnings.warn('end time ('+t2.value +\n",
    "                      ') is passed the last computed event time (' +\n",
    "                      t_mid[-1].value+')\\n' +\n",
    "                     '\\t You can change the n_eclipse kwarg ' +\n",
    "                     'value or choose a different window (start or end time)',\n",
    "                     AstropyUserWarning\n",
    "                    )\n",
    "        \n",
    "    # Catch warnings\n",
    "    with warnings.catch_warnings(record=True) as w:\n",
    "        \n",
    "        # Compute transit start/end (t1, t4)\n",
    "        t1_t4 = sys.next_primary_ingress_egress_time(t1, n_eclipses=1000)\n",
    "\n",
    "        # Compute observable events\n",
    "        index = is_event_observable(constraints, obs, target,\n",
    "                                    times_ingress_egress=t1_t4).squeeze()\n",
    "        \n",
    "    # -------------------\n",
    "    # End of steps to predict transits\n",
    "    # -------------------\n",
    "        \n",
    "    # Print result\n",
    "    if index.any():\n",
    "        out = Table([t_mid[index].iso, *t1_t4[index].T.iso],\n",
    "                    names=['Mid transit', 'ingress', 'egress'],meta={'pl_name':target.name})\n",
    "        break\n",
    "    else:\n",
    "        print('no event found for ', target.name)"
   ]
  },
  {
   "cell_type": "code",
   "execution_count": 41,
   "metadata": {},
   "outputs": [
    {
     "data": {
      "text/html": [
       "<div><i>Table length=15</i>\n",
       "<table id=\"table140414868213712\" class=\"table-striped table-bordered table-condensed\">\n",
       "<thead><tr><th>Mid transit</th><th>ingress</th><th>egress</th></tr></thead>\n",
       "<thead><tr><th>str23</th><th>str23</th><th>str23</th></tr></thead>\n",
       "<tr><td>2020-03-28 13:32:45.802</td><td>2020-03-28 11:56:47.242</td><td>2020-06-15 11:25:03.677</td></tr>\n",
       "<tr><td>2020-04-21 11:59:08.808</td><td>2020-03-28 15:08:44.362</td><td>2020-06-22 09:10:16.853</td></tr>\n",
       "<tr><td>2020-04-28 12:56:19.104</td><td>2020-04-21 10:23:10.248</td><td>2020-06-22 12:22:13.973</td></tr>\n",
       "<tr><td>2020-05-15 10:25:31.814</td><td>2020-04-21 13:35:07.368</td><td>2020-06-29 10:07:27.149</td></tr>\n",
       "<tr><td>2020-05-22 11:22:42.110</td><td>2020-04-28 11:20:20.544</td><td>2020-06-29 13:19:24.269</td></tr>\n",
       "<tr><td>2020-05-29 12:19:52.406</td><td>2020-04-28 14:32:17.664</td><td>2020-07-06 11:04:37.445</td></tr>\n",
       "<tr><td>2020-06-08 08:51:54.821</td><td>2020-05-15 08:49:33.254</td><td>2020-07-06 14:16:34.565</td></tr>\n",
       "<tr><td>2020-06-15 09:49:05.117</td><td>2020-05-15 12:01:30.374</td><td>2020-07-09 06:39:29.563</td></tr>\n",
       "<tr><td>2020-06-22 10:46:15.413</td><td>2020-05-22 09:46:43.550</td><td>2020-07-09 09:51:26.683</td></tr>\n",
       "<tr><td>2020-06-29 11:43:25.709</td><td>2020-05-22 12:58:40.670</td><td>2020-07-16 07:36:39.859</td></tr>\n",
       "<tr><td>2020-07-06 12:40:36.005</td><td>2020-05-29 10:43:53.846</td><td>2020-07-16 10:48:36.979</td></tr>\n",
       "<tr><td>2020-07-09 08:15:28.123</td><td>2020-05-29 13:55:50.966</td><td>2020-07-23 08:33:50.155</td></tr>\n",
       "<tr><td>2020-07-16 09:12:38.419</td><td>2020-06-08 07:15:56.261</td><td>2020-07-23 11:45:47.275</td></tr>\n",
       "<tr><td>2020-07-23 10:09:48.715</td><td>2020-06-08 10:27:53.381</td><td>2020-07-30 09:31:00.451</td></tr>\n",
       "<tr><td>2020-07-30 11:06:59.011</td><td>2020-06-15 08:13:06.557</td><td>2020-07-30 12:42:57.571</td></tr>\n",
       "</table></div>"
      ],
      "text/plain": [
       "<Table length=15>\n",
       "      Mid transit               ingress                  egress        \n",
       "         str23                   str23                   str23         \n",
       "----------------------- ----------------------- -----------------------\n",
       "2020-03-28 13:32:45.802 2020-03-28 11:56:47.242 2020-06-15 11:25:03.677\n",
       "2020-04-21 11:59:08.808 2020-03-28 15:08:44.362 2020-06-22 09:10:16.853\n",
       "2020-04-28 12:56:19.104 2020-04-21 10:23:10.248 2020-06-22 12:22:13.973\n",
       "2020-05-15 10:25:31.814 2020-04-21 13:35:07.368 2020-06-29 10:07:27.149\n",
       "2020-05-22 11:22:42.110 2020-04-28 11:20:20.544 2020-06-29 13:19:24.269\n",
       "2020-05-29 12:19:52.406 2020-04-28 14:32:17.664 2020-07-06 11:04:37.445\n",
       "2020-06-08 08:51:54.821 2020-05-15 08:49:33.254 2020-07-06 14:16:34.565\n",
       "2020-06-15 09:49:05.117 2020-05-15 12:01:30.374 2020-07-09 06:39:29.563\n",
       "2020-06-22 10:46:15.413 2020-05-22 09:46:43.550 2020-07-09 09:51:26.683\n",
       "2020-06-29 11:43:25.709 2020-05-22 12:58:40.670 2020-07-16 07:36:39.859\n",
       "2020-07-06 12:40:36.005 2020-05-29 10:43:53.846 2020-07-16 10:48:36.979\n",
       "2020-07-09 08:15:28.123 2020-05-29 13:55:50.966 2020-07-23 08:33:50.155\n",
       "2020-07-16 09:12:38.419 2020-06-08 07:15:56.261 2020-07-23 11:45:47.275\n",
       "2020-07-23 10:09:48.715 2020-06-08 10:27:53.381 2020-07-30 09:31:00.451\n",
       "2020-07-30 11:06:59.011 2020-06-15 08:13:06.557 2020-07-30 12:42:57.571"
      ]
     },
     "execution_count": 41,
     "metadata": {},
     "output_type": "execute_result"
    }
   ],
   "source": [
    "out"
   ]
  }
 ],
 "metadata": {
  "kernelspec": {
   "display_name": "exofile",
   "language": "python",
   "name": "exofile"
  },
  "language_info": {
   "codemirror_mode": {
    "name": "ipython",
    "version": 3
   },
   "file_extension": ".py",
   "mimetype": "text/x-python",
   "name": "python",
   "nbconvert_exporter": "python",
   "pygments_lexer": "ipython3",
   "version": "3.10.2"
  }
 },
 "nbformat": 4,
 "nbformat_minor": 4
}
