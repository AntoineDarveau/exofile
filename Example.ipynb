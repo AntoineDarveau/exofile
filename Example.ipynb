{
 "cells": [
  {
   "cell_type": "markdown",
   "metadata": {},
   "source": [
    "# Import"
   ]
  },
  {
   "cell_type": "code",
   "execution_count": 1,
   "metadata": {},
   "outputs": [],
   "source": [
    "from exofile.archive import ExoFile"
   ]
  },
  {
   "cell_type": "markdown",
   "metadata": {},
   "source": [
    "# Load the exofile\n",
    "(The warning about the custom file is not worrysome, since there is no custom file yet)"
   ]
  },
  {
   "cell_type": "code",
   "execution_count": 2,
   "metadata": {},
   "outputs": [
    {
     "name": "stderr",
     "output_type": "stream",
     "text": [
      "/home/vandal/astro/exofile/exofile/archive.py:448: GetLocalFileWarning: DID NOT READ CUSTOM FILE. FileNotFoundError has occur when trying to query/read custom file.\n",
      "  warn(GetLocalFileWarning(file=\"custom file\", err=e))\n"
     ]
    }
   ],
   "source": [
    "data = ExoFile.load()"
   ]
  },
  {
   "cell_type": "markdown",
   "metadata": {},
   "source": [
    "# Acces columns\n",
    "(see column's names from the [Confirmed Planet Table](https://exoplanetarchive.ipac.caltech.edu/docs/API_exoplanet_columns.html))"
   ]
  },
  {
   "cell_type": "code",
   "execution_count": 3,
   "metadata": {},
   "outputs": [
    {
     "data": {
      "text/html": [
       "<div><i>ExoFile length=4375</i>\n",
       "<table id=\"table140142776810944\" class=\"table-striped table-bordered table-condensed\">\n",
       "<thead><tr><th>pl_name</th><th>pl_eqt</th><th>pl_orbper</th><th>pl_trandur</th></tr></thead>\n",
       "<thead><tr><th></th><th>K</th><th>d</th><th>d</th></tr></thead>\n",
       "<thead><tr><th>str29</th><th>int64</th><th>float64</th><th>float64</th></tr></thead>\n",
       "<tr><td>11 Com b</td><td>--</td><td>326.03</td><td>--</td></tr>\n",
       "<tr><td>11 UMi b</td><td>--</td><td>516.21997</td><td>--</td></tr>\n",
       "<tr><td>14 And b</td><td>--</td><td>185.84</td><td>--</td></tr>\n",
       "<tr><td>14 Her b</td><td>--</td><td>1773.40002</td><td>--</td></tr>\n",
       "<tr><td>16 Cyg B b</td><td>--</td><td>798.5</td><td>--</td></tr>\n",
       "<tr><td>18 Del b</td><td>--</td><td>993.3</td><td>--</td></tr>\n",
       "<tr><td>1RXS J160929.1-210524 b</td><td>1700</td><td>--</td><td>--</td></tr>\n",
       "<tr><td>24 Boo b</td><td>--</td><td>30.3506</td><td>--</td></tr>\n",
       "<tr><td>24 Sex b</td><td>--</td><td>452.8</td><td>--</td></tr>\n",
       "<tr><td>24 Sex c</td><td>--</td><td>883.0</td><td>--</td></tr>\n",
       "<tr><td>2MASS J01033563-5515561 AB b</td><td>--</td><td>--</td><td>--</td></tr>\n",
       "<tr><td>2MASS J01225093-2439505 b</td><td>1600</td><td>--</td><td>--</td></tr>\n",
       "<tr><td>2MASS J02192210-3925225 b</td><td>--</td><td>--</td><td>--</td></tr>\n",
       "<tr><td>2MASS J04414489+2301513 b</td><td>--</td><td>--</td><td>--</td></tr>\n",
       "<tr><td>2MASS J12073346-3932539 b</td><td>1150</td><td>--</td><td>--</td></tr>\n",
       "<tr><td>2MASS J19383260+4603591 b</td><td>--</td><td>416.0</td><td>--</td></tr>\n",
       "<tr><td>2MASS J21402931+1625183 A b</td><td>2075</td><td>7336.5</td><td>--</td></tr>\n",
       "<tr><td>2MASS J22362452+4751425 b</td><td>--</td><td>--</td><td>--</td></tr>\n",
       "<tr><td>30 Ari B b</td><td>--</td><td>335.10001</td><td>--</td></tr>\n",
       "<tr><td>4 UMa b</td><td>--</td><td>269.3</td><td>--</td></tr>\n",
       "<tr><td>42 Dra b</td><td>--</td><td>479.1</td><td>--</td></tr>\n",
       "<tr><td>...</td><td>...</td><td>...</td><td>...</td></tr>\n",
       "<tr><td>kap And b</td><td>1900</td><td>--</td><td>--</td></tr>\n",
       "<tr><td>kap CrB b</td><td>--</td><td>1285.0</td><td>--</td></tr>\n",
       "<tr><td>mu Leo b</td><td>--</td><td>357.8</td><td>--</td></tr>\n",
       "<tr><td>nu Oph b</td><td>--</td><td>530.21</td><td>--</td></tr>\n",
       "<tr><td>nu Oph c</td><td>--</td><td>3184.83</td><td>--</td></tr>\n",
       "<tr><td>ome Ser b</td><td>--</td><td>277.02</td><td>--</td></tr>\n",
       "<tr><td>omi CrB b</td><td>--</td><td>187.83</td><td>--</td></tr>\n",
       "<tr><td>omi UMa b</td><td>--</td><td>1630.0</td><td>--</td></tr>\n",
       "<tr><td>pi Men c</td><td>1170</td><td>6.2679</td><td>0.1230417</td></tr>\n",
       "<tr><td>psi 1 Dra B b</td><td>--</td><td>3117.0</td><td>--</td></tr>\n",
       "<tr><td>rho CrB b</td><td>614</td><td>39.8458</td><td>--</td></tr>\n",
       "<tr><td>rho CrB c</td><td>448</td><td>102.54</td><td>--</td></tr>\n",
       "<tr><td>tau Boo b</td><td>--</td><td>3.3124568</td><td>--</td></tr>\n",
       "<tr><td>tau Cet e</td><td>--</td><td>162.87</td><td>--</td></tr>\n",
       "<tr><td>tau Cet f</td><td>--</td><td>636.13</td><td>--</td></tr>\n",
       "<tr><td>tau Cet g</td><td>--</td><td>20.0</td><td>--</td></tr>\n",
       "<tr><td>tau Cet h</td><td>--</td><td>49.41</td><td>--</td></tr>\n",
       "<tr><td>tau Gem b</td><td>--</td><td>305.5</td><td>--</td></tr>\n",
       "<tr><td>ups And b</td><td>--</td><td>4.617033</td><td>--</td></tr>\n",
       "<tr><td>ups And c</td><td>--</td><td>241.258</td><td>--</td></tr>\n",
       "<tr><td>ups And d</td><td>--</td><td>1276.46</td><td>--</td></tr>\n",
       "<tr><td>xi Aql b</td><td>--</td><td>136.75</td><td>--</td></tr>\n",
       "</table></div>"
      ],
      "text/plain": [
       "<ExoFile length=4375>\n",
       "          pl_name            pl_eqt pl_orbper  pl_trandur\n",
       "                               K        d          d     \n",
       "           str29             int64   float64    float64  \n",
       "---------------------------- ------ ---------- ----------\n",
       "                    11 Com b     --     326.03         --\n",
       "                    11 UMi b     --  516.21997         --\n",
       "                    14 And b     --     185.84         --\n",
       "                    14 Her b     -- 1773.40002         --\n",
       "                  16 Cyg B b     --      798.5         --\n",
       "                    18 Del b     --      993.3         --\n",
       "     1RXS J160929.1-210524 b   1700         --         --\n",
       "                    24 Boo b     --    30.3506         --\n",
       "                    24 Sex b     --      452.8         --\n",
       "                    24 Sex c     --      883.0         --\n",
       "2MASS J01033563-5515561 AB b     --         --         --\n",
       "   2MASS J01225093-2439505 b   1600         --         --\n",
       "   2MASS J02192210-3925225 b     --         --         --\n",
       "   2MASS J04414489+2301513 b     --         --         --\n",
       "   2MASS J12073346-3932539 b   1150         --         --\n",
       "   2MASS J19383260+4603591 b     --      416.0         --\n",
       " 2MASS J21402931+1625183 A b   2075     7336.5         --\n",
       "   2MASS J22362452+4751425 b     --         --         --\n",
       "                  30 Ari B b     --  335.10001         --\n",
       "                     4 UMa b     --      269.3         --\n",
       "                    42 Dra b     --      479.1         --\n",
       "                         ...    ...        ...        ...\n",
       "                   kap And b   1900         --         --\n",
       "                   kap CrB b     --     1285.0         --\n",
       "                    mu Leo b     --      357.8         --\n",
       "                    nu Oph b     --     530.21         --\n",
       "                    nu Oph c     --    3184.83         --\n",
       "                   ome Ser b     --     277.02         --\n",
       "                   omi CrB b     --     187.83         --\n",
       "                   omi UMa b     --     1630.0         --\n",
       "                    pi Men c   1170     6.2679  0.1230417\n",
       "               psi 1 Dra B b     --     3117.0         --\n",
       "                   rho CrB b    614    39.8458         --\n",
       "                   rho CrB c    448     102.54         --\n",
       "                   tau Boo b     --  3.3124568         --\n",
       "                   tau Cet e     --     162.87         --\n",
       "                   tau Cet f     --     636.13         --\n",
       "                   tau Cet g     --       20.0         --\n",
       "                   tau Cet h     --      49.41         --\n",
       "                   tau Gem b     --      305.5         --\n",
       "                   ups And b     --   4.617033         --\n",
       "                   ups And c     --    241.258         --\n",
       "                   ups And d     --    1276.46         --\n",
       "                    xi Aql b     --     136.75         --"
      ]
     },
     "execution_count": 3,
     "metadata": {},
     "output_type": "execute_result"
    }
   ],
   "source": [
    "data['pl_name', 'pl_eqt', 'pl_orbper', 'pl_trandur']"
   ]
  },
  {
   "cell_type": "markdown",
   "metadata": {},
   "source": [
    "### Choose only some planets\n",
    "(can auto-complete, case sensitive)"
   ]
  },
  {
   "cell_type": "code",
   "execution_count": 4,
   "metadata": {},
   "outputs": [
    {
     "data": {
      "text/html": [
       "<div><i>ExoFile length=3</i>\n",
       "<table id=\"table140142776810992\" class=\"table-striped table-bordered table-condensed\">\n",
       "<thead><tr><th>pl_name</th><th>pl_eqt</th><th>pl_orbper</th><th>pl_trandur</th></tr></thead>\n",
       "<thead><tr><th></th><th>K</th><th>d</th><th>d</th></tr></thead>\n",
       "<thead><tr><th>str29</th><th>int64</th><th>float64</th><th>float64</th></tr></thead>\n",
       "<tr><td>HD 189733 b</td><td>1209</td><td>2.21857567</td><td>0.075152</td></tr>\n",
       "<tr><td>WASP-33 b</td><td>2782</td><td>1.21987</td><td>0.1189</td></tr>\n",
       "<tr><td>KELT-9 b</td><td>4050</td><td>1.4811235</td><td>0.16316</td></tr>\n",
       "</table></div>"
      ],
      "text/plain": [
       "<ExoFile length=3>\n",
       "  pl_name   pl_eqt pl_orbper  pl_trandur\n",
       "              K        d          d     \n",
       "   str29    int64   float64    float64  \n",
       "----------- ------ ---------- ----------\n",
       "HD 189733 b   1209 2.21857567   0.075152\n",
       "  WASP-33 b   2782    1.21987     0.1189\n",
       "   KELT-9 b   4050  1.4811235    0.16316"
      ]
     },
     "execution_count": 4,
     "metadata": {},
     "output_type": "execute_result"
    }
   ],
   "source": [
    "data.by_pl_name('HD 189', 'WASP-33 b', 'KELT-9 b')['pl_name', 'pl_eqt', 'pl_orbper', 'pl_trandur']"
   ]
  },
  {
   "cell_type": "markdown",
   "metadata": {},
   "source": [
    "## Find reference"
   ]
  },
  {
   "cell_type": "code",
   "execution_count": 5,
   "metadata": {},
   "outputs": [
    {
     "name": "stderr",
     "output_type": "stream",
     "text": [
      "/home/vandal/astro/exofile/exofile/archive.py:512: GetLocalFileWarning: DID NOT READ CUSTOM FILE. FileNotFoundError has occur when trying to query/read custom file.\n",
      "  warn(GetLocalFileWarning(file=\"custom file\", err=e))\n"
     ]
    }
   ],
   "source": [
    "ref = ExoFile.load_ref()"
   ]
  },
  {
   "cell_type": "code",
   "execution_count": 6,
   "metadata": {},
   "outputs": [
    {
     "data": {
      "text/html": [
       "&lt;MaskedColumn name=&apos;pl_eqt&apos; dtype=&apos;str42&apos; length=1&gt;\n",
       "<table>\n",
       "<tr><td>Addison et al. 2019</td></tr>\n",
       "</table>"
      ],
      "text/plain": [
       "<MaskedColumn name='pl_eqt' dtype='str42' length=1>\n",
       "Addison et al. 2019"
      ]
     },
     "execution_count": 6,
     "metadata": {},
     "output_type": "execute_result"
    }
   ],
   "source": [
    "ref.by_pl_name('HD 189')['pl_eqt']"
   ]
  },
  {
   "cell_type": "markdown",
   "metadata": {},
   "source": [
    "# Define custom values on your computer\n",
    "It is recommended to keep a file with your preferred values. It can be a simple .csv file that you can simply edit with excel. If you do so, make sure the column names and the units are the same as the NASA exoplanet archive."
   ]
  },
  {
   "cell_type": "code",
   "execution_count": 7,
   "metadata": {},
   "outputs": [],
   "source": [
    "from exofile.config import edit_param  # To edit\n",
    "\n",
    "from exofile.config import Param  # To show the current parameters\n",
    "from exofile.config import reset_param  # To reset parameters"
   ]
  },
  {
   "cell_type": "markdown",
   "metadata": {},
   "source": [
    "## 1. Specify the path to your custom table\n",
    "- A good practice is to keep a dedicated directory for the custom file, so it will always be loaded by `ExoFile.load()` wherever you are in your computer.\n",
    "### You need to modify the default parameters of the code (only once):\n",
    "Note that I'm using a .csv file so it's easier to edit with excel or numbers. However, you might need to specify the delimiter when loading (in my case, excel saves a .csv with \";\" and not \",\"): `ExoFile.load(delimiter=\";\")`. You might also need to specify the encoding, for example: `ExoFile.load(encoding='utf-8-sig')`. All the keywords used by `astropy.table.Table.read()` can be passed to `ExoFile.load()` to read the custom file."
   ]
  },
  {
   "cell_type": "code",
   "execution_count": 8,
   "metadata": {},
   "outputs": [
    {
     "data": {
      "text/plain": [
       "!!python/object/apply:collections.OrderedDict\n",
       "- - - sheet_key\n",
       "    - Description: string, Key of the google sheet with custom values\n",
       "      Value: 14Trm-AQ2eOphfwqJYrevnDrNVk56E-aH8yvRHQLjzWg\n",
       "  - - url\n",
       "    - Description: string, Where to find the exofile (still named masterfile) (url)\n",
       "      Value: https://www.astro.umontreal.ca/~adb/masterfile.ecsv\n",
       "  - - url_ref\n",
       "    - Description: string, Where to find the exofiles references (url)\n",
       "      Value: https://www.astro.umontreal.ca/~adb/reference_file.ecsv\n",
       "  - - custom_file\n",
       "    - Description: string, Local file with custom values. Will be used to complement\n",
       "        the online exofile\n",
       "      Value: !!python/object/apply:pathlib.PosixPath\n",
       "      - exofile_custom.csv\n",
       "  - - exofile\n",
       "    - Description: string, Local exofile to use offline.\n",
       "      Value: exofile.ecsv\n",
       "  - - ref_file\n",
       "    - Description: string, Local exofile references to use offline.\n",
       "      Value: exofile_ref.ecsv"
      ]
     },
     "execution_count": 8,
     "metadata": {},
     "output_type": "execute_result"
    }
   ],
   "source": [
    "# Edit the path to your local values\n",
    "from pathlib import Path\n",
    "PATH_TO_EXOFILE_DIR = Path(\".\")\n",
    "edit_param(custom_file=PATH_TO_EXOFILE_DIR / 'exofile_custom.csv')\n",
    "\n",
    "# Show all the default parameters. You can see the modified 'custom_file' key\n",
    "Param.load()"
   ]
  },
  {
   "cell_type": "code",
   "execution_count": 9,
   "metadata": {},
   "outputs": [
    {
     "data": {
      "text/plain": [
       "{'Value': 'exofile_custom.ecsv',\n",
       " 'Description': 'string, Local file with custom values. Will be used to complement the online exofile'}"
      ]
     },
     "execution_count": 9,
     "metadata": {},
     "output_type": "execute_result"
    }
   ],
   "source": [
    "# Not satisfied? Run reset_param() to go back to default parameters\n",
    "reset_param()\n",
    "Param.load()['custom_file']  # Show modification"
   ]
  },
  {
   "cell_type": "markdown",
   "metadata": {},
   "source": [
    "## 2. If the table exists, you're done! It will read it when using `ExoFile.load()`. Now, if you want to create the file, you can do it with excel and create a .csv or you can do it in a code with the ExoFile as follow."
   ]
  },
  {
   "cell_type": "code",
   "execution_count": 10,
   "metadata": {},
   "outputs": [
    {
     "data": {
      "text/html": [
       "<div><i>ExoFile masked=True length=2</i>\n",
       "<table id=\"table140142776601328\" class=\"table-striped table-bordered table-condensed\">\n",
       "<thead><tr><th>pl_name</th><th>pl_eqt</th><th>pl_trandur</th></tr></thead>\n",
       "<thead><tr><th></th><th></th><th>h</th></tr></thead>\n",
       "<thead><tr><th>str30</th><th>float64</th><th>float64</th></tr></thead>\n",
       "<tr><td>HD 189733 b</td><td>3000.0</td><td>--</td></tr>\n",
       "<tr><td>NewSecretPlanet b</td><td>2156.0</td><td>3.21</td></tr>\n",
       "</table></div>"
      ],
      "text/plain": [
       "<ExoFile masked=True length=2>\n",
       "     pl_name       pl_eqt pl_trandur\n",
       "                              h     \n",
       "      str30       float64  float64  \n",
       "----------------- ------- ----------\n",
       "      HD 189733 b  3000.0         --\n",
       "NewSecretPlanet b  2156.0       3.21"
      ]
     },
     "execution_count": 10,
     "metadata": {},
     "output_type": "execute_result"
    }
   ],
   "source": [
    "# Better to use masked column\n",
    "from exofile.table_custom import MaskedColumn\n",
    "custom = ExoFile(masked=True)\n",
    "\n",
    "# Define columns\n",
    "custom.add_column(MaskedColumn(name='pl_name', dtype='U30'))\n",
    "custom.add_column(MaskedColumn(name='pl_eqt'))\n",
    "custom.add_column(MaskedColumn(name='pl_trandur', unit='h'))\n",
    "\n",
    "# Add custom values\n",
    "custom.add_row({'pl_name':'HD 189733 b', 'pl_eqt':3000.})\n",
    "custom.add_row({'pl_name':'NewSecretPlanet b', 'pl_trandur':3.21, 'pl_eqt':2156})\n",
    "\n",
    "# Re-mask the table since add_row deals weirdly with masks\n",
    "custom = ExoFile(custom, masked=True)\n",
    "custom"
   ]
  },
  {
   "cell_type": "code",
   "execution_count": 11,
   "metadata": {},
   "outputs": [],
   "source": [
    "# Save the table to default custom table.\n",
    "custom.write_to_custom()"
   ]
  },
  {
   "cell_type": "markdown",
   "metadata": {},
   "source": [
    "Note that the default custom file is a .ecsv. It has the advantage to save the units. However, excel does not support it, so you would always need to edit it with a code like above."
   ]
  },
  {
   "cell_type": "markdown",
   "metadata": {},
   "source": [
    "### We can test if the modification worked"
   ]
  },
  {
   "cell_type": "code",
   "execution_count": 12,
   "metadata": {},
   "outputs": [
    {
     "name": "stderr",
     "output_type": "stream",
     "text": [
      "WARNING: NoUnitsWarning: Units conflict for 'pl_eqt' column. No units were specified. Assuming 'K'. [exofile.archive]\n",
      "WARNING: ColUnitsWarning: Units conflict for 'pl_trandur' column. Converting 'h' to 'd'. Make sure units were properly converted. [exofile.archive]\n"
     ]
    }
   ],
   "source": [
    "data = ExoFile.load()"
   ]
  },
  {
   "cell_type": "code",
   "execution_count": 13,
   "metadata": {},
   "outputs": [
    {
     "data": {
      "text/html": [
       "<div><i>ExoFile length=2</i>\n",
       "<table id=\"table140143873288816\" class=\"table-striped table-bordered table-condensed\">\n",
       "<thead><tr><th>pl_name</th><th>pl_eqt</th><th>pl_trandur</th></tr></thead>\n",
       "<thead><tr><th></th><th>K</th><th>d</th></tr></thead>\n",
       "<thead><tr><th>str29</th><th>int64</th><th>float64</th></tr></thead>\n",
       "<tr><td>HD 189733 b</td><td>3000</td><td>0.075152</td></tr>\n",
       "<tr><td>NewSecretPlanet b</td><td>2156</td><td>0.13374999999999998</td></tr>\n",
       "</table></div>"
      ],
      "text/plain": [
       "<ExoFile length=2>\n",
       "     pl_name      pl_eqt      pl_trandur    \n",
       "                    K             d         \n",
       "      str29       int64        float64      \n",
       "----------------- ------ -------------------\n",
       "      HD 189733 b   3000            0.075152\n",
       "NewSecretPlanet b   2156 0.13374999999999998"
      ]
     },
     "execution_count": 13,
     "metadata": {},
     "output_type": "execute_result"
    }
   ],
   "source": [
    "data.by_pl_name('HD 189', 'NewSecret')['pl_name','pl_eqt','pl_trandur']"
   ]
  },
  {
   "cell_type": "markdown",
   "metadata": {},
   "source": [
    "Note that __pl_trandur__ column has been convert to days to match _exofile.ecsv_ units"
   ]
  },
  {
   "cell_type": "markdown",
   "metadata": {},
   "source": [
    "### The reference for these values will automatically change"
   ]
  },
  {
   "cell_type": "code",
   "execution_count": 14,
   "metadata": {},
   "outputs": [
    {
     "data": {
      "text/html": [
       "<div><i>ExoFile length=2</i>\n",
       "<table id=\"table140142796623824\" class=\"table-striped table-bordered table-condensed\">\n",
       "<thead><tr><th>pl_name</th><th>pl_eqt</th><th>pl_trandur</th></tr></thead>\n",
       "<thead><tr><th>str29</th><th>str42</th><th>str34</th></tr></thead>\n",
       "<tr><td>HD 189733 b</td><td>custom ref</td><td>Baluev et al. 2015</td></tr>\n",
       "<tr><td>NewSecretPlanet b</td><td>custom ref</td><td>custom ref</td></tr>\n",
       "</table></div>"
      ],
      "text/plain": [
       "<ExoFile length=2>\n",
       "     pl_name        pl_eqt       pl_trandur    \n",
       "      str29         str42          str34       \n",
       "----------------- ---------- ------------------\n",
       "      HD 189733 b custom ref Baluev et al. 2015\n",
       "NewSecretPlanet b custom ref         custom ref"
      ]
     },
     "execution_count": 14,
     "metadata": {},
     "output_type": "execute_result"
    }
   ],
   "source": [
    "ref = ExoFile.load_ref()\n",
    "ref.by_pl_name('HD 189', 'NewSecret')['pl_name','pl_eqt','pl_trandur']"
   ]
  },
  {
   "cell_type": "markdown",
   "metadata": {},
   "source": [
    "# Keep a version of the exofile on your computer\n",
    "\n",
    "Usefull to be able to work offline, or save a subsample of the exofile to be quicker to use\n",
    "### WARNING: Remember to NOT edit the exofile direclty, use custom_table instead."
   ]
  },
  {
   "cell_type": "markdown",
   "metadata": {},
   "source": [
    "## 1. Save the complete _exofile.ecsv_ in a dedicated folder\n",
    "(so that `ExoFile.load()` will work offline)\n",
    "- Again, a good practice is to keep this safety _exofile.ecsv_ in the aforementioned dedicated directory (could be the same as the custom_file), so it will always be loaded by `ExoFile.load()` by default."
   ]
  },
  {
   "cell_type": "markdown",
   "metadata": {},
   "source": [
    "### a) Save a version of the exofile\n",
    "(Only this step needs an internet connection)"
   ]
  },
  {
   "cell_type": "code",
   "execution_count": 15,
   "metadata": {},
   "outputs": [],
   "source": [
    "# Save a version\n",
    "data = ExoFile.load()\n",
    "data.write(PATH_TO_EXOFILE_DIR / 'exofile.ecsv')"
   ]
  },
  {
   "cell_type": "markdown",
   "metadata": {},
   "source": [
    "### b) Specify the path of your local exofile"
   ]
  },
  {
   "cell_type": "code",
   "execution_count": 16,
   "metadata": {},
   "outputs": [],
   "source": [
    "# Edit the path to your local exofile\n",
    "edit_param(exofile=PATH_TO_EXOFILE_DIR / 'exofile.ecsv')"
   ]
  },
  {
   "cell_type": "markdown",
   "metadata": {},
   "source": [
    "### c) Load the exofile offline \n",
    "NOTE: the `query=False` is not necessary here if you're working offline. `ExoFile.load()` will automatically reach for the local default exofile if the query is not working."
   ]
  },
  {
   "cell_type": "code",
   "execution_count": 17,
   "metadata": {},
   "outputs": [],
   "source": [
    "# Read a local version:\n",
    "data = ExoFile.load(query=False)"
   ]
  },
  {
   "cell_type": "markdown",
   "metadata": {},
   "source": [
    "### Note that the same steps could be done but for the reference file."
   ]
  },
  {
   "cell_type": "code",
   "execution_count": 18,
   "metadata": {},
   "outputs": [],
   "source": [
    "# Save a version\n",
    "data = ExoFile.load_ref()\n",
    "data.write(PATH_TO_EXOFILE_DIR / 'exofile_ref.ecsv')\n",
    "\n",
    "# Edit the path to your local exofile\n",
    "edit_param(ref_file=PATH_TO_EXOFILE_DIR / 'exofile_ref.ecsv')\n",
    "\n",
    "# Read a local version:\n",
    "data = ExoFile.load_ref(query=False)"
   ]
  },
  {
   "cell_type": "markdown",
   "metadata": {},
   "source": [
    "## 2. Save a subsample of _exofile.ecsv_ in your code directory\n",
    "(so that `ExoFile.load()` will be quicker)\n",
    "- In this case, we don't want to edit the parameters of the `exofile` code since it's specific to a routine."
   ]
  },
  {
   "cell_type": "markdown",
   "metadata": {},
   "source": [
    "### a) Save a version of the exofile\n",
    "(Only this step needs a connection)"
   ]
  },
  {
   "cell_type": "code",
   "execution_count": 19,
   "metadata": {},
   "outputs": [],
   "source": [
    "# Save a version (in this example I only need 3 exoplanets)\n",
    "sub_sample = ExoFile.load().by_pl_name('HD 189','WASP-33', 'HD 209458')"
   ]
  },
  {
   "cell_type": "code",
   "execution_count": 20,
   "metadata": {},
   "outputs": [],
   "source": [
    "# Write in the directory where you run your routine\n",
    "PATH_TO_ROUTINE = Path(\".\")\n",
    "sub_sample.write(PATH_TO_ROUTINE / 'sub_sample_exofile.ecsv')"
   ]
  },
  {
   "cell_type": "markdown",
   "metadata": {},
   "source": [
    "### b) Specify the path of your local exofile only when loading it\n",
    "NOTES: \n",
    "- `query=False` is necessary here since otherwise, `ExoFile.load()` will only reach for the local exofile if the query doesn't work.\n",
    "- I assume the following line of code is called from your routine directory: `\"/path/to/your/routine/\"`"
   ]
  },
  {
   "cell_type": "code",
   "execution_count": 21,
   "metadata": {},
   "outputs": [
    {
     "name": "stderr",
     "output_type": "stream",
     "text": [
      "/home/vandal/astro/exofile/exofile/archive.py:448: GetLocalFileWarning: DID NOT READ CUSTOM FILE. TypeError has occur when trying to query/read custom file.\n",
      "  warn(GetLocalFileWarning(file=\"custom file\", err=e))\n"
     ]
    }
   ],
   "source": [
    "# Read a local version:\n",
    "data = ExoFile.load(query=False, exofile='sub_sample_exofile.ecsv')"
   ]
  },
  {
   "cell_type": "markdown",
   "metadata": {},
   "source": [
    "###  Again, the same steps could be done but for the reference file."
   ]
  },
  {
   "cell_type": "markdown",
   "metadata": {},
   "source": [
    "# Other considerations\n",
    "## Using in a code\n",
    "- __Local version__: It is good practice to keep a version of _exofile.ecsv_ on your computer (as show in the previous section). This way, `ExoFile.load()` will work offline without changing anything. The values won't necessary be up to date (since you have to download a version yourself), but you won't get an error, even without specifying `query=False`.\n",
    " - I recommend that you save this _exofile.ecsv_ in a dedicated folder and give the full path to `edit_param(exofile=\"/yourPATH_TO_EXOFILE_DIR/exofile.ecsv\")`\n",
    "- __Custom table__: I recommend that you put your custom values in the aforementioned dedicated folder and give the full path to `edit_param(custom_file=\"/yourPATH_TO_EXOFILE_DIR/exofile_custom.csv\")`. This way, wherever you call `ExoFile.load()`, the custom values will be added to the output table.\n",
    "- __Reduced *exofile.ecsv*__: To speed-up a code where you need only a subsample of exoplanets' informations, I recommend that you save a version of _sub_sample_exofile.ecsv_ in the directory your code is working and specify the name of the file when calling `ExoFile.load(exofile=\"sub_sample_exofile.ecsv\", query=False)` instead of editing the parameters of the `exofile` code.\n",
    "- __Dealing with astropy Table__: The exofile is a astropy table, which is useful to store data, but not to do calculations. In my opinion, it is better to convert the data you need with the desired units to an array to use it in a code. See the next lines of code for an example."
   ]
  },
  {
   "cell_type": "code",
   "execution_count": 22,
   "metadata": {},
   "outputs": [
    {
     "data": {
      "text/plain": [
       "masked_array(data=[--, --, --, ..., --, --, 2156.0],\n",
       "             mask=[ True,  True,  True, ...,  True,  True, False],\n",
       "       fill_value=1e+20)"
      ]
     },
     "execution_count": 22,
     "metadata": {},
     "output_type": "execute_result"
    }
   ],
   "source": [
    "# Example: Get all available equilibrium temperatures\n",
    "# and make sure it is in Kelvins\n",
    "data['pl_eqt'].to_array(units='K')"
   ]
  },
  {
   "cell_type": "code",
   "execution_count": 23,
   "metadata": {},
   "outputs": [
    {
     "data": {
      "text/plain": [
       "array([  nan,   nan,   nan, ...,   nan,   nan, 2156.])"
      ]
     },
     "execution_count": 23,
     "metadata": {},
     "output_type": "execute_result"
    }
   ],
   "source": [
    "# The method returns a masked array.\n",
    "# If you prefer to use Nans:\n",
    "from numpy import nan\n",
    "eqt = data['pl_eqt'].to_array(units='K')\n",
    "eqt = eqt.filled(fill_value=nan)\n",
    "eqt"
   ]
  },
  {
   "cell_type": "markdown",
   "metadata": {},
   "source": [
    "*Everything you need to understand on how to use the exofile is above.* <br>*The next part of the notebook is just supplementary example of what you could do.*\n",
    "-------"
   ]
  },
  {
   "cell_type": "markdown",
   "metadata": {},
   "source": [
    "# Bonus utilities\n",
    "## Accessing tables from NASA exoplanet archive\n",
    "The confirmed planet table and the extended planet table can be queried with the exofile code.\n",
    "### Example with the extended table (Usefull to get all references from a specific target)\n",
    "\n",
    "_NOTE: As of February 2022, the following is broken because the Extended Archive table has been removed from the NASA archive._"
   ]
  },
  {
   "cell_type": "code",
   "execution_count": 24,
   "metadata": {},
   "outputs": [],
   "source": [
    "from exofile.archive import ExtendedArchive"
   ]
  },
  {
   "cell_type": "code",
   "execution_count": 25,
   "metadata": {},
   "outputs": [
    {
     "ename": "InconsistentTableError",
     "evalue": "\nERROR: Unable to guess table format with the guesses listed below:\nReader:Ecsv fast_reader: {'enable': True} fill_values: [('', '0')] strict_names: True\nReader:FixedWidthTwoLine fast_reader: {'enable': True} fill_values: [('', '0')] strict_names: True\nReader:RST fast_reader: {'enable': True} fill_values: [('', '0')] strict_names: True\nReader:FastBasic fast_reader: {'enable': True} fill_values: [('', '0')] strict_names: True\nReader:Basic fast_reader: {'enable': True} fill_values: [('', '0')] strict_names: True\nReader:FastRdb fast_reader: {'enable': True} fill_values: [('', '0')] strict_names: True\nReader:Rdb fast_reader: {'enable': True} fill_values: [('', '0')] strict_names: True\nReader:FastTab fast_reader: {'enable': True} fill_values: [('', '0')] strict_names: True\nReader:Tab fast_reader: {'enable': True} fill_values: [('', '0')] strict_names: True\nReader:Cds fast_reader: {'enable': True} fill_values: [('', '0')] strict_names: True\nReader:Mrt fast_reader: {'enable': True} fill_values: [('', '0')] strict_names: True\nReader:Daophot fast_reader: {'enable': True} fill_values: [('', '0')] strict_names: True\nReader:SExtractor fast_reader: {'enable': True} fill_values: [('', '0')] strict_names: True\nReader:Ipac fast_reader: {'enable': True} fill_values: [('', '0')] strict_names: True\nReader:Latex fast_reader: {'enable': True} fill_values: [('', '0')] strict_names: True\nReader:AASTex fast_reader: {'enable': True} fill_values: [('', '0')] strict_names: True\nReader:FastCommentedHeader delimiter: '|' fast_reader: {'enable': True} fill_values: [('', '0')] quotechar: '\"' strict_names: True\nReader:FastCommentedHeader delimiter: '|' fast_reader: {'enable': True} fill_values: [('', '0')] quotechar: \"'\" strict_names: True\nReader:FastCommentedHeader delimiter: ',' fast_reader: {'enable': True} fill_values: [('', '0')] quotechar: '\"' strict_names: True\nReader:FastCommentedHeader delimiter: ',' fast_reader: {'enable': True} fill_values: [('', '0')] quotechar: \"'\" strict_names: True\nReader:FastCommentedHeader delimiter: ' ' fast_reader: {'enable': True} fill_values: [('', '0')] quotechar: '\"' strict_names: True\nReader:FastCommentedHeader delimiter: ' ' fast_reader: {'enable': True} fill_values: [('', '0')] quotechar: \"'\" strict_names: True\nReader:FastCommentedHeader delimiter: '\\\\s' fast_reader: {'enable': True} fill_values: [('', '0')] quotechar: '\"' strict_names: True\nReader:FastCommentedHeader delimiter: '\\\\s' fast_reader: {'enable': True} fill_values: [('', '0')] quotechar: \"'\" strict_names: True\nReader:CommentedHeader delimiter: '|' fast_reader: {'enable': True} fill_values: [('', '0')] quotechar: '\"' strict_names: True\nReader:CommentedHeader delimiter: '|' fast_reader: {'enable': True} fill_values: [('', '0')] quotechar: \"'\" strict_names: True\nReader:CommentedHeader delimiter: ',' fast_reader: {'enable': True} fill_values: [('', '0')] quotechar: '\"' strict_names: True\nReader:CommentedHeader delimiter: ',' fast_reader: {'enable': True} fill_values: [('', '0')] quotechar: \"'\" strict_names: True\nReader:CommentedHeader delimiter: ' ' fast_reader: {'enable': True} fill_values: [('', '0')] quotechar: '\"' strict_names: True\nReader:CommentedHeader delimiter: ' ' fast_reader: {'enable': True} fill_values: [('', '0')] quotechar: \"'\" strict_names: True\nReader:CommentedHeader delimiter: '\\\\s' fast_reader: {'enable': True} fill_values: [('', '0')] quotechar: '\"' strict_names: True\nReader:CommentedHeader delimiter: '\\\\s' fast_reader: {'enable': True} fill_values: [('', '0')] quotechar: \"'\" strict_names: True\nReader:FastBasic delimiter: '|' fast_reader: {'enable': True} fill_values: [('', '0')] quotechar: '\"' strict_names: True\nReader:FastBasic delimiter: '|' fast_reader: {'enable': True} fill_values: [('', '0')] quotechar: \"'\" strict_names: True\nReader:FastBasic delimiter: ',' fast_reader: {'enable': True} fill_values: [('', '0')] quotechar: '\"' strict_names: True\nReader:FastBasic delimiter: ',' fast_reader: {'enable': True} fill_values: [('', '0')] quotechar: \"'\" strict_names: True\nReader:FastBasic delimiter: ' ' fast_reader: {'enable': True} fill_values: [('', '0')] quotechar: '\"' strict_names: True\nReader:FastBasic delimiter: ' ' fast_reader: {'enable': True} fill_values: [('', '0')] quotechar: \"'\" strict_names: True\nReader:FastBasic delimiter: '\\\\s' fast_reader: {'enable': True} fill_values: [('', '0')] quotechar: '\"' strict_names: True\nReader:FastBasic delimiter: '\\\\s' fast_reader: {'enable': True} fill_values: [('', '0')] quotechar: \"'\" strict_names: True\nReader:Basic delimiter: '|' fast_reader: {'enable': True} fill_values: [('', '0')] quotechar: '\"' strict_names: True\nReader:Basic delimiter: '|' fast_reader: {'enable': True} fill_values: [('', '0')] quotechar: \"'\" strict_names: True\nReader:Basic delimiter: ',' fast_reader: {'enable': True} fill_values: [('', '0')] quotechar: '\"' strict_names: True\nReader:Basic delimiter: ',' fast_reader: {'enable': True} fill_values: [('', '0')] quotechar: \"'\" strict_names: True\nReader:Basic delimiter: ' ' fast_reader: {'enable': True} fill_values: [('', '0')] quotechar: '\"' strict_names: True\nReader:Basic delimiter: ' ' fast_reader: {'enable': True} fill_values: [('', '0')] quotechar: \"'\" strict_names: True\nReader:Basic delimiter: '\\\\s' fast_reader: {'enable': True} fill_values: [('', '0')] quotechar: '\"' strict_names: True\nReader:Basic delimiter: '\\\\s' fast_reader: {'enable': True} fill_values: [('', '0')] quotechar: \"'\" strict_names: True\nReader:FastNoHeader delimiter: '|' fast_reader: {'enable': True} fill_values: [('', '0')] quotechar: '\"' strict_names: True\nReader:FastNoHeader delimiter: '|' fast_reader: {'enable': True} fill_values: [('', '0')] quotechar: \"'\" strict_names: True\nReader:FastNoHeader delimiter: ',' fast_reader: {'enable': True} fill_values: [('', '0')] quotechar: '\"' strict_names: True\nReader:FastNoHeader delimiter: ',' fast_reader: {'enable': True} fill_values: [('', '0')] quotechar: \"'\" strict_names: True\nReader:FastNoHeader delimiter: ' ' fast_reader: {'enable': True} fill_values: [('', '0')] quotechar: '\"' strict_names: True\nReader:FastNoHeader delimiter: ' ' fast_reader: {'enable': True} fill_values: [('', '0')] quotechar: \"'\" strict_names: True\nReader:FastNoHeader delimiter: '\\\\s' fast_reader: {'enable': True} fill_values: [('', '0')] quotechar: '\"' strict_names: True\nReader:FastNoHeader delimiter: '\\\\s' fast_reader: {'enable': True} fill_values: [('', '0')] quotechar: \"'\" strict_names: True\nReader:NoHeader delimiter: '|' fast_reader: {'enable': True} fill_values: [('', '0')] quotechar: '\"' strict_names: True\nReader:NoHeader delimiter: '|' fast_reader: {'enable': True} fill_values: [('', '0')] quotechar: \"'\" strict_names: True\nReader:NoHeader delimiter: ',' fast_reader: {'enable': True} fill_values: [('', '0')] quotechar: '\"' strict_names: True\nReader:NoHeader delimiter: ',' fast_reader: {'enable': True} fill_values: [('', '0')] quotechar: \"'\" strict_names: True\nReader:NoHeader delimiter: ' ' fast_reader: {'enable': True} fill_values: [('', '0')] quotechar: '\"' strict_names: True\nReader:NoHeader delimiter: ' ' fast_reader: {'enable': True} fill_values: [('', '0')] quotechar: \"'\" strict_names: True\nReader:NoHeader delimiter: '\\\\s' fast_reader: {'enable': True} fill_values: [('', '0')] quotechar: '\"' strict_names: True\nReader:NoHeader delimiter: '\\\\s' fast_reader: {'enable': True} fill_values: [('', '0')] quotechar: \"'\" strict_names: True\nReader:Basic fast_reader: {'enable': True} fill_values: [('', '0')]\n\n************************************************************************\n** ERROR: Unable to guess table format with the guesses listed above. **\n**                                                                    **\n** To figure out why the table did not read, use guess=False and      **\n** fast_reader=False, along with any appropriate arguments to read(). **\n** In particular specify the format and any known attributes like the **\n** delimiter.                                                         **\n************************************************************************",
     "output_type": "error",
     "traceback": [
      "\u001b[0;31m---------------------------------------------------------------------------\u001b[0m",
      "\u001b[0;31mInconsistentTableError\u001b[0m                    Traceback (most recent call last)",
      "\u001b[0;32m~/astro/exofile/venv/lib64/python3.10/site-packages/astropy/io/ascii/ui.py\u001b[0m in \u001b[0;36m_guess\u001b[0;34m(table, read_kwargs, format, fast_reader)\u001b[0m\n\u001b[1;32m    521\u001b[0m             \u001b[0mreader\u001b[0m \u001b[0;34m=\u001b[0m \u001b[0mget_reader\u001b[0m\u001b[0;34m(\u001b[0m\u001b[0;34m**\u001b[0m\u001b[0mread_kwargs\u001b[0m\u001b[0;34m)\u001b[0m\u001b[0;34m\u001b[0m\u001b[0;34m\u001b[0m\u001b[0m\n\u001b[0;32m--> 522\u001b[0;31m             \u001b[0mdat\u001b[0m \u001b[0;34m=\u001b[0m \u001b[0mreader\u001b[0m\u001b[0;34m.\u001b[0m\u001b[0mread\u001b[0m\u001b[0;34m(\u001b[0m\u001b[0mtable\u001b[0m\u001b[0;34m)\u001b[0m\u001b[0;34m\u001b[0m\u001b[0;34m\u001b[0m\u001b[0m\n\u001b[0m\u001b[1;32m    523\u001b[0m             _read_trace.append({'kwargs': copy.deepcopy(read_kwargs),\n",
      "\u001b[0;32m~/astro/exofile/venv/lib64/python3.10/site-packages/astropy/io/ascii/core.py\u001b[0m in \u001b[0;36mread\u001b[0;34m(self, table)\u001b[0m\n\u001b[1;32m   1368\u001b[0m \u001b[0;34m\u001b[0m\u001b[0m\n\u001b[0;32m-> 1369\u001b[0;31m                     \u001b[0;32mraise\u001b[0m \u001b[0mInconsistentTableError\u001b[0m\u001b[0;34m(\u001b[0m\u001b[0merrmsg\u001b[0m\u001b[0;34m)\u001b[0m\u001b[0;34m\u001b[0m\u001b[0;34m\u001b[0m\u001b[0m\n\u001b[0m\u001b[1;32m   1370\u001b[0m \u001b[0;34m\u001b[0m\u001b[0m\n",
      "\u001b[0;31mInconsistentTableError\u001b[0m: Number of header columns (1) inconsistent with data columns (6) at data line 0\nHeader values: ['ERROR<br>']\nData values: ['Error', 'Type:', 'UserError', '-', 'table', 'parameter<br>']",
      "\nDuring handling of the above exception, another exception occurred:\n",
      "\u001b[0;31mInconsistentTableError\u001b[0m                    Traceback (most recent call last)",
      "\u001b[0;32m/tmp/ipykernel_28219/1633299956.py\u001b[0m in \u001b[0;36m<module>\u001b[0;34m\u001b[0m\n\u001b[1;32m      1\u001b[0m \u001b[0;31m# Query the whole archive, so can take some time\u001b[0m\u001b[0;34m\u001b[0m\u001b[0;34m\u001b[0m\u001b[0m\n\u001b[0;32m----> 2\u001b[0;31m \u001b[0mextend\u001b[0m \u001b[0;34m=\u001b[0m \u001b[0mExtendedArchive\u001b[0m\u001b[0;34m.\u001b[0m\u001b[0mquery\u001b[0m\u001b[0;34m(\u001b[0m\u001b[0;34m)\u001b[0m\u001b[0;34m\u001b[0m\u001b[0;34m\u001b[0m\u001b[0m\n\u001b[0m",
      "\u001b[0;32m~/astro/exofile/exofile/archive.py\u001b[0m in \u001b[0;36mquery\u001b[0;34m(cls, url_tail)\u001b[0m\n\u001b[1;32m    628\u001b[0m         \u001b[0mGet\u001b[0m \u001b[0mthe\u001b[0m \u001b[0mextended\u001b[0m \u001b[0mplanet\u001b[0m \u001b[0mtable\u001b[0m \u001b[0;32mfrom\u001b[0m \u001b[0mexoplanet\u001b[0m \u001b[0marchive\u001b[0m\u001b[0;34m\u001b[0m\u001b[0;34m\u001b[0m\u001b[0m\n\u001b[1;32m    629\u001b[0m         \"\"\"\n\u001b[0;32m--> 630\u001b[0;31m         \u001b[0;32mreturn\u001b[0m \u001b[0mcls\u001b[0m\u001b[0;34m.\u001b[0m\u001b[0m_query\u001b[0m\u001b[0;34m(\u001b[0m\u001b[0murl_tail\u001b[0m\u001b[0;34m)\u001b[0m\u001b[0;34m\u001b[0m\u001b[0;34m\u001b[0m\u001b[0m\n\u001b[0m\u001b[1;32m    631\u001b[0m \u001b[0;34m\u001b[0m\u001b[0m\n\u001b[1;32m    632\u001b[0m     \u001b[0;32mdef\u001b[0m \u001b[0mch_col_names\u001b[0m\u001b[0;34m(\u001b[0m\u001b[0mself\u001b[0m\u001b[0;34m)\u001b[0m\u001b[0;34m:\u001b[0m\u001b[0;34m\u001b[0m\u001b[0;34m\u001b[0m\u001b[0m\n",
      "\u001b[0;32m~/astro/exofile/exofile/archive.py\u001b[0m in \u001b[0;36m_query\u001b[0;34m(cls, url_tail)\u001b[0m\n\u001b[1;32m    594\u001b[0m \u001b[0;34m\u001b[0m\u001b[0m\n\u001b[1;32m    595\u001b[0m         \u001b[0;31m# Convert to an astropy Table\u001b[0m\u001b[0;34m\u001b[0m\u001b[0;34m\u001b[0m\u001b[0m\n\u001b[0;32m--> 596\u001b[0;31m         \u001b[0mdata\u001b[0m \u001b[0;34m=\u001b[0m \u001b[0mcls\u001b[0m\u001b[0;34m.\u001b[0m\u001b[0mread\u001b[0m\u001b[0;34m(\u001b[0m\u001b[0mdata\u001b[0m\u001b[0;34m.\u001b[0m\u001b[0mtext\u001b[0m\u001b[0;34m,\u001b[0m \u001b[0mformat\u001b[0m\u001b[0;34m=\u001b[0m\u001b[0;34m\"ascii\"\u001b[0m\u001b[0;34m)\u001b[0m\u001b[0;34m\u001b[0m\u001b[0;34m\u001b[0m\u001b[0m\n\u001b[0m\u001b[1;32m    597\u001b[0m \u001b[0;34m\u001b[0m\u001b[0m\n\u001b[1;32m    598\u001b[0m         \u001b[0;31m# Correct\u001b[0m\u001b[0;34m\u001b[0m\u001b[0;34m\u001b[0m\u001b[0m\n",
      "\u001b[0;32m~/astro/exofile/venv/lib64/python3.10/site-packages/astropy/table/connect.py\u001b[0m in \u001b[0;36m__call__\u001b[0;34m(self, *args, **kwargs)\u001b[0m\n\u001b[1;32m     60\u001b[0m         \u001b[0mdescriptions\u001b[0m \u001b[0;34m=\u001b[0m \u001b[0mkwargs\u001b[0m\u001b[0;34m.\u001b[0m\u001b[0mpop\u001b[0m\u001b[0;34m(\u001b[0m\u001b[0;34m'descriptions'\u001b[0m\u001b[0;34m,\u001b[0m \u001b[0;32mNone\u001b[0m\u001b[0;34m)\u001b[0m\u001b[0;34m\u001b[0m\u001b[0;34m\u001b[0m\u001b[0m\n\u001b[1;32m     61\u001b[0m \u001b[0;34m\u001b[0m\u001b[0m\n\u001b[0;32m---> 62\u001b[0;31m         \u001b[0mout\u001b[0m \u001b[0;34m=\u001b[0m \u001b[0mself\u001b[0m\u001b[0;34m.\u001b[0m\u001b[0mregistry\u001b[0m\u001b[0;34m.\u001b[0m\u001b[0mread\u001b[0m\u001b[0;34m(\u001b[0m\u001b[0mcls\u001b[0m\u001b[0;34m,\u001b[0m \u001b[0;34m*\u001b[0m\u001b[0margs\u001b[0m\u001b[0;34m,\u001b[0m \u001b[0;34m**\u001b[0m\u001b[0mkwargs\u001b[0m\u001b[0;34m)\u001b[0m\u001b[0;34m\u001b[0m\u001b[0;34m\u001b[0m\u001b[0m\n\u001b[0m\u001b[1;32m     63\u001b[0m \u001b[0;34m\u001b[0m\u001b[0m\n\u001b[1;32m     64\u001b[0m         \u001b[0;31m# For some readers (e.g., ascii.ecsv), the returned `out` class is not\u001b[0m\u001b[0;34m\u001b[0m\u001b[0;34m\u001b[0m\u001b[0m\n",
      "\u001b[0;32m~/astro/exofile/venv/lib64/python3.10/site-packages/astropy/io/registry/core.py\u001b[0m in \u001b[0;36mread\u001b[0;34m(self, cls, format, cache, *args, **kwargs)\u001b[0m\n\u001b[1;32m    197\u001b[0m \u001b[0;34m\u001b[0m\u001b[0m\n\u001b[1;32m    198\u001b[0m             \u001b[0mreader\u001b[0m \u001b[0;34m=\u001b[0m \u001b[0mself\u001b[0m\u001b[0;34m.\u001b[0m\u001b[0mget_reader\u001b[0m\u001b[0;34m(\u001b[0m\u001b[0mformat\u001b[0m\u001b[0;34m,\u001b[0m \u001b[0mcls\u001b[0m\u001b[0;34m)\u001b[0m\u001b[0;34m\u001b[0m\u001b[0;34m\u001b[0m\u001b[0m\n\u001b[0;32m--> 199\u001b[0;31m             \u001b[0mdata\u001b[0m \u001b[0;34m=\u001b[0m \u001b[0mreader\u001b[0m\u001b[0;34m(\u001b[0m\u001b[0;34m*\u001b[0m\u001b[0margs\u001b[0m\u001b[0;34m,\u001b[0m \u001b[0;34m**\u001b[0m\u001b[0mkwargs\u001b[0m\u001b[0;34m)\u001b[0m\u001b[0;34m\u001b[0m\u001b[0;34m\u001b[0m\u001b[0m\n\u001b[0m\u001b[1;32m    200\u001b[0m \u001b[0;34m\u001b[0m\u001b[0m\n\u001b[1;32m    201\u001b[0m             \u001b[0;32mif\u001b[0m \u001b[0;32mnot\u001b[0m \u001b[0misinstance\u001b[0m\u001b[0;34m(\u001b[0m\u001b[0mdata\u001b[0m\u001b[0;34m,\u001b[0m \u001b[0mcls\u001b[0m\u001b[0;34m)\u001b[0m\u001b[0;34m:\u001b[0m\u001b[0;34m\u001b[0m\u001b[0;34m\u001b[0m\u001b[0m\n",
      "\u001b[0;32m~/astro/exofile/venv/lib64/python3.10/site-packages/astropy/io/ascii/connect.py\u001b[0m in \u001b[0;36mio_read\u001b[0;34m(format, filename, **kwargs)\u001b[0m\n\u001b[1;32m     16\u001b[0m         \u001b[0mformat\u001b[0m \u001b[0;34m=\u001b[0m \u001b[0mre\u001b[0m\u001b[0;34m.\u001b[0m\u001b[0msub\u001b[0m\u001b[0;34m(\u001b[0m\u001b[0;34mr'^ascii\\.'\u001b[0m\u001b[0;34m,\u001b[0m \u001b[0;34m''\u001b[0m\u001b[0;34m,\u001b[0m \u001b[0mformat\u001b[0m\u001b[0;34m)\u001b[0m\u001b[0;34m\u001b[0m\u001b[0;34m\u001b[0m\u001b[0m\n\u001b[1;32m     17\u001b[0m         \u001b[0mkwargs\u001b[0m\u001b[0;34m[\u001b[0m\u001b[0;34m'format'\u001b[0m\u001b[0;34m]\u001b[0m \u001b[0;34m=\u001b[0m \u001b[0mformat\u001b[0m\u001b[0;34m\u001b[0m\u001b[0;34m\u001b[0m\u001b[0m\n\u001b[0;32m---> 18\u001b[0;31m     \u001b[0;32mreturn\u001b[0m \u001b[0mread\u001b[0m\u001b[0;34m(\u001b[0m\u001b[0mfilename\u001b[0m\u001b[0;34m,\u001b[0m \u001b[0;34m**\u001b[0m\u001b[0mkwargs\u001b[0m\u001b[0;34m)\u001b[0m\u001b[0;34m\u001b[0m\u001b[0;34m\u001b[0m\u001b[0m\n\u001b[0m\u001b[1;32m     19\u001b[0m \u001b[0;34m\u001b[0m\u001b[0m\n\u001b[1;32m     20\u001b[0m \u001b[0;34m\u001b[0m\u001b[0m\n",
      "\u001b[0;32m~/astro/exofile/venv/lib64/python3.10/site-packages/astropy/io/ascii/ui.py\u001b[0m in \u001b[0;36mread\u001b[0;34m(table, guess, **kwargs)\u001b[0m\n\u001b[1;32m    339\u001b[0m         \u001b[0;31m# through below to the non-guess way so that any problems result in a\u001b[0m\u001b[0;34m\u001b[0m\u001b[0;34m\u001b[0m\u001b[0m\n\u001b[1;32m    340\u001b[0m         \u001b[0;31m# more useful traceback.\u001b[0m\u001b[0;34m\u001b[0m\u001b[0;34m\u001b[0m\u001b[0m\n\u001b[0;32m--> 341\u001b[0;31m         \u001b[0mdat\u001b[0m \u001b[0;34m=\u001b[0m \u001b[0m_guess\u001b[0m\u001b[0;34m(\u001b[0m\u001b[0mtable\u001b[0m\u001b[0;34m,\u001b[0m \u001b[0mnew_kwargs\u001b[0m\u001b[0;34m,\u001b[0m \u001b[0mformat\u001b[0m\u001b[0;34m,\u001b[0m \u001b[0mfast_reader\u001b[0m\u001b[0;34m)\u001b[0m\u001b[0;34m\u001b[0m\u001b[0;34m\u001b[0m\u001b[0m\n\u001b[0m\u001b[1;32m    342\u001b[0m         \u001b[0;32mif\u001b[0m \u001b[0mdat\u001b[0m \u001b[0;32mis\u001b[0m \u001b[0;32mNone\u001b[0m\u001b[0;34m:\u001b[0m\u001b[0;34m\u001b[0m\u001b[0;34m\u001b[0m\u001b[0m\n\u001b[1;32m    343\u001b[0m             \u001b[0mguess\u001b[0m \u001b[0;34m=\u001b[0m \u001b[0;32mFalse\u001b[0m\u001b[0;34m\u001b[0m\u001b[0;34m\u001b[0m\u001b[0m\n",
      "\u001b[0;32m~/astro/exofile/venv/lib64/python3.10/site-packages/astropy/io/ascii/ui.py\u001b[0m in \u001b[0;36m_guess\u001b[0;34m(table, read_kwargs, format, fast_reader)\u001b[0m\n\u001b[1;32m    551\u001b[0m                    '************************************************************************']\n\u001b[1;32m    552\u001b[0m             \u001b[0mlines\u001b[0m\u001b[0;34m.\u001b[0m\u001b[0mextend\u001b[0m\u001b[0;34m(\u001b[0m\u001b[0mmsg\u001b[0m\u001b[0;34m)\u001b[0m\u001b[0;34m\u001b[0m\u001b[0;34m\u001b[0m\u001b[0m\n\u001b[0;32m--> 553\u001b[0;31m             \u001b[0;32mraise\u001b[0m \u001b[0mcore\u001b[0m\u001b[0;34m.\u001b[0m\u001b[0mInconsistentTableError\u001b[0m\u001b[0;34m(\u001b[0m\u001b[0;34m'\\n'\u001b[0m\u001b[0;34m.\u001b[0m\u001b[0mjoin\u001b[0m\u001b[0;34m(\u001b[0m\u001b[0mlines\u001b[0m\u001b[0;34m)\u001b[0m\u001b[0;34m)\u001b[0m\u001b[0;34m\u001b[0m\u001b[0;34m\u001b[0m\u001b[0m\n\u001b[0m\u001b[1;32m    554\u001b[0m \u001b[0;34m\u001b[0m\u001b[0m\n\u001b[1;32m    555\u001b[0m \u001b[0;34m\u001b[0m\u001b[0m\n",
      "\u001b[0;31mInconsistentTableError\u001b[0m: \nERROR: Unable to guess table format with the guesses listed below:\nReader:Ecsv fast_reader: {'enable': True} fill_values: [('', '0')] strict_names: True\nReader:FixedWidthTwoLine fast_reader: {'enable': True} fill_values: [('', '0')] strict_names: True\nReader:RST fast_reader: {'enable': True} fill_values: [('', '0')] strict_names: True\nReader:FastBasic fast_reader: {'enable': True} fill_values: [('', '0')] strict_names: True\nReader:Basic fast_reader: {'enable': True} fill_values: [('', '0')] strict_names: True\nReader:FastRdb fast_reader: {'enable': True} fill_values: [('', '0')] strict_names: True\nReader:Rdb fast_reader: {'enable': True} fill_values: [('', '0')] strict_names: True\nReader:FastTab fast_reader: {'enable': True} fill_values: [('', '0')] strict_names: True\nReader:Tab fast_reader: {'enable': True} fill_values: [('', '0')] strict_names: True\nReader:Cds fast_reader: {'enable': True} fill_values: [('', '0')] strict_names: True\nReader:Mrt fast_reader: {'enable': True} fill_values: [('', '0')] strict_names: True\nReader:Daophot fast_reader: {'enable': True} fill_values: [('', '0')] strict_names: True\nReader:SExtractor fast_reader: {'enable': True} fill_values: [('', '0')] strict_names: True\nReader:Ipac fast_reader: {'enable': True} fill_values: [('', '0')] strict_names: True\nReader:Latex fast_reader: {'enable': True} fill_values: [('', '0')] strict_names: True\nReader:AASTex fast_reader: {'enable': True} fill_values: [('', '0')] strict_names: True\nReader:FastCommentedHeader delimiter: '|' fast_reader: {'enable': True} fill_values: [('', '0')] quotechar: '\"' strict_names: True\nReader:FastCommentedHeader delimiter: '|' fast_reader: {'enable': True} fill_values: [('', '0')] quotechar: \"'\" strict_names: True\nReader:FastCommentedHeader delimiter: ',' fast_reader: {'enable': True} fill_values: [('', '0')] quotechar: '\"' strict_names: True\nReader:FastCommentedHeader delimiter: ',' fast_reader: {'enable': True} fill_values: [('', '0')] quotechar: \"'\" strict_names: True\nReader:FastCommentedHeader delimiter: ' ' fast_reader: {'enable': True} fill_values: [('', '0')] quotechar: '\"' strict_names: True\nReader:FastCommentedHeader delimiter: ' ' fast_reader: {'enable': True} fill_values: [('', '0')] quotechar: \"'\" strict_names: True\nReader:FastCommentedHeader delimiter: '\\\\s' fast_reader: {'enable': True} fill_values: [('', '0')] quotechar: '\"' strict_names: True\nReader:FastCommentedHeader delimiter: '\\\\s' fast_reader: {'enable': True} fill_values: [('', '0')] quotechar: \"'\" strict_names: True\nReader:CommentedHeader delimiter: '|' fast_reader: {'enable': True} fill_values: [('', '0')] quotechar: '\"' strict_names: True\nReader:CommentedHeader delimiter: '|' fast_reader: {'enable': True} fill_values: [('', '0')] quotechar: \"'\" strict_names: True\nReader:CommentedHeader delimiter: ',' fast_reader: {'enable': True} fill_values: [('', '0')] quotechar: '\"' strict_names: True\nReader:CommentedHeader delimiter: ',' fast_reader: {'enable': True} fill_values: [('', '0')] quotechar: \"'\" strict_names: True\nReader:CommentedHeader delimiter: ' ' fast_reader: {'enable': True} fill_values: [('', '0')] quotechar: '\"' strict_names: True\nReader:CommentedHeader delimiter: ' ' fast_reader: {'enable': True} fill_values: [('', '0')] quotechar: \"'\" strict_names: True\nReader:CommentedHeader delimiter: '\\\\s' fast_reader: {'enable': True} fill_values: [('', '0')] quotechar: '\"' strict_names: True\nReader:CommentedHeader delimiter: '\\\\s' fast_reader: {'enable': True} fill_values: [('', '0')] quotechar: \"'\" strict_names: True\nReader:FastBasic delimiter: '|' fast_reader: {'enable': True} fill_values: [('', '0')] quotechar: '\"' strict_names: True\nReader:FastBasic delimiter: '|' fast_reader: {'enable': True} fill_values: [('', '0')] quotechar: \"'\" strict_names: True\nReader:FastBasic delimiter: ',' fast_reader: {'enable': True} fill_values: [('', '0')] quotechar: '\"' strict_names: True\nReader:FastBasic delimiter: ',' fast_reader: {'enable': True} fill_values: [('', '0')] quotechar: \"'\" strict_names: True\nReader:FastBasic delimiter: ' ' fast_reader: {'enable': True} fill_values: [('', '0')] quotechar: '\"' strict_names: True\nReader:FastBasic delimiter: ' ' fast_reader: {'enable': True} fill_values: [('', '0')] quotechar: \"'\" strict_names: True\nReader:FastBasic delimiter: '\\\\s' fast_reader: {'enable': True} fill_values: [('', '0')] quotechar: '\"' strict_names: True\nReader:FastBasic delimiter: '\\\\s' fast_reader: {'enable': True} fill_values: [('', '0')] quotechar: \"'\" strict_names: True\nReader:Basic delimiter: '|' fast_reader: {'enable': True} fill_values: [('', '0')] quotechar: '\"' strict_names: True\nReader:Basic delimiter: '|' fast_reader: {'enable': True} fill_values: [('', '0')] quotechar: \"'\" strict_names: True\nReader:Basic delimiter: ',' fast_reader: {'enable': True} fill_values: [('', '0')] quotechar: '\"' strict_names: True\nReader:Basic delimiter: ',' fast_reader: {'enable': True} fill_values: [('', '0')] quotechar: \"'\" strict_names: True\nReader:Basic delimiter: ' ' fast_reader: {'enable': True} fill_values: [('', '0')] quotechar: '\"' strict_names: True\nReader:Basic delimiter: ' ' fast_reader: {'enable': True} fill_values: [('', '0')] quotechar: \"'\" strict_names: True\nReader:Basic delimiter: '\\\\s' fast_reader: {'enable': True} fill_values: [('', '0')] quotechar: '\"' strict_names: True\nReader:Basic delimiter: '\\\\s' fast_reader: {'enable': True} fill_values: [('', '0')] quotechar: \"'\" strict_names: True\nReader:FastNoHeader delimiter: '|' fast_reader: {'enable': True} fill_values: [('', '0')] quotechar: '\"' strict_names: True\nReader:FastNoHeader delimiter: '|' fast_reader: {'enable': True} fill_values: [('', '0')] quotechar: \"'\" strict_names: True\nReader:FastNoHeader delimiter: ',' fast_reader: {'enable': True} fill_values: [('', '0')] quotechar: '\"' strict_names: True\nReader:FastNoHeader delimiter: ',' fast_reader: {'enable': True} fill_values: [('', '0')] quotechar: \"'\" strict_names: True\nReader:FastNoHeader delimiter: ' ' fast_reader: {'enable': True} fill_values: [('', '0')] quotechar: '\"' strict_names: True\nReader:FastNoHeader delimiter: ' ' fast_reader: {'enable': True} fill_values: [('', '0')] quotechar: \"'\" strict_names: True\nReader:FastNoHeader delimiter: '\\\\s' fast_reader: {'enable': True} fill_values: [('', '0')] quotechar: '\"' strict_names: True\nReader:FastNoHeader delimiter: '\\\\s' fast_reader: {'enable': True} fill_values: [('', '0')] quotechar: \"'\" strict_names: True\nReader:NoHeader delimiter: '|' fast_reader: {'enable': True} fill_values: [('', '0')] quotechar: '\"' strict_names: True\nReader:NoHeader delimiter: '|' fast_reader: {'enable': True} fill_values: [('', '0')] quotechar: \"'\" strict_names: True\nReader:NoHeader delimiter: ',' fast_reader: {'enable': True} fill_values: [('', '0')] quotechar: '\"' strict_names: True\nReader:NoHeader delimiter: ',' fast_reader: {'enable': True} fill_values: [('', '0')] quotechar: \"'\" strict_names: True\nReader:NoHeader delimiter: ' ' fast_reader: {'enable': True} fill_values: [('', '0')] quotechar: '\"' strict_names: True\nReader:NoHeader delimiter: ' ' fast_reader: {'enable': True} fill_values: [('', '0')] quotechar: \"'\" strict_names: True\nReader:NoHeader delimiter: '\\\\s' fast_reader: {'enable': True} fill_values: [('', '0')] quotechar: '\"' strict_names: True\nReader:NoHeader delimiter: '\\\\s' fast_reader: {'enable': True} fill_values: [('', '0')] quotechar: \"'\" strict_names: True\nReader:Basic fast_reader: {'enable': True} fill_values: [('', '0')]\n\n************************************************************************\n** ERROR: Unable to guess table format with the guesses listed above. **\n**                                                                    **\n** To figure out why the table did not read, use guess=False and      **\n** fast_reader=False, along with any appropriate arguments to read(). **\n** In particular specify the format and any known attributes like the **\n** delimiter.                                                         **\n************************************************************************"
     ]
    }
   ],
   "source": [
    "# Query the whole archive, so can take some time\n",
    "extend = ExtendedArchive.query()"
   ]
  },
  {
   "cell_type": "code",
   "execution_count": 26,
   "metadata": {},
   "outputs": [
    {
     "ename": "NameError",
     "evalue": "name 'extend' is not defined",
     "output_type": "error",
     "traceback": [
      "\u001b[0;31m---------------------------------------------------------------------------\u001b[0m",
      "\u001b[0;31mNameError\u001b[0m                                 Traceback (most recent call last)",
      "\u001b[0;32m/tmp/ipykernel_28219/3118128526.py\u001b[0m in \u001b[0;36m<module>\u001b[0;34m\u001b[0m\n\u001b[1;32m      1\u001b[0m \u001b[0;31m# Change the columns name to get the same as the normal planet table\u001b[0m\u001b[0;34m\u001b[0m\u001b[0;34m\u001b[0m\u001b[0m\n\u001b[0;32m----> 2\u001b[0;31m \u001b[0mextend\u001b[0m\u001b[0;34m.\u001b[0m\u001b[0mch_col_names\u001b[0m\u001b[0;34m(\u001b[0m\u001b[0;34m)\u001b[0m\u001b[0;34m\u001b[0m\u001b[0;34m\u001b[0m\u001b[0m\n\u001b[0m",
      "\u001b[0;31mNameError\u001b[0m: name 'extend' is not defined"
     ]
    }
   ],
   "source": [
    "# Change the columns name to get the same as the normal planet table\n",
    "extend.ch_col_names()"
   ]
  },
  {
   "cell_type": "code",
   "execution_count": 27,
   "metadata": {},
   "outputs": [
    {
     "ename": "NameError",
     "evalue": "name 'extend' is not defined",
     "output_type": "error",
     "traceback": [
      "\u001b[0;31m---------------------------------------------------------------------------\u001b[0m",
      "\u001b[0;31mNameError\u001b[0m                                 Traceback (most recent call last)",
      "\u001b[0;32m/tmp/ipykernel_28219/144910783.py\u001b[0m in \u001b[0;36m<module>\u001b[0;34m\u001b[0m\n\u001b[1;32m      1\u001b[0m \u001b[0;31m# Get index of a planet in the table\u001b[0m\u001b[0;34m\u001b[0m\u001b[0;34m\u001b[0m\u001b[0m\n\u001b[0;32m----> 2\u001b[0;31m \u001b[0mindex\u001b[0m \u001b[0;34m=\u001b[0m \u001b[0mextend\u001b[0m\u001b[0;34m[\u001b[0m\u001b[0;34m'pl_name'\u001b[0m\u001b[0;34m]\u001b[0m\u001b[0;34m.\u001b[0m\u001b[0mfind\u001b[0m\u001b[0;34m(\u001b[0m\u001b[0;34m'HD 189'\u001b[0m\u001b[0;34m)\u001b[0m\u001b[0;34m[\u001b[0m\u001b[0;36m0\u001b[0m\u001b[0;34m]\u001b[0m\u001b[0;34m\u001b[0m\u001b[0;34m\u001b[0m\u001b[0m\n\u001b[0m\u001b[1;32m      3\u001b[0m \u001b[0mextend\u001b[0m\u001b[0;34m[\u001b[0m\u001b[0mindex\u001b[0m\u001b[0;34m]\u001b[0m\u001b[0;34m[\u001b[0m\u001b[0;34m'pl_name'\u001b[0m\u001b[0;34m,\u001b[0m \u001b[0;34m'pl_orbper'\u001b[0m\u001b[0;34m,\u001b[0m \u001b[0;34m'mpl_reflink'\u001b[0m\u001b[0;34m]\u001b[0m\u001b[0;34m\u001b[0m\u001b[0;34m\u001b[0m\u001b[0m\n",
      "\u001b[0;31mNameError\u001b[0m: name 'extend' is not defined"
     ]
    }
   ],
   "source": [
    "# Get index of a planet in the table\n",
    "index = extend['pl_name'].find('HD 189')[0]\n",
    "extend[index]['pl_name', 'pl_orbper', 'mpl_reflink']"
   ]
  },
  {
   "cell_type": "markdown",
   "metadata": {},
   "source": [
    "# Other examples"
   ]
  },
  {
   "cell_type": "markdown",
   "metadata": {},
   "source": [
    "## Search exoplanets confirmed by TESS"
   ]
  },
  {
   "cell_type": "code",
   "execution_count": 28,
   "metadata": {},
   "outputs": [
    {
     "data": {
      "text/html": [
       "<div><i>ExoFile length=122</i>\n",
       "<table id=\"table140142818208512\" class=\"table-striped table-bordered table-condensed\">\n",
       "<thead><tr><th>pl_name</th><th>pl_facility</th><th>pl_trandur</th><th>pl_massj</th><th>pl_eqt</th><th>st_j</th></tr></thead>\n",
       "<thead><tr><th></th><th></th><th>d</th><th>jupiterMass</th><th>K</th><th>mag</th></tr></thead>\n",
       "<thead><tr><th>str29</th><th>str44</th><th>float64</th><th>float64</th><th>int64</th><th>float64</th></tr></thead>\n",
       "<tr><td>AU Mic b</td><td>Transiting Exoplanet Survey Satellite (TESS)</td><td>0.1458333</td><td>--</td><td>--</td><td>5.436</td></tr>\n",
       "<tr><td>DS Tuc A b</td><td>Transiting Exoplanet Survey Satellite (TESS)</td><td>0.13235</td><td>--</td><td>--</td><td>7.122</td></tr>\n",
       "<tr><td>GJ 1252 b</td><td>Transiting Exoplanet Survey Satellite (TESS)</td><td>0.0305833</td><td>0.00658</td><td>1089</td><td>8.697</td></tr>\n",
       "<tr><td>GJ 143 b</td><td>Transiting Exoplanet Survey Satellite (TESS)</td><td>0.1345833</td><td>0.07142</td><td>422</td><td>6.081</td></tr>\n",
       "<tr><td>GJ 3473 b</td><td>Transiting Exoplanet Survey Satellite (TESS)</td><td>0.0395833</td><td>0.00585</td><td>773</td><td>9.627</td></tr>\n",
       "<tr><td>GJ 357 b</td><td>Transiting Exoplanet Survey Satellite (TESS)</td><td>0.06375</td><td>0.00579</td><td>525</td><td>7.337</td></tr>\n",
       "<tr><td>HD 108236 b</td><td>Transiting Exoplanet Survey Satellite (TESS)</td><td>0.0993333</td><td>--</td><td>1099</td><td>8.046</td></tr>\n",
       "<tr><td>HD 108236 c</td><td>Transiting Exoplanet Survey Satellite (TESS)</td><td>0.1191667</td><td>--</td><td>932</td><td>8.046</td></tr>\n",
       "<tr><td>HD 108236 d</td><td>Transiting Exoplanet Survey Satellite (TESS)</td><td>0.1604167</td><td>--</td><td>708</td><td>8.046</td></tr>\n",
       "<tr><td>HD 108236 e</td><td>Transiting Exoplanet Survey Satellite (TESS)</td><td>0.175</td><td>--</td><td>636</td><td>8.046</td></tr>\n",
       "<tr><td>HD 110082 b</td><td>Transiting Exoplanet Survey Satellite (TESS)</td><td>0.12125</td><td>--</td><td>--</td><td>8.272</td></tr>\n",
       "<tr><td>HD 110113 b</td><td>Transiting Exoplanet Survey Satellite (TESS)</td><td>0.099</td><td>0.01432</td><td>1371</td><td>8.903</td></tr>\n",
       "<tr><td>HD 1397 b</td><td>Transiting Exoplanet Survey Satellite (TESS)</td><td>0.3584</td><td>0.415</td><td>1228</td><td>6.442</td></tr>\n",
       "<tr><td>HD 15337 b</td><td>Transiting Exoplanet Survey Satellite (TESS)</td><td>0.10375</td><td>0.02363</td><td>1001</td><td>7.553</td></tr>\n",
       "<tr><td>HD 15337 c</td><td>Transiting Exoplanet Survey Satellite (TESS)</td><td>0.09375</td><td>0.02552</td><td>642</td><td>7.553</td></tr>\n",
       "<tr><td>HD 183579 b</td><td>Transiting Exoplanet Survey Satellite (TESS)</td><td>0.1816667</td><td>0.06198</td><td>769</td><td>7.518</td></tr>\n",
       "<tr><td>HD 191939 b</td><td>Transiting Exoplanet Survey Satellite (TESS)</td><td>0.128125</td><td>--</td><td>812</td><td>7.597</td></tr>\n",
       "<tr><td>HD 191939 c</td><td>Transiting Exoplanet Survey Satellite (TESS)</td><td>0.185625</td><td>--</td><td>552</td><td>7.597</td></tr>\n",
       "<tr><td>HD 191939 d</td><td>Transiting Exoplanet Survey Satellite (TESS)</td><td>0.2302917</td><td>--</td><td>499</td><td>7.597</td></tr>\n",
       "<tr><td>HD 202772 A b</td><td>Transiting Exoplanet Survey Satellite (TESS)</td><td>0.2346</td><td>1.017</td><td>2132</td><td>--</td></tr>\n",
       "<tr><td>HD 213885 b</td><td>Transiting Exoplanet Survey Satellite (TESS)</td><td>--</td><td>0.02778</td><td>2128</td><td>6.806</td></tr>\n",
       "<tr><td>...</td><td>...</td><td>...</td><td>...</td><td>...</td><td>...</td></tr>\n",
       "<tr><td>TOI-640 b</td><td>Transiting Exoplanet Survey Satellite (TESS)</td><td>0.1502</td><td>0.88</td><td>1749</td><td>9.519</td></tr>\n",
       "<tr><td>TOI-677 b</td><td>Transiting Exoplanet Survey Satellite (TESS)</td><td>0.1074</td><td>1.236</td><td>1252</td><td>8.722</td></tr>\n",
       "<tr><td>TOI-700 b</td><td>Transiting Exoplanet Survey Satellite (TESS)</td><td>0.0943</td><td>--</td><td>417</td><td>9.469</td></tr>\n",
       "<tr><td>TOI-700 c</td><td>Transiting Exoplanet Survey Satellite (TESS)</td><td>0.0589</td><td>--</td><td>356</td><td>9.469</td></tr>\n",
       "<tr><td>TOI-700 d</td><td>Transiting Exoplanet Survey Satellite (TESS)</td><td>0.1384</td><td>--</td><td>269</td><td>9.469</td></tr>\n",
       "<tr><td>TOI-763 b</td><td>Transiting Exoplanet Survey Satellite (TESS)</td><td>--</td><td>0.0308</td><td>1038</td><td>8.858</td></tr>\n",
       "<tr><td>TOI-763 c</td><td>Transiting Exoplanet Survey Satellite (TESS)</td><td>--</td><td>0.02932</td><td>800</td><td>8.858</td></tr>\n",
       "<tr><td>TOI-776 b</td><td>Transiting Exoplanet Survey Satellite (TESS)</td><td>0.1004167</td><td>0.01259</td><td>514</td><td>8.483</td></tr>\n",
       "<tr><td>TOI-776 c</td><td>Transiting Exoplanet Survey Satellite (TESS)</td><td>0.1245833</td><td>0.01668</td><td>415</td><td>8.483</td></tr>\n",
       "<tr><td>TOI-813 b</td><td>Transiting Exoplanet Survey Satellite (TESS)</td><td>--</td><td>--</td><td>610</td><td>9.326</td></tr>\n",
       "<tr><td>TOI-824 b</td><td>Transiting Exoplanet Survey Satellite (TESS)</td><td>0.04806</td><td>0.0581</td><td>1253</td><td>9.145</td></tr>\n",
       "<tr><td>TOI-837 b</td><td>Transiting Exoplanet Survey Satellite (TESS)</td><td>0.0815417</td><td>--</td><td>--</td><td>9.392</td></tr>\n",
       "<tr><td>TOI-849 b</td><td>Transiting Exoplanet Survey Satellite (TESS)</td><td>0.0654167</td><td>0.12299</td><td>--</td><td>10.832</td></tr>\n",
       "<tr><td>TOI-892 b</td><td>Transiting Exoplanet Survey Satellite (TESS)</td><td>--</td><td>0.95</td><td>1397</td><td>10.455</td></tr>\n",
       "<tr><td>TOI-905 b</td><td>Transiting Exoplanet Survey Satellite (TESS)</td><td>0.0845</td><td>0.667</td><td>1192</td><td>9.89</td></tr>\n",
       "<tr><td>TOI-942 b</td><td>Transiting Exoplanet Survey Satellite (TESS)</td><td>0.1418</td><td>--</td><td>--</td><td>10.231</td></tr>\n",
       "<tr><td>TOI-942 c</td><td>Transiting Exoplanet Survey Satellite (TESS)</td><td>0.07994</td><td>--</td><td>--</td><td>10.231</td></tr>\n",
       "<tr><td>TOI-954 b</td><td>Transiting Exoplanet Survey Satellite (TESS)</td><td>0.2120833</td><td>0.174</td><td>1526</td><td>9.18</td></tr>\n",
       "<tr><td>WASP-126 c</td><td>Transiting Exoplanet Survey Satellite (TESS)</td><td>--</td><td>0.20199</td><td>--</td><td>9.962</td></tr>\n",
       "<tr><td>WASP-18 c</td><td>Transiting Exoplanet Survey Satellite (TESS)</td><td>--</td><td>0.17368</td><td>--</td><td>8.409</td></tr>\n",
       "<tr><td>WD 1856+534 b</td><td>Transiting Exoplanet Survey Satellite (TESS)</td><td>0.0055542</td><td>--</td><td>163</td><td>15.677</td></tr>\n",
       "<tr><td>pi Men c</td><td>Transiting Exoplanet Survey Satellite (TESS)</td><td>0.1230417</td><td>0.01517</td><td>1170</td><td>4.869</td></tr>\n",
       "</table></div>"
      ],
      "text/plain": [
       "<ExoFile length=122>\n",
       "   pl_name                    pl_facility                  pl_trandur   pl_massj  pl_eqt   st_j \n",
       "                                                               d      jupiterMass   K      mag  \n",
       "    str29                        str44                      float64     float64   int64  float64\n",
       "------------- -------------------------------------------- ---------- ----------- ------ -------\n",
       "     AU Mic b Transiting Exoplanet Survey Satellite (TESS)  0.1458333          --     --   5.436\n",
       "   DS Tuc A b Transiting Exoplanet Survey Satellite (TESS)    0.13235          --     --   7.122\n",
       "    GJ 1252 b Transiting Exoplanet Survey Satellite (TESS)  0.0305833     0.00658   1089   8.697\n",
       "     GJ 143 b Transiting Exoplanet Survey Satellite (TESS)  0.1345833     0.07142    422   6.081\n",
       "    GJ 3473 b Transiting Exoplanet Survey Satellite (TESS)  0.0395833     0.00585    773   9.627\n",
       "     GJ 357 b Transiting Exoplanet Survey Satellite (TESS)    0.06375     0.00579    525   7.337\n",
       "  HD 108236 b Transiting Exoplanet Survey Satellite (TESS)  0.0993333          --   1099   8.046\n",
       "  HD 108236 c Transiting Exoplanet Survey Satellite (TESS)  0.1191667          --    932   8.046\n",
       "  HD 108236 d Transiting Exoplanet Survey Satellite (TESS)  0.1604167          --    708   8.046\n",
       "  HD 108236 e Transiting Exoplanet Survey Satellite (TESS)      0.175          --    636   8.046\n",
       "  HD 110082 b Transiting Exoplanet Survey Satellite (TESS)    0.12125          --     --   8.272\n",
       "  HD 110113 b Transiting Exoplanet Survey Satellite (TESS)      0.099     0.01432   1371   8.903\n",
       "    HD 1397 b Transiting Exoplanet Survey Satellite (TESS)     0.3584       0.415   1228   6.442\n",
       "   HD 15337 b Transiting Exoplanet Survey Satellite (TESS)    0.10375     0.02363   1001   7.553\n",
       "   HD 15337 c Transiting Exoplanet Survey Satellite (TESS)    0.09375     0.02552    642   7.553\n",
       "  HD 183579 b Transiting Exoplanet Survey Satellite (TESS)  0.1816667     0.06198    769   7.518\n",
       "  HD 191939 b Transiting Exoplanet Survey Satellite (TESS)   0.128125          --    812   7.597\n",
       "  HD 191939 c Transiting Exoplanet Survey Satellite (TESS)   0.185625          --    552   7.597\n",
       "  HD 191939 d Transiting Exoplanet Survey Satellite (TESS)  0.2302917          --    499   7.597\n",
       "HD 202772 A b Transiting Exoplanet Survey Satellite (TESS)     0.2346       1.017   2132      --\n",
       "  HD 213885 b Transiting Exoplanet Survey Satellite (TESS)         --     0.02778   2128   6.806\n",
       "          ...                                          ...        ...         ...    ...     ...\n",
       "    TOI-640 b Transiting Exoplanet Survey Satellite (TESS)     0.1502        0.88   1749   9.519\n",
       "    TOI-677 b Transiting Exoplanet Survey Satellite (TESS)     0.1074       1.236   1252   8.722\n",
       "    TOI-700 b Transiting Exoplanet Survey Satellite (TESS)     0.0943          --    417   9.469\n",
       "    TOI-700 c Transiting Exoplanet Survey Satellite (TESS)     0.0589          --    356   9.469\n",
       "    TOI-700 d Transiting Exoplanet Survey Satellite (TESS)     0.1384          --    269   9.469\n",
       "    TOI-763 b Transiting Exoplanet Survey Satellite (TESS)         --      0.0308   1038   8.858\n",
       "    TOI-763 c Transiting Exoplanet Survey Satellite (TESS)         --     0.02932    800   8.858\n",
       "    TOI-776 b Transiting Exoplanet Survey Satellite (TESS)  0.1004167     0.01259    514   8.483\n",
       "    TOI-776 c Transiting Exoplanet Survey Satellite (TESS)  0.1245833     0.01668    415   8.483\n",
       "    TOI-813 b Transiting Exoplanet Survey Satellite (TESS)         --          --    610   9.326\n",
       "    TOI-824 b Transiting Exoplanet Survey Satellite (TESS)    0.04806      0.0581   1253   9.145\n",
       "    TOI-837 b Transiting Exoplanet Survey Satellite (TESS)  0.0815417          --     --   9.392\n",
       "    TOI-849 b Transiting Exoplanet Survey Satellite (TESS)  0.0654167     0.12299     --  10.832\n",
       "    TOI-892 b Transiting Exoplanet Survey Satellite (TESS)         --        0.95   1397  10.455\n",
       "    TOI-905 b Transiting Exoplanet Survey Satellite (TESS)     0.0845       0.667   1192    9.89\n",
       "    TOI-942 b Transiting Exoplanet Survey Satellite (TESS)     0.1418          --     --  10.231\n",
       "    TOI-942 c Transiting Exoplanet Survey Satellite (TESS)    0.07994          --     --  10.231\n",
       "    TOI-954 b Transiting Exoplanet Survey Satellite (TESS)  0.2120833       0.174   1526    9.18\n",
       "   WASP-126 c Transiting Exoplanet Survey Satellite (TESS)         --     0.20199     --   9.962\n",
       "    WASP-18 c Transiting Exoplanet Survey Satellite (TESS)         --     0.17368     --   8.409\n",
       "WD 1856+534 b Transiting Exoplanet Survey Satellite (TESS)  0.0055542          --    163  15.677\n",
       "     pi Men c Transiting Exoplanet Survey Satellite (TESS)  0.1230417     0.01517   1170   4.869"
      ]
     },
     "execution_count": 28,
     "metadata": {},
     "output_type": "execute_result"
    }
   ],
   "source": [
    "index = data['pl_facility'].find('TESS')[0]\n",
    "tess_data = data[index]\n",
    "tess_data['pl_name', 'pl_facility', 'pl_trandur', 'pl_massj', 'pl_eqt','st_j']"
   ]
  },
  {
   "cell_type": "markdown",
   "metadata": {},
   "source": [
    "### Use it to compute some quantities\n",
    "#### Relative flux at 1.25 microns (J-band central wavelength) assuming blackbody radiation"
   ]
  },
  {
   "cell_type": "code",
   "execution_count": 29,
   "metadata": {},
   "outputs": [],
   "source": [
    "import astropy.units as u\n",
    "from astropy.modeling.models import BlackBody\n",
    "from numpy import isfinite, where\n",
    "import matplotlib.pyplot as plt"
   ]
  },
  {
   "cell_type": "code",
   "execution_count": 30,
   "metadata": {},
   "outputs": [
    {
     "data": {
      "text/latex": [
       "$[   0,~   0,~1089,~\\dots,~   0,~ 163,~1170] \\; \\mathrm{K}$"
      ],
      "text/plain": [
       "<Quantity [   0,    0, 1089,  422,  773,  525, 1099,  932,  708,  636,\n",
       "              0, 1371, 1228, 1001,  642,  769,  812,  552,  499, 2132,\n",
       "           2128,  701, 1073,    0,    0,    0, 2061,  876,    0,    0,\n",
       "           1311, 1411, 1174, 1572, 1326, 1075,  965,  610,  517,  409,\n",
       "            617,  805,  700,  650,  370,  433,  892,  353, 1978,  435,\n",
       "              0,  810,  637,    0,  754, 1037,  828,  638,  413,  344,\n",
       "           1395, 1679,    0,  918, 1405, 1588, 1619, 1669, 1715, 1198,\n",
       "            767, 1040,  873,  690,  600,  470,  362,  759,  497,  628,\n",
       "              0,    0,  528,  424,  340,  981,  674, 1491,  875,  722,\n",
       "           1370,  760,  611, 2480,  860,    0,    0,  750, 1714, 1586,\n",
       "           1749, 1252,  417,  356,  269, 1038,  800,  514,  415,  610,\n",
       "           1253,    0,    0, 1397, 1192,    0,    0, 1526,    0,    0,\n",
       "            163, 1170] K>"
      ]
     },
     "execution_count": 30,
     "metadata": {},
     "output_type": "execute_result"
    }
   ],
   "source": [
    "T_pl = tess_data['pl_eqt'].quantity\n",
    "T_star = tess_data['st_teff'].quantity\n",
    "R_pl = tess_data['pl_radj'].quantity\n",
    "R_st = tess_data['st_rad'].quantity\n",
    "T_pl"
   ]
  },
  {
   "cell_type": "code",
   "execution_count": 31,
   "metadata": {},
   "outputs": [
    {
     "name": "stderr",
     "output_type": "stream",
     "text": [
      "/home/vandal/astro/exofile/venv/lib64/python3.10/site-packages/astropy/units/quantity.py:613: RuntimeWarning: divide by zero encountered in true_divide\n",
      "  result = super().__array_ufunc__(function, method, *arrays, **kwargs)\n"
     ]
    }
   ],
   "source": [
    "bb_pl = BlackBody(temperature=T_pl)\n",
    "bb_star = BlackBody(temperature=T_star)\n",
    "F_pl = bb_pl(1.25 * u.micron)\n",
    "F_star = bb_star(1.25 * u.micron)"
   ]
  },
  {
   "cell_type": "code",
   "execution_count": 32,
   "metadata": {},
   "outputs": [
    {
     "name": "stderr",
     "output_type": "stream",
     "text": [
      "/home/vandal/astro/exofile/venv/lib64/python3.10/site-packages/astropy/units/quantity.py:613: RuntimeWarning: invalid value encountered in true_divide\n",
      "  result = super().__array_ufunc__(function, method, *arrays, **kwargs)\n"
     ]
    },
    {
     "data": {
      "text/latex": [
       "$\\mathrm{\\frac{R_{\\rm J}^{2}}{R_{\\odot}^{2}}}$"
      ],
      "text/plain": [
       "Unit(\"jupiterRad2 / solRad2\")"
      ]
     },
     "execution_count": 32,
     "metadata": {},
     "output_type": "execute_result"
    }
   ],
   "source": [
    "ratio = F_pl/F_star * (R_pl/R_st)**2\n",
    "ratio.unit"
   ]
  },
  {
   "cell_type": "code",
   "execution_count": 33,
   "metadata": {},
   "outputs": [
    {
     "data": {
      "text/latex": [
       "$\\mathrm{}$"
      ],
      "text/plain": [
       "Unit(dimensionless)"
      ]
     },
     "execution_count": 33,
     "metadata": {},
     "output_type": "execute_result"
    }
   ],
   "source": [
    "ratio = ratio.decompose()\n",
    "ratio.unit"
   ]
  },
  {
   "cell_type": "code",
   "execution_count": 34,
   "metadata": {},
   "outputs": [
    {
     "name": "stderr",
     "output_type": "stream",
     "text": [
      "/home/vandal/astro/exofile/venv/lib64/python3.10/site-packages/matplotlib/text.py:830: UserWarning: Warning: converting a masked element to nan.\n",
      "  x = float(self.convert_xunits(self._x))\n",
      "/home/vandal/astro/exofile/venv/lib64/python3.10/site-packages/matplotlib/text.py:690: UserWarning: Warning: converting a masked element to nan.\n",
      "  posx = float(self.convert_xunits(self._x))\n",
      "posx and posy should be finite values\n",
      "posx and posy should be finite values\n",
      "posx and posy should be finite values\n",
      "posx and posy should be finite values\n"
     ]
    },
    {
     "name": "stdout",
     "output_type": "stream",
     "text": [
      "-- 8.989441578369101e-05 HD 202772 A b\n",
      "8.825 0.0001503175207900052 HD 2685 b\n",
      "8.922 0.00027135507196673485 HIP 65 A b\n",
      "8.446 4.502097158619129e-05 LTT 9779 b\n",
      "8.485 3.067046338454575e-05 TOI-1333 b\n",
      "10.324 1.0420547567824628e-05 TOI-150.01\n",
      "11.371 6.734298652021508e-05 TOI-157 b\n",
      "9.505 1.638214875692783e-05 TOI-1601 b\n",
      "10.404 4.251768531917768e-05 TOI-163 b\n",
      "11.181 5.5455189684329594e-05 TOI-169 b\n",
      "8.879 1.6643444459280137e-05 TOI-561 b\n",
      "10.044 7.515415449639074e-05 TOI-564 b\n",
      "9.17 2.4738432354209725e-05 TOI-628 b\n",
      "9.519 5.250947118853418e-05 TOI-640 b\n",
      "15.677 inf WD 1856+534 b\n"
     ]
    },
    {
     "data": {
      "image/png": "[encoded data removed]",
      "text/plain": [
       "<Figure size 432x288 with 1 Axes>"
      ]
     },
     "metadata": {
      "needs_background": "light"
     },
     "output_type": "display_data"
    }
   ],
   "source": [
    "mask = (ratio == 0) | (~isfinite(ratio)) \n",
    "plt.plot(tess_data['st_j'][~mask], ratio[~mask]*1e6, 'o')\n",
    "\n",
    "itext = where(ratio > 10 * 1e-6)[0]\n",
    "for i in itext:\n",
    "    print(tess_data['st_j'][i],ratio[i], tess_data['pl_name'][i])\n",
    "    plt.text(tess_data['st_j'][i], ratio[i]*1e6, tess_data['pl_name'][i])\n",
    "\n",
    "plt.ylabel('Fp/Fstar [ppm] at 1.25 micron')\n",
    "_ = plt.xlabel('mag J')"
   ]
  },
  {
   "cell_type": "markdown",
   "metadata": {},
   "source": [
    "## Edit columns or values\n",
    "See https://docs.astropy.org/en/stable/table/modify_table.html"
   ]
  },
  {
   "cell_type": "markdown",
   "metadata": {},
   "source": [
    "### Change units"
   ]
  },
  {
   "cell_type": "code",
   "execution_count": 35,
   "metadata": {},
   "outputs": [],
   "source": [
    "test_table = ExoFile(tess_data.copy(), masked=True, copy=False)"
   ]
  },
  {
   "cell_type": "code",
   "execution_count": 36,
   "metadata": {},
   "outputs": [],
   "source": [
    "# You cannot change the units like that\n",
    "new_data = test_table['pl_trandur'].to('h')\n",
    "mask = test_table['pl_trandur'].mask\n",
    "test_table['pl_trandur'] = new_data\n",
    "test_table['pl_trandur'].mask = mask"
   ]
  },
  {
   "cell_type": "code",
   "execution_count": 37,
   "metadata": {},
   "outputs": [
    {
     "data": {
      "text/html": [
       "&lt;MaskedColumn name=&apos;pl_trandur&apos; dtype=&apos;float64&apos; unit=&apos;h&apos; length=122&gt;\n",
       "<table>\n",
       "<tr><td>3.4999992</td></tr>\n",
       "<tr><td>3.1764</td></tr>\n",
       "<tr><td>0.7339992</td></tr>\n",
       "<tr><td>3.2299992</td></tr>\n",
       "<tr><td>0.9499992</td></tr>\n",
       "<tr><td>1.53</td></tr>\n",
       "<tr><td>2.3839992</td></tr>\n",
       "<tr><td>2.8600008</td></tr>\n",
       "<tr><td>3.8500008</td></tr>\n",
       "<tr><td>4.199999999999999</td></tr>\n",
       "<tr><td>2.91</td></tr>\n",
       "<tr><td>2.3760000000000003</td></tr>\n",
       "<tr><td>8.6016</td></tr>\n",
       "<tr><td>2.4899999999999998</td></tr>\n",
       "<tr><td>2.25</td></tr>\n",
       "<tr><td>4.3600008</td></tr>\n",
       "<tr><td>3.0749999999999997</td></tr>\n",
       "<tr><td>4.455</td></tr>\n",
       "<tr><td>5.5270008</td></tr>\n",
       "<tr><td>5.6304</td></tr>\n",
       "<tr><td>--</td></tr>\n",
       "<tr><td>2.5150008</td></tr>\n",
       "<tr><td>2.1580008</td></tr>\n",
       "<tr><td>--</td></tr>\n",
       "<tr><td>...</td></tr>\n",
       "<tr><td>1.0272</td></tr>\n",
       "<tr><td>3.7824</td></tr>\n",
       "<tr><td>3.6048</td></tr>\n",
       "<tr><td>2.5776</td></tr>\n",
       "<tr><td>2.2632</td></tr>\n",
       "<tr><td>1.4136</td></tr>\n",
       "<tr><td>3.3216</td></tr>\n",
       "<tr><td>--</td></tr>\n",
       "<tr><td>--</td></tr>\n",
       "<tr><td>2.4100007999999997</td></tr>\n",
       "<tr><td>2.9899991999999997</td></tr>\n",
       "<tr><td>--</td></tr>\n",
       "<tr><td>1.15344</td></tr>\n",
       "<tr><td>1.9570007999999999</td></tr>\n",
       "<tr><td>1.5700007999999999</td></tr>\n",
       "<tr><td>--</td></tr>\n",
       "<tr><td>2.028</td></tr>\n",
       "<tr><td>3.4032</td></tr>\n",
       "<tr><td>1.9185599999999998</td></tr>\n",
       "<tr><td>5.0899992</td></tr>\n",
       "<tr><td>--</td></tr>\n",
       "<tr><td>--</td></tr>\n",
       "<tr><td>0.1333008</td></tr>\n",
       "<tr><td>2.9530008</td></tr>\n",
       "</table>"
      ],
      "text/plain": [
       "<MaskedColumn name='pl_trandur' dtype='float64' unit='h' length=122>\n",
       "         3.4999992\n",
       "            3.1764\n",
       "         0.7339992\n",
       "         3.2299992\n",
       "         0.9499992\n",
       "              1.53\n",
       "         2.3839992\n",
       "         2.8600008\n",
       "         3.8500008\n",
       " 4.199999999999999\n",
       "              2.91\n",
       "2.3760000000000003\n",
       "            8.6016\n",
       "2.4899999999999998\n",
       "              2.25\n",
       "         4.3600008\n",
       "3.0749999999999997\n",
       "             4.455\n",
       "         5.5270008\n",
       "            5.6304\n",
       "                --\n",
       "         2.5150008\n",
       "         2.1580008\n",
       "                --\n",
       "               ...\n",
       "            1.0272\n",
       "            3.7824\n",
       "            3.6048\n",
       "            2.5776\n",
       "            2.2632\n",
       "            1.4136\n",
       "            3.3216\n",
       "                --\n",
       "                --\n",
       "2.4100007999999997\n",
       "2.9899991999999997\n",
       "                --\n",
       "           1.15344\n",
       "1.9570007999999999\n",
       "1.5700007999999999\n",
       "                --\n",
       "             2.028\n",
       "            3.4032\n",
       "1.9185599999999998\n",
       "         5.0899992\n",
       "                --\n",
       "                --\n",
       "         0.1333008\n",
       "         2.9530008"
      ]
     },
     "execution_count": 37,
     "metadata": {},
     "output_type": "execute_result"
    }
   ],
   "source": [
    "test_table['pl_trandur']"
   ]
  },
  {
   "cell_type": "code",
   "execution_count": 38,
   "metadata": {},
   "outputs": [
    {
     "data": {
      "text/html": [
       "&lt;MaskedColumn name=&apos;pl_trandur&apos; dtype=&apos;float64&apos; unit=&apos;d&apos; length=122&gt;\n",
       "<table>\n",
       "<tr><td>0.1458333</td></tr>\n",
       "<tr><td>0.13235</td></tr>\n",
       "<tr><td>0.0305833</td></tr>\n",
       "<tr><td>0.1345833</td></tr>\n",
       "<tr><td>0.0395833</td></tr>\n",
       "<tr><td>0.06375</td></tr>\n",
       "<tr><td>0.0993333</td></tr>\n",
       "<tr><td>0.1191667</td></tr>\n",
       "<tr><td>0.1604167</td></tr>\n",
       "<tr><td>0.175</td></tr>\n",
       "<tr><td>0.12125</td></tr>\n",
       "<tr><td>0.099</td></tr>\n",
       "<tr><td>0.3584</td></tr>\n",
       "<tr><td>0.10375</td></tr>\n",
       "<tr><td>0.09375</td></tr>\n",
       "<tr><td>0.1816667</td></tr>\n",
       "<tr><td>0.128125</td></tr>\n",
       "<tr><td>0.185625</td></tr>\n",
       "<tr><td>0.2302917</td></tr>\n",
       "<tr><td>0.2346</td></tr>\n",
       "<tr><td>--</td></tr>\n",
       "<tr><td>0.1047917</td></tr>\n",
       "<tr><td>0.0899167</td></tr>\n",
       "<tr><td>--</td></tr>\n",
       "<tr><td>...</td></tr>\n",
       "<tr><td>0.0428</td></tr>\n",
       "<tr><td>0.1576</td></tr>\n",
       "<tr><td>0.1502</td></tr>\n",
       "<tr><td>0.1074</td></tr>\n",
       "<tr><td>0.0943</td></tr>\n",
       "<tr><td>0.0589</td></tr>\n",
       "<tr><td>0.1384</td></tr>\n",
       "<tr><td>--</td></tr>\n",
       "<tr><td>--</td></tr>\n",
       "<tr><td>0.1004167</td></tr>\n",
       "<tr><td>0.1245833</td></tr>\n",
       "<tr><td>--</td></tr>\n",
       "<tr><td>0.04806</td></tr>\n",
       "<tr><td>0.0815417</td></tr>\n",
       "<tr><td>0.0654167</td></tr>\n",
       "<tr><td>--</td></tr>\n",
       "<tr><td>0.0845</td></tr>\n",
       "<tr><td>0.1418</td></tr>\n",
       "<tr><td>0.07994</td></tr>\n",
       "<tr><td>0.2120833</td></tr>\n",
       "<tr><td>--</td></tr>\n",
       "<tr><td>--</td></tr>\n",
       "<tr><td>0.0055542</td></tr>\n",
       "<tr><td>0.1230417</td></tr>\n",
       "</table>"
      ],
      "text/plain": [
       "<MaskedColumn name='pl_trandur' dtype='float64' unit='d' length=122>\n",
       "0.1458333\n",
       "  0.13235\n",
       "0.0305833\n",
       "0.1345833\n",
       "0.0395833\n",
       "  0.06375\n",
       "0.0993333\n",
       "0.1191667\n",
       "0.1604167\n",
       "    0.175\n",
       "  0.12125\n",
       "    0.099\n",
       "   0.3584\n",
       "  0.10375\n",
       "  0.09375\n",
       "0.1816667\n",
       " 0.128125\n",
       " 0.185625\n",
       "0.2302917\n",
       "   0.2346\n",
       "       --\n",
       "0.1047917\n",
       "0.0899167\n",
       "       --\n",
       "      ...\n",
       "   0.0428\n",
       "   0.1576\n",
       "   0.1502\n",
       "   0.1074\n",
       "   0.0943\n",
       "   0.0589\n",
       "   0.1384\n",
       "       --\n",
       "       --\n",
       "0.1004167\n",
       "0.1245833\n",
       "       --\n",
       "  0.04806\n",
       "0.0815417\n",
       "0.0654167\n",
       "       --\n",
       "   0.0845\n",
       "   0.1418\n",
       "  0.07994\n",
       "0.2120833\n",
       "       --\n",
       "       --\n",
       "0.0055542\n",
       "0.1230417"
      ]
     },
     "execution_count": 38,
     "metadata": {},
     "output_type": "execute_result"
    }
   ],
   "source": [
    "tess_data['pl_trandur']"
   ]
  },
  {
   "cell_type": "markdown",
   "metadata": {},
   "source": [
    "# Plan transit observations with astroplan"
   ]
  },
  {
   "cell_type": "code",
   "execution_count": 39,
   "metadata": {},
   "outputs": [],
   "source": [
    "from astropy.time import Time\n",
    "import warnings\n",
    "from astropy.utils.exceptions import AstropyUserWarning\n",
    "from astropy.coordinates import SkyCoord\n",
    "from astropy.table import Table\n",
    "# Import astroplan tools and constraints\n",
    "# Other constraints are available\n",
    "from astroplan import (FixedTarget, Observer, EclipsingSystem,\n",
    "                       is_event_observable, AtNightConstraint,\n",
    "                       TimeConstraint, AirmassConstraint)"
   ]
  },
  {
   "cell_type": "code",
   "execution_count": 40,
   "metadata": {},
   "outputs": [
    {
     "data": {
      "text/html": [
       "<i>ExoFile length=99</i>\n",
       "<table id=\"table140142613450752-103780\" class=\"table-striped table-bordered table-condensed\">\n",
       "<thead><tr><th>idx</th><th>pl_name</th><th>pl_tranmid</th><th>pl_trandur</th><th>pl_orbper</th></tr></thead>\n",
       "<thead><tr><th></th><th></th><th>d</th><th>d</th><th>d</th></tr></thead>\n",
       "<tr><td>0</td><td>AU Mic b</td><td>2458330.39153</td><td>0.1458333</td><td>8.46321</td></tr>\n",
       "<tr><td>1</td><td>DS Tuc A b</td><td>2458332.30997</td><td>0.13235</td><td>8.138268</td></tr>\n",
       "<tr><td>2</td><td>GJ 1252 b</td><td>2458668.09739</td><td>0.0305833</td><td>0.5182349</td></tr>\n",
       "<tr><td>3</td><td>GJ 143 b</td><td>2458385.92502</td><td>0.1345833</td><td>35.61253</td></tr>\n",
       "<tr><td>4</td><td>GJ 3473 b</td><td>2458492.20408</td><td>0.0395833</td><td>1.1980035</td></tr>\n",
       "<tr><td>5</td><td>GJ 357 b</td><td>2458517.99862</td><td>0.06375</td><td>3.93072</td></tr>\n",
       "<tr><td>6</td><td>HD 108236 b</td><td>2458773.2964</td><td>0.0993333</td><td>3.795963</td></tr>\n",
       "<tr><td>7</td><td>HD 108236 c</td><td>2458770.90586</td><td>0.1191667</td><td>6.203449</td></tr>\n",
       "<tr><td>8</td><td>HD 108236 d</td><td>2458769.79682</td><td>0.1604167</td><td>14.175685</td></tr>\n",
       "<tr><td>9</td><td>HD 108236 e</td><td>2458782.46935</td><td>0.175</td><td>19.590025</td></tr>\n",
       "<tr><td>10</td><td>HD 110082 b</td><td>2458629.909</td><td>0.12125</td><td>10.18271</td></tr>\n",
       "<tr><td>11</td><td>HD 110113 b</td><td>2458570.101</td><td>0.099</td><td>2.541</td></tr>\n",
       "<tr><td>12</td><td>HD 1397 b</td><td>2458332.08261</td><td>0.3584</td><td>11.53533</td></tr>\n",
       "<tr><td>13</td><td>HD 15337 b</td><td>2458411.46156</td><td>0.10375</td><td>4.75615</td></tr>\n",
       "<tr><td>14</td><td>HD 15337 c</td><td>2458414.5501</td><td>0.09375</td><td>17.1784</td></tr>\n",
       "<tr><td>15</td><td>HD 183579 b</td><td>2458661.06315</td><td>0.1816667</td><td>17.471278</td></tr>\n",
       "<tr><td>16</td><td>HD 191939 b</td><td>2458715.35554</td><td>0.128125</td><td>8.880403</td></tr>\n",
       "<tr><td>17</td><td>HD 191939 c</td><td>2458726.0531</td><td>0.185625</td><td>28.58059</td></tr>\n",
       "<tr><td>18</td><td>HD 191939 d</td><td>2458743.5505</td><td>0.2302917</td><td>38.3561</td></tr>\n",
       "<tr><td>19</td><td>HD 202772 A b</td><td>2458338.61047</td><td>0.2346</td><td>3.308958</td></tr>\n",
       "<tr><td>20</td><td>HD 21749 c</td><td>2458371.2287</td><td>0.1047917</td><td>7.78993</td></tr>\n",
       "<tr><td>21</td><td>HD 219666 b</td><td>2458329.1996</td><td>0.0899167</td><td>6.03607</td></tr>\n",
       "<tr><td>22</td><td>HD 332231 b</td><td>2458729.67987</td><td>0.2565</td><td>18.71204</td></tr>\n",
       "<tr><td>23</td><td>HD 63433 b</td><td>2458916.4526</td><td>0.134</td><td>7.10793</td></tr>\n",
       "<tr><td>24</td><td>HD 63433 c</td><td>2458844.05799</td><td>0.1695</td><td>20.5453</td></tr>\n",
       "<tr><td>25</td><td>HD 86226 c</td><td>2458543.2539</td><td>0.13</td><td>3.98442</td></tr>\n",
       "<tr><td>26</td><td>HIP 65 A b</td><td>2458326.10418</td><td>0.03274</td><td>0.9809734</td></tr>\n",
       "<tr><td>27</td><td>HIP 67522 b</td><td>2458604.02371</td><td>0.2009167</td><td>6.959503</td></tr>\n",
       "<tr><td>28</td><td>HR 858 b</td><td>2458409.18969</td><td>0.1129</td><td>3.58599</td></tr>\n",
       "<tr><td>29</td><td>HR 858 c</td><td>2458415.6344</td><td>0.1209</td><td>5.97293</td></tr>\n",
       "<tr><td>30</td><td>HR 858 d</td><td>2458409.7328</td><td>0.1431</td><td>11.23</td></tr>\n",
       "<tr><td>31</td><td>L 98-59 b</td><td>2458366.1708</td><td>0.0425</td><td>2.2531</td></tr>\n",
       "<tr><td>32</td><td>L 98-59 c</td><td>2458367.2752</td><td>0.0516667</td><td>3.6904</td></tr>\n",
       "<tr><td>33</td><td>L 98-59 d</td><td>2458362.7376</td><td>0.0379167</td><td>7.4512</td></tr>\n",
       "<tr><td>34</td><td>LHS 3844 b</td><td>2458325.72558</td><td>0.0217167</td><td>0.46292913</td></tr>\n",
       "<tr><td>35</td><td>LP 791-18 b</td><td>2458645.94405</td><td>0.0255</td><td>0.948005</td></tr>\n",
       "<tr><td>36</td><td>LP 791-18 c</td><td>2458651.29807</td><td>0.0503333</td><td>4.989963</td></tr>\n",
       "<tr><td>37</td><td>LTT 1445 A b</td><td>2458423.42629</td><td>0.0574</td><td>5.35882</td></tr>\n",
       "<tr><td>38</td><td>LTT 3780 b</td><td>2458543.9115</td><td>0.0335417</td><td>0.768448</td></tr>\n",
       "<tr><td>39</td><td>LTT 3780 c</td><td>2458546.8484</td><td>0.058</td><td>12.2519</td></tr>\n",
       "<tr><td>40</td><td>NGTS-11 b</td><td>2458390.7043</td><td>0.1495833</td><td>35.45533</td></tr>\n",
       "<tr><td>41</td><td>TOI-1130 b</td><td>2458658.74627</td><td>0.0958333</td><td>4.066499</td></tr>\n",
       "<tr><td>42</td><td>TOI-1130 c</td><td>2458657.90461</td><td>0.0841667</td><td>8.350381</td></tr>\n",
       "<tr><td>43</td><td>TOI-1235 b</td><td>2458845.51696</td><td>0.0766667</td><td>3.444729</td></tr>\n",
       "<tr><td>44</td><td>TOI-125 b</td><td>2458355.35529</td><td>0.1234</td><td>4.65382</td></tr>\n",
       "<tr><td>45</td><td>TOI-125 c</td><td>2458361.9085</td><td>0.1231</td><td>9.15059</td></tr>\n",
       "<tr><td>46</td><td>TOI-125 d</td><td>2458342.8516</td><td>0.1297</td><td>19.98</td></tr>\n",
       "<tr><td>47</td><td>TOI-1266 b</td><td>2458821.74439</td><td>0.0887</td><td>10.894843</td></tr>\n",
       "<tr><td>48</td><td>TOI-1266 c</td><td>2458821.5706</td><td>0.0911</td><td>18.80151</td></tr>\n",
       "<tr><td>49</td><td>TOI-1333 b</td><td>2458913.37033</td><td>0.1934</td><td>4.720219</td></tr>\n",
       "<tr><td>50</td><td>TOI-1478 b</td><td>2458607.90338</td><td>0.1736</td><td>10.180249</td></tr>\n",
       "<tr><td>51</td><td>TOI-150.01</td><td>2458326.2773</td><td>0.2133333</td><td>5.857487</td></tr>\n",
       "<tr><td>52</td><td>TOI-157 b</td><td>2458326.54771</td><td>0.08941</td><td>2.0845435</td></tr>\n",
       "<tr><td>53</td><td>TOI-1601 b</td><td>2458990.55302</td><td>0.2627</td><td>5.331751</td></tr>\n",
       "<tr><td>54</td><td>TOI-163 b</td><td>2458328.8797</td><td>0.2054167</td><td>4.231306</td></tr>\n",
       "<tr><td>55</td><td>TOI-169 b</td><td>2458327.44174</td><td>0.0711</td><td>2.2554477</td></tr>\n",
       "<tr><td>56</td><td>TOI-172 b</td><td>2458345.8734</td><td>0.1964</td><td>9.47725</td></tr>\n",
       "<tr><td>57</td><td>TOI-1728 b</td><td>2458843.27427</td><td>0.0816667</td><td>3.49151</td></tr>\n",
       "<tr><td>58</td><td>TOI-178 b</td><td>2458741.6365</td><td>0.0705</td><td>1.914558</td></tr>\n",
       "<tr><td>59</td><td>TOI-178 c</td><td>2458741.4783</td><td>0.08125</td><td>3.23845</td></tr>\n",
       "<tr><td>60</td><td>TOI-178 d</td><td>2458747.14623</td><td>0.09775</td><td>6.5577</td></tr>\n",
       "<tr><td>61</td><td>TOI-178 e</td><td>2458751.4658</td><td>0.1042083</td><td>9.961881</td></tr>\n",
       "<tr><td>62</td><td>TOI-178 g</td><td>2458748.0302</td><td>0.0902917</td><td>20.7095</td></tr>\n",
       "<tr><td>63</td><td>TOI-1899 b</td><td>2458711.957792</td><td>0.1945833</td><td>29.02</td></tr>\n",
       "<tr><td>64</td><td>TOI-216.01</td><td>2458331.28531</td><td>0.22975</td><td>34.556</td></tr>\n",
       "<tr><td>65</td><td>TOI-216.02</td><td>2458325.327</td><td>0.0859167</td><td>17.089</td></tr>\n",
       "<tr><td>66</td><td>TOI-251 b</td><td>2458357.30548</td><td>0.093</td><td>4.93777</td></tr>\n",
       "<tr><td>67</td><td>TOI-270 b</td><td>2458461.01464</td><td>0.0577917</td><td>3.36008</td></tr>\n",
       "<tr><td>68</td><td>TOI-270 c</td><td>2458463.08481</td><td>0.0690833</td><td>5.660172</td></tr>\n",
       "<tr><td>69</td><td>TOI-270 d</td><td>2458469.33834</td><td>0.0895</td><td>11.38014</td></tr>\n",
       "<tr><td>70</td><td>TOI-421 b</td><td>2458441.2847</td><td>0.046125</td><td>5.19672</td></tr>\n",
       "<tr><td>71</td><td>TOI-421 c</td><td>2458440.13162</td><td>0.1129167</td><td>16.06819</td></tr>\n",
       "<tr><td>72</td><td>TOI-451 b</td><td>2458410.99</td><td>0.0849</td><td>1.858703</td></tr>\n",
       "<tr><td>73</td><td>TOI-451 c</td><td>2458411.7956</td><td>0.1483</td><td>9.192522</td></tr>\n",
       "<tr><td>74</td><td>TOI-451 d</td><td>2458416.63478</td><td>0.1707</td><td>16.364988</td></tr>\n",
       "<tr><td>75</td><td>TOI-519 b</td><td>2458491.877117</td><td>0.0513833</td><td>1.2652328</td></tr>\n",
       "<tr><td>76</td><td>TOI-561 b</td><td>2458517.498</td><td>0.0552917</td><td>0.446578</td></tr>\n",
       "<tr><td>77</td><td>TOI-561 c</td><td>2458527.06</td><td>0.1570833</td><td>10.779</td></tr>\n",
       "<tr><td>78</td><td>TOI-561 d</td><td>2458521.882</td><td>0.2020833</td><td>25.62</td></tr>\n",
       "<tr><td>79</td><td>TOI-561 e</td><td>2458538.181</td><td>0.29</td><td>77.23</td></tr>\n",
       "<tr><td>80</td><td>TOI-561 f</td><td>2458521.8828</td><td>0.1854167</td><td>16.287</td></tr>\n",
       "<tr><td>81</td><td>TOI-564 b</td><td>2458549.57554</td><td>0.0428</td><td>1.651144</td></tr>\n",
       "<tr><td>82</td><td>TOI-628 b</td><td>2458629.47972</td><td>0.1576</td><td>3.4095675</td></tr>\n",
       "<tr><td>83</td><td>TOI-640 b</td><td>2458459.73877</td><td>0.1502</td><td>5.0037775</td></tr>\n",
       "<tr><td>84</td><td>TOI-677 b</td><td>2458547.47448</td><td>0.1074</td><td>11.2366</td></tr>\n",
       "<tr><td>85</td><td>TOI-700 b</td><td>2458490.9867</td><td>0.0943</td><td>9.97702</td></tr>\n",
       "<tr><td>86</td><td>TOI-700 c</td><td>2458548.75256</td><td>0.0589</td><td>16.05111</td></tr>\n",
       "<tr><td>87</td><td>TOI-700 d</td><td>2458742.1476</td><td>0.1384</td><td>37.42475</td></tr>\n",
       "<tr><td>88</td><td>TOI-776 b</td><td>2458571.4167</td><td>0.1004167</td><td>8.24661</td></tr>\n",
       "<tr><td>89</td><td>TOI-776 c</td><td>2458572.5999</td><td>0.1245833</td><td>15.6653</td></tr>\n",
       "<tr><td>90</td><td>TOI-824 b</td><td>2458639.60354</td><td>0.04806</td><td>1.392978</td></tr>\n",
       "<tr><td>91</td><td>TOI-837 b</td><td>2458574.272527</td><td>0.0815417</td><td>8.3248762</td></tr>\n",
       "<tr><td>92</td><td>TOI-849 b</td><td>2458394.73768</td><td>0.0654167</td><td>0.76552414</td></tr>\n",
       "<tr><td>93</td><td>TOI-905 b</td><td>2458643.30898</td><td>0.0845</td><td>3.739494</td></tr>\n",
       "<tr><td>94</td><td>TOI-942 b</td><td>2458441.5762</td><td>0.1418</td><td>4.32419</td></tr>\n",
       "<tr><td>95</td><td>TOI-942 c</td><td>2458447.0563</td><td>0.07994</td><td>10.15643</td></tr>\n",
       "<tr><td>96</td><td>TOI-954 b</td><td>2458411.90651</td><td>0.2120833</td><td>3.6849729</td></tr>\n",
       "<tr><td>97</td><td>WD 1856+534 b</td><td>2458779.375083</td><td>0.0055542</td><td>1.4079405</td></tr>\n",
       "<tr><td>98</td><td>pi Men c</td><td>2458325.504</td><td>0.1230417</td><td>6.2679</td></tr>\n",
       "</table><style>table.dataTable {clear: both; width: auto !important; margin: 0 !important;}\n",
       ".dataTables_info, .dataTables_length, .dataTables_filter, .dataTables_paginate{\n",
       "display: inline-block; margin-right: 1em; }\n",
       ".paginate_button { margin-right: 5px; }\n",
       "</style>\n",
       "<script>\n",
       "\n",
       "var astropy_sort_num = function(a, b) {\n",
       "    var a_num = parseFloat(a);\n",
       "    var b_num = parseFloat(b);\n",
       "\n",
       "    if (isNaN(a_num) && isNaN(b_num))\n",
       "        return ((a < b) ? -1 : ((a > b) ? 1 : 0));\n",
       "    else if (!isNaN(a_num) && !isNaN(b_num))\n",
       "        return ((a_num < b_num) ? -1 : ((a_num > b_num) ? 1 : 0));\n",
       "    else\n",
       "        return isNaN(a_num) ? -1 : 1;\n",
       "}\n",
       "\n",
       "require.config({paths: {\n",
       "    datatables: 'https://cdn.datatables.net/1.10.12/js/jquery.dataTables.min'\n",
       "}});\n",
       "require([\"datatables\"], function(){\n",
       "    console.log(\"$('#table140142613450752-103780').dataTable()\");\n",
       "    \n",
       "jQuery.extend( jQuery.fn.dataTableExt.oSort, {\n",
       "    \"optionalnum-asc\": astropy_sort_num,\n",
       "    \"optionalnum-desc\": function (a,b) { return -astropy_sort_num(a, b); }\n",
       "});\n",
       "\n",
       "    $('#table140142613450752-103780').dataTable({\n",
       "        order: [],\n",
       "        pageLength: 50,\n",
       "        lengthMenu: [[10, 25, 50, 100, 500, 1000, -1], [10, 25, 50, 100, 500, 1000, 'All']],\n",
       "        pagingType: \"full_numbers\",\n",
       "        columnDefs: [{targets: [0, 2, 3, 4], type: \"optionalnum\"}]\n",
       "    });\n",
       "});\n",
       "</script>\n"
      ],
      "text/plain": [
       "<IPython.core.display.HTML object>"
      ]
     },
     "execution_count": 40,
     "metadata": {},
     "output_type": "execute_result"
    }
   ],
   "source": [
    "# Keep only target with transit duration\n",
    "missing = tess_data['pl_trandur'].mask\n",
    "transit_data = tess_data[~missing]\n",
    "transit_data['pl_name', 'pl_tranmid', 'pl_trandur', 'pl_orbper'].show_in_notebook()"
   ]
  },
  {
   "cell_type": "code",
   "execution_count": 41,
   "metadata": {},
   "outputs": [],
   "source": [
    "epoch = Time(transit_data['pl_tranmid'], format='jd')\n",
    "period = transit_data['pl_orbper'].quantity\n",
    "transit_duration = transit_data['pl_trandur'].quantity"
   ]
  },
  {
   "cell_type": "markdown",
   "metadata": {},
   "source": [
    "### Constraints"
   ]
  },
  {
   "cell_type": "code",
   "execution_count": 42,
   "metadata": {},
   "outputs": [],
   "source": [
    "# 2020A semester at cfht\n",
    "t1, t2 = Time(['2020-02-01 00:00', '2020-07-31 00:00'])\n",
    "site = 'cfht'\n",
    "\n",
    "# See astroplan available constraints\n",
    "constraints = [AtNightConstraint.twilight_nautical(),\n",
    "               AirmassConstraint(max=3.),\n",
    "               TimeConstraint(t1, t2)\n",
    "              ]"
   ]
  },
  {
   "cell_type": "markdown",
   "metadata": {},
   "source": [
    "### Compute next transits"
   ]
  },
  {
   "cell_type": "code",
   "execution_count": 43,
   "metadata": {},
   "outputs": [
    {
     "name": "stdout",
     "output_type": "stream",
     "text": [
      "no event found for  AU Mic b\n",
      "no event found for  DS Tuc A b\n",
      "no event found for  GJ 1252 b\n",
      "no event found for  GJ 143 b\n"
     ]
    }
   ],
   "source": [
    "obs = Observer.at_site(site)\n",
    "\n",
    "ra_unit = transit_data['ra'].unit\n",
    "dec_unit = transit_data['dec'].unit\n",
    "\n",
    "for itar, row in enumerate(transit_data):\n",
    "\n",
    "    # -------------------------\n",
    "    # Steps to predict transits\n",
    "    # -------------------------\n",
    "\n",
    "    ra = row['ra'] * ra_unit\n",
    "    dec = row['dec'] * dec_unit\n",
    "    coord = SkyCoord(ra=ra, dec=dec)\n",
    "    target = FixedTarget(coord=coord, name=row['pl_name'])\n",
    "\n",
    "    # Define system\n",
    "    sys = EclipsingSystem(primary_eclipse_time=epoch[itar],\n",
    "                          orbital_period=period[itar],\n",
    "                          duration=transit_duration[itar],\n",
    "                          name=target.name\n",
    "                         )\n",
    "    \n",
    "    # Predict 'n' next transits\n",
    "    with warnings.catch_warnings(record=True) as w:\n",
    "        \n",
    "        # Compute transits\n",
    "        t_mid = sys.next_primary_eclipse_time(t1, n_eclipses=1000)\n",
    "        \n",
    "    # Check if last event after time limit\n",
    "    if t_mid[-1] < t2:\n",
    "        warnings.warn('end time ('+t2.value +\n",
    "                      ') is passed the last computed event time (' +\n",
    "                      t_mid[-1].value+')\\n' +\n",
    "                     '\\t You can change the n_eclipse kwarg ' +\n",
    "                     'value or choose a different window (start or end time)',\n",
    "                     AstropyUserWarning\n",
    "                    )\n",
    "        \n",
    "    # Catch warnings\n",
    "    with warnings.catch_warnings(record=True) as w:\n",
    "        \n",
    "        # Compute transit start/end (t1, t4)\n",
    "        t1_t4 = sys.next_primary_ingress_egress_time(t1, n_eclipses=1000)\n",
    "\n",
    "        # Compute observable events\n",
    "        index = is_event_observable(constraints, obs, target,\n",
    "                                    times_ingress_egress=t1_t4).squeeze()\n",
    "        \n",
    "    # -------------------\n",
    "    # End of steps to predict transits\n",
    "    # -------------------\n",
    "        \n",
    "    # Print result\n",
    "    if index.any():\n",
    "        out = Table([t_mid[index].iso, *t1_t4[index].T.iso],\n",
    "                    names=['Mid transit', 'ingress', 'egress'],meta={'pl_name':target.name})\n",
    "        break\n",
    "    else:\n",
    "        print('no event found for ', target.name)"
   ]
  },
  {
   "cell_type": "code",
   "execution_count": 44,
   "metadata": {},
   "outputs": [
    {
     "data": {
      "text/html": [
       "<div><i>Table length=21</i>\n",
       "<table id=\"table140142631203984\" class=\"table-striped table-bordered table-condensed\">\n",
       "<thead><tr><th>Mid transit</th><th>ingress</th><th>egress</th></tr></thead>\n",
       "<thead><tr><th>str23</th><th>str23</th><th>str23</th></tr></thead>\n",
       "<tr><td>2020-02-03 06:04:38.294</td><td>2020-02-03 05:36:08.296</td><td>2020-03-23 09:23:15.891</td></tr>\n",
       "<tr><td>2020-02-04 10:49:45.797</td><td>2020-02-03 06:33:08.293</td><td>2020-03-29 08:11:53.406</td></tr>\n",
       "<tr><td>2020-02-09 05:50:15.806</td><td>2020-02-04 10:21:15.798</td><td>2020-03-29 09:08:53.403</td></tr>\n",
       "<tr><td>2020-02-10 10:35:23.309</td><td>2020-02-04 11:18:15.795</td><td>2020-04-04 07:57:30.918</td></tr>\n",
       "<tr><td>2020-02-16 10:21:00.821</td><td>2020-02-09 05:21:45.808</td><td>2020-04-04 08:54:30.915</td></tr>\n",
       "<tr><td>2020-02-22 10:06:38.333</td><td>2020-02-09 06:18:45.805</td><td>2020-04-10 07:43:08.430</td></tr>\n",
       "<tr><td>2020-02-28 09:52:15.845</td><td>2020-02-10 10:06:53.310</td><td>2020-04-10 08:40:08.427</td></tr>\n",
       "<tr><td>2020-03-05 09:37:53.357</td><td>2020-02-10 11:03:53.307</td><td>2020-04-16 07:28:45.942</td></tr>\n",
       "<tr><td>2020-03-11 09:23:30.869</td><td>2020-02-16 09:52:30.822</td><td>2020-04-16 08:25:45.939</td></tr>\n",
       "<tr><td>2020-03-17 09:09:08.381</td><td>2020-02-16 10:49:30.819</td><td>2020-04-22 07:14:23.454</td></tr>\n",
       "<tr><td>2020-03-23 08:54:45.893</td><td>2020-02-22 09:38:08.334</td><td>2020-04-22 08:11:23.451</td></tr>\n",
       "<tr><td>2020-03-29 08:40:23.405</td><td>2020-02-22 10:35:08.331</td><td>2020-04-28 07:00:00.966</td></tr>\n",
       "<tr><td>2020-04-04 08:26:00.917</td><td>2020-02-28 09:23:45.846</td><td>2020-04-28 07:57:00.963</td></tr>\n",
       "<tr><td>2020-04-10 08:11:38.429</td><td>2020-02-28 10:20:45.843</td><td>2020-05-04 06:45:38.478</td></tr>\n",
       "<tr><td>2020-04-16 07:57:15.941</td><td>2020-03-05 09:09:23.358</td><td>2020-05-04 07:42:38.475</td></tr>\n",
       "<tr><td>2020-04-22 07:42:53.453</td><td>2020-03-05 10:06:23.355</td><td>2020-05-10 06:31:15.990</td></tr>\n",
       "<tr><td>2020-04-28 07:28:30.965</td><td>2020-03-11 08:55:00.870</td><td>2020-05-10 07:28:15.987</td></tr>\n",
       "<tr><td>2020-05-04 07:14:08.477</td><td>2020-03-11 09:52:00.867</td><td>2020-05-16 06:16:53.502</td></tr>\n",
       "<tr><td>2020-05-10 06:59:45.989</td><td>2020-03-17 08:40:38.382</td><td>2020-05-16 07:13:53.499</td></tr>\n",
       "<tr><td>2020-05-16 06:45:23.501</td><td>2020-03-17 09:37:38.379</td><td>2020-05-22 06:02:31.014</td></tr>\n",
       "<tr><td>2020-05-22 06:31:01.013</td><td>2020-03-23 08:26:15.894</td><td>2020-05-22 06:59:31.011</td></tr>\n",
       "</table></div>"
      ],
      "text/plain": [
       "<Table length=21>\n",
       "      Mid transit               ingress                  egress        \n",
       "         str23                   str23                   str23         \n",
       "----------------------- ----------------------- -----------------------\n",
       "2020-02-03 06:04:38.294 2020-02-03 05:36:08.296 2020-03-23 09:23:15.891\n",
       "2020-02-04 10:49:45.797 2020-02-03 06:33:08.293 2020-03-29 08:11:53.406\n",
       "2020-02-09 05:50:15.806 2020-02-04 10:21:15.798 2020-03-29 09:08:53.403\n",
       "2020-02-10 10:35:23.309 2020-02-04 11:18:15.795 2020-04-04 07:57:30.918\n",
       "2020-02-16 10:21:00.821 2020-02-09 05:21:45.808 2020-04-04 08:54:30.915\n",
       "2020-02-22 10:06:38.333 2020-02-09 06:18:45.805 2020-04-10 07:43:08.430\n",
       "2020-02-28 09:52:15.845 2020-02-10 10:06:53.310 2020-04-10 08:40:08.427\n",
       "2020-03-05 09:37:53.357 2020-02-10 11:03:53.307 2020-04-16 07:28:45.942\n",
       "2020-03-11 09:23:30.869 2020-02-16 09:52:30.822 2020-04-16 08:25:45.939\n",
       "2020-03-17 09:09:08.381 2020-02-16 10:49:30.819 2020-04-22 07:14:23.454\n",
       "2020-03-23 08:54:45.893 2020-02-22 09:38:08.334 2020-04-22 08:11:23.451\n",
       "2020-03-29 08:40:23.405 2020-02-22 10:35:08.331 2020-04-28 07:00:00.966\n",
       "2020-04-04 08:26:00.917 2020-02-28 09:23:45.846 2020-04-28 07:57:00.963\n",
       "2020-04-10 08:11:38.429 2020-02-28 10:20:45.843 2020-05-04 06:45:38.478\n",
       "2020-04-16 07:57:15.941 2020-03-05 09:09:23.358 2020-05-04 07:42:38.475\n",
       "2020-04-22 07:42:53.453 2020-03-05 10:06:23.355 2020-05-10 06:31:15.990\n",
       "2020-04-28 07:28:30.965 2020-03-11 08:55:00.870 2020-05-10 07:28:15.987\n",
       "2020-05-04 07:14:08.477 2020-03-11 09:52:00.867 2020-05-16 06:16:53.502\n",
       "2020-05-10 06:59:45.989 2020-03-17 08:40:38.382 2020-05-16 07:13:53.499\n",
       "2020-05-16 06:45:23.501 2020-03-17 09:37:38.379 2020-05-22 06:02:31.014\n",
       "2020-05-22 06:31:01.013 2020-03-23 08:26:15.894 2020-05-22 06:59:31.011"
      ]
     },
     "execution_count": 44,
     "metadata": {},
     "output_type": "execute_result"
    }
   ],
   "source": [
    "out"
   ]
  }
 ],
 "metadata": {
  "kernelspec": {
   "display_name": "Python 3 (ipykernel)",
   "language": "python",
   "name": "python3"
  },
  "language_info": {
   "codemirror_mode": {
    "name": "ipython",
    "version": 3
   },
   "file_extension": ".py",
   "mimetype": "text/x-python",
   "name": "python",
   "nbconvert_exporter": "python",
   "pygments_lexer": "ipython3",
   "version": "3.10.2"
  }
 },
 "nbformat": 4,
 "nbformat_minor": 4
}
