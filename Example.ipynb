{
 "cells": [
  {
   "cell_type": "markdown",
   "metadata": {},
   "source": [
    "# Import"
   ]
  },
  {
   "cell_type": "code",
   "execution_count": 2,
   "metadata": {},
   "outputs": [],
   "source": [
    "from exofile.archive import ExoFile"
   ]
  },
  {
   "cell_type": "markdown",
   "metadata": {},
   "source": [
    "# Load the exofile\n",
    "(The warning about the custom file is not worrysome, since there is no custom file yet)"
   ]
  },
  {
   "cell_type": "code",
   "execution_count": 3,
   "metadata": {},
   "outputs": [
    {
     "name": "stderr",
     "output_type": "stream",
     "text": [
      "/Users/antoinedb/Documents/Doctorat/masterfile/masterfile/archive.py:378: GetLocalFileWarning: DID NOT READ CUSTOM FILE. FileNotFoundError has occur when trying to query/read custom file.\n",
      "  warn(GetLocalFileWarning(file='custom file', err=e))\n"
     ]
    }
   ],
   "source": [
    "data = ExoFile.load()"
   ]
  },
  {
   "cell_type": "markdown",
   "metadata": {},
   "source": [
    "# Acces columns\n",
    "(see column's names from the [Confirmed Planet Table](https://exoplanetarchive.ipac.caltech.edu/docs/API_exoplanet_columns.html))"
   ]
  },
  {
   "cell_type": "code",
   "execution_count": 4,
   "metadata": {},
   "outputs": [
    {
     "data": {
      "text/html": [
       "<i>MasterFile length=4341</i>\n",
       "<table id=\"table140418605258768\" class=\"table-striped table-bordered table-condensed\">\n",
       "<thead><tr><th>pl_name</th><th>pl_eqt</th><th>pl_orbper</th><th>pl_trandur</th></tr></thead>\n",
       "<thead><tr><th></th><th>K</th><th>d</th><th>d</th></tr></thead>\n",
       "<thead><tr><th>str29</th><th>int64</th><th>float64</th><th>float64</th></tr></thead>\n",
       "<tr><td>11 Com b</td><td>--</td><td>326.03</td><td>--</td></tr>\n",
       "<tr><td>11 UMi b</td><td>--</td><td>516.21997</td><td>--</td></tr>\n",
       "<tr><td>14 And b</td><td>--</td><td>185.84</td><td>--</td></tr>\n",
       "<tr><td>14 Her b</td><td>--</td><td>1773.40002</td><td>--</td></tr>\n",
       "<tr><td>16 Cyg B b</td><td>--</td><td>798.5</td><td>--</td></tr>\n",
       "<tr><td>18 Del b</td><td>--</td><td>993.3</td><td>--</td></tr>\n",
       "<tr><td>1RXS J160929.1-210524 b</td><td>1700</td><td>--</td><td>--</td></tr>\n",
       "<tr><td>24 Boo b</td><td>--</td><td>30.3506</td><td>--</td></tr>\n",
       "<tr><td>24 Sex b</td><td>--</td><td>452.8</td><td>--</td></tr>\n",
       "<tr><td>...</td><td>...</td><td>...</td><td>...</td></tr>\n",
       "<tr><td>tau Boo b</td><td>--</td><td>3.3124568</td><td>--</td></tr>\n",
       "<tr><td>tau Cet e</td><td>--</td><td>162.87</td><td>--</td></tr>\n",
       "<tr><td>tau Cet f</td><td>--</td><td>636.13</td><td>--</td></tr>\n",
       "<tr><td>tau Cet g</td><td>--</td><td>20.0</td><td>--</td></tr>\n",
       "<tr><td>tau Cet h</td><td>--</td><td>49.41</td><td>--</td></tr>\n",
       "<tr><td>tau Gem b</td><td>--</td><td>305.5</td><td>--</td></tr>\n",
       "<tr><td>ups And b</td><td>--</td><td>4.617033</td><td>--</td></tr>\n",
       "<tr><td>ups And c</td><td>--</td><td>241.258</td><td>--</td></tr>\n",
       "<tr><td>ups And d</td><td>--</td><td>1276.46</td><td>--</td></tr>\n",
       "<tr><td>xi Aql b</td><td>--</td><td>136.75</td><td>--</td></tr>\n",
       "</table>"
      ],
      "text/plain": [
       "<MasterFile length=4341>\n",
       "        pl_name         pl_eqt pl_orbper  pl_trandur\n",
       "                          K        d          d     \n",
       "         str29          int64   float64    float64  \n",
       "----------------------- ------ ---------- ----------\n",
       "               11 Com b     --     326.03         --\n",
       "               11 UMi b     --  516.21997         --\n",
       "               14 And b     --     185.84         --\n",
       "               14 Her b     -- 1773.40002         --\n",
       "             16 Cyg B b     --      798.5         --\n",
       "               18 Del b     --      993.3         --\n",
       "1RXS J160929.1-210524 b   1700         --         --\n",
       "               24 Boo b     --    30.3506         --\n",
       "               24 Sex b     --      452.8         --\n",
       "                    ...    ...        ...        ...\n",
       "              tau Boo b     --  3.3124568         --\n",
       "              tau Cet e     --     162.87         --\n",
       "              tau Cet f     --     636.13         --\n",
       "              tau Cet g     --       20.0         --\n",
       "              tau Cet h     --      49.41         --\n",
       "              tau Gem b     --      305.5         --\n",
       "              ups And b     --   4.617033         --\n",
       "              ups And c     --    241.258         --\n",
       "              ups And d     --    1276.46         --\n",
       "               xi Aql b     --     136.75         --"
      ]
     },
     "execution_count": 4,
     "metadata": {},
     "output_type": "execute_result"
    }
   ],
   "source": [
    "data['pl_name', 'pl_eqt', 'pl_orbper', 'pl_trandur']"
   ]
  },
  {
   "cell_type": "markdown",
   "metadata": {},
   "source": [
    "### Choose only some planets\n",
    "(can auto-complete, case sensitive)"
   ]
  },
  {
   "cell_type": "code",
   "execution_count": 5,
   "metadata": {},
   "outputs": [
    {
     "data": {
      "text/html": [
       "<i>MasterFile length=3</i>\n",
       "<table id=\"table140418605281232\" class=\"table-striped table-bordered table-condensed\">\n",
       "<thead><tr><th>pl_name</th><th>pl_eqt</th><th>pl_orbper</th><th>pl_trandur</th></tr></thead>\n",
       "<thead><tr><th></th><th>K</th><th>d</th><th>d</th></tr></thead>\n",
       "<thead><tr><th>str29</th><th>int64</th><th>float64</th><th>float64</th></tr></thead>\n",
       "<tr><td>HD 189733 b</td><td>1191</td><td>2.21857567</td><td>0.075152</td></tr>\n",
       "<tr><td>WASP-33 b</td><td>2782</td><td>1.21987</td><td>0.1189</td></tr>\n",
       "<tr><td>KELT-9 b</td><td>4050</td><td>1.4811235</td><td>0.16316</td></tr>\n",
       "</table>"
      ],
      "text/plain": [
       "<MasterFile length=3>\n",
       "  pl_name   pl_eqt pl_orbper  pl_trandur\n",
       "              K        d          d     \n",
       "   str29    int64   float64    float64  \n",
       "----------- ------ ---------- ----------\n",
       "HD 189733 b   1191 2.21857567   0.075152\n",
       "  WASP-33 b   2782    1.21987     0.1189\n",
       "   KELT-9 b   4050  1.4811235    0.16316"
      ]
     },
     "execution_count": 5,
     "metadata": {},
     "output_type": "execute_result"
    }
   ],
   "source": [
    "data.by_pl_name('HD 189', 'WASP-33 b', 'KELT-9 b')['pl_name', 'pl_eqt', 'pl_orbper', 'pl_trandur']"
   ]
  },
  {
   "cell_type": "markdown",
   "metadata": {},
   "source": [
    "## Find reference"
   ]
  },
  {
   "cell_type": "code",
   "execution_count": 6,
   "metadata": {},
   "outputs": [
    {
     "name": "stderr",
     "output_type": "stream",
     "text": [
      "/Users/antoinedb/Documents/Doctorat/masterfile/masterfile/archive.py:437: GetLocalFileWarning: DID NOT READ CUSTOM FILE. FileNotFoundError has occur when trying to query/read custom file.\n",
      "  warn(GetLocalFileWarning(file='custom file', err=e))\n"
     ]
    }
   ],
   "source": [
    "ref = ExoFile.load_ref()"
   ]
  },
  {
   "cell_type": "code",
   "execution_count": 7,
   "metadata": {},
   "outputs": [
    {
     "data": {
      "text/html": [
       "&lt;MaskedColumn name=&apos;pl_eqt&apos; dtype=&apos;str42&apos; length=1&gt;\n",
       "<table>\n",
       "<tr><td>Southworth 2010</td></tr>\n",
       "</table>"
      ],
      "text/plain": [
       "<MaskedColumn name='pl_eqt' dtype='str42' length=1>\n",
       "Southworth 2010"
      ]
     },
     "execution_count": 7,
     "metadata": {},
     "output_type": "execute_result"
    }
   ],
   "source": [
    "ref.by_pl_name('HD 189')['pl_eqt']"
   ]
  },
  {
   "cell_type": "markdown",
   "metadata": {},
   "source": [
    "# Define custom values on your computer\n",
    "It is recommended to keep a file with your preferred values. It can be a simple .csv file that you can simply edit with excel. If you do so, make sure the column names and the units are the same as the NASA exoplanet archive."
   ]
  },
  {
   "cell_type": "code",
   "execution_count": 8,
   "metadata": {},
   "outputs": [],
   "source": [
    "from exofile.config import edit_param  # To edit\n",
    "\n",
    "from exofile.config import Param  # To show the current parameters\n",
    "from exofile.config import reset_param  # To reset parameters"
   ]
  },
  {
   "cell_type": "markdown",
   "metadata": {},
   "source": [
    "## 1. Specify the path to your custom table\n",
    "- A good practice is to keep a dedicated directory for the custom file, so it will always be loaded by `ExoFile.load()` wherever you are in your computer.\n",
    "### You need to modify the default parameters of the code (only once):\n",
    "Note that I'm using a .csv file so it's easier to edit with excel or numbers. However, you might need to specify the delimiter when loading (in my case, excel saves a .csv with \";\" and not \",\"): `ExoFile.load(delimiter=\";\")`. You might also need to specify the encoding, for example: `ExoFile.load(encoding='utf-8-sig')`. All the keywords used by `astropy.table.Table.read()` can be passed to `ExoFile.load()` to read the custom file."
   ]
  },
  {
   "cell_type": "code",
   "execution_count": 9,
   "metadata": {},
   "outputs": [
    {
     "data": {
      "text/plain": [
       "!!python/object/apply:collections.OrderedDict\n",
       "- - - sheet_key\n",
       "    - Description: string, Key of the google sheet with custom values\n",
       "      Value: 14Trm-AQ2eOphfwqJYrevnDrNVk56E-aH8yvRHQLjzWg\n",
       "  - - url\n",
       "    - Description: string, Where to find the masterfile (url)\n",
       "      Value: http://www.astro.umontreal.ca/~adb/masterfile.ecsv\n",
       "  - - url_ref\n",
       "    - Description: string, Where to find the masterfiles references (url)\n",
       "      Value: http://www.astro.umontreal.ca/~adb/reference_file.ecsv\n",
       "  - - custom_file\n",
       "    - Description: string, Local file with custom values. Will be used to complement\n",
       "        the online masterfile\n",
       "      Value: /absolute/path/to/masterfile_custom.csv\n",
       "  - - masterfile\n",
       "    - Description: string, Local masterfile to use offline.\n",
       "      Value: masterfile.ecsv\n",
       "  - - ref_file\n",
       "    - Description: string, Local masterfile references to use offline.\n",
       "      Value: masterfile_ref.ecsv"
      ]
     },
     "execution_count": 9,
     "metadata": {},
     "output_type": "execute_result"
    }
   ],
   "source": [
    "# Edit the path to your local values\n",
    "edit_param(custom_file='/absolute/path/to/exofile_custom.csv')\n",
    "\n",
    "# Show all the default parameters. You can see the modified 'custom_file' key\n",
    "Param.load()"
   ]
  },
  {
   "cell_type": "code",
   "execution_count": 10,
   "metadata": {},
   "outputs": [
    {
     "data": {
      "text/plain": [
       "{'Value': 'masterfile_custom.ecsv',\n",
       " 'Description': 'string, Local file with custom values. Will be used to complement the online masterfile'}"
      ]
     },
     "execution_count": 10,
     "metadata": {},
     "output_type": "execute_result"
    }
   ],
   "source": [
    "# Not satisfied? Run reset_param() to go back to default parameters\n",
    "reset_param()\n",
    "Param.load()['custom_file']  # Show modification"
   ]
  },
  {
   "cell_type": "markdown",
   "metadata": {},
   "source": [
    "## 2. If the table exists, you're done! It will read it when using `ExoFile.load()`. Now, if you want to create the file, you can do it with excel and create a .csv or you can do it in a code with the ExoFile as follow."
   ]
  },
  {
   "cell_type": "code",
   "execution_count": 11,
   "metadata": {},
   "outputs": [
    {
     "data": {
      "text/html": [
       "<i>MasterFile masked=True length=2</i>\n",
       "<table id=\"table140417905267408\" class=\"table-striped table-bordered table-condensed\">\n",
       "<thead><tr><th>pl_name</th><th>pl_eqt</th><th>pl_trandur</th></tr></thead>\n",
       "<thead><tr><th></th><th></th><th>h</th></tr></thead>\n",
       "<thead><tr><th>str30</th><th>float64</th><th>float64</th></tr></thead>\n",
       "<tr><td>HD 189733 b</td><td>3000.0</td><td>--</td></tr>\n",
       "<tr><td>NewSecretPlanet b</td><td>2156.0</td><td>3.21</td></tr>\n",
       "</table>"
      ],
      "text/plain": [
       "<MasterFile masked=True length=2>\n",
       "     pl_name       pl_eqt pl_trandur\n",
       "                              h     \n",
       "      str30       float64  float64  \n",
       "----------------- ------- ----------\n",
       "      HD 189733 b  3000.0         --\n",
       "NewSecretPlanet b  2156.0       3.21"
      ]
     },
     "execution_count": 11,
     "metadata": {},
     "output_type": "execute_result"
    }
   ],
   "source": [
    "# Better to use masked column\n",
    "from exofile.table_custom import MaskedColumn\n",
    "custom = ExoFile(masked=True)\n",
    "\n",
    "# Define columns\n",
    "custom.add_column(MaskedColumn(name='pl_name', dtype='U30'))\n",
    "custom.add_column(MaskedColumn(name='pl_eqt'))\n",
    "custom.add_column(MaskedColumn(name='pl_trandur', unit='h'))\n",
    "\n",
    "# Add custom values\n",
    "custom.add_row({'pl_name':'HD 189733 b', 'pl_eqt':3000.})\n",
    "custom.add_row({'pl_name':'NewSecretPlanet b', 'pl_trandur':3.21, 'pl_eqt':2156})\n",
    "\n",
    "# Re-mask the table since add_row deals weirdly with masks\n",
    "custom = ExoFile(custom, masked=True)\n",
    "custom"
   ]
  },
  {
   "cell_type": "code",
   "execution_count": 12,
   "metadata": {},
   "outputs": [],
   "source": [
    "# Save the table to default custom table.\n",
    "custom.write_to_custom()"
   ]
  },
  {
   "cell_type": "markdown",
   "metadata": {},
   "source": [
    "Note that the default custom file is a .ecsv. It has the advantage to save the units. However, excel does not support it, so you would always need to edit it with a code like above."
   ]
  },
  {
   "cell_type": "markdown",
   "metadata": {},
   "source": [
    "### We can test if the modification worked"
   ]
  },
  {
   "cell_type": "code",
   "execution_count": 13,
   "metadata": {},
   "outputs": [
    {
     "name": "stderr",
     "output_type": "stream",
     "text": [
      "WARNING: NoUnitsWarning: Units conflict for 'pl_eqt' column. No units were specified. Assuming 'K'. [masterfile.archive]\n",
      "WARNING: ColUnitsWarning: Units conflict for 'pl_trandur' column. Converting 'h' to 'd'. Make sure units were properly converted. [masterfile.archive]\n"
     ]
    }
   ],
   "source": [
    "data = ExoFile.load()"
   ]
  },
  {
   "cell_type": "code",
   "execution_count": 14,
   "metadata": {},
   "outputs": [
    {
     "data": {
      "text/html": [
       "<i>MasterFile length=2</i>\n",
       "<table id=\"table140418643221840\" class=\"table-striped table-bordered table-condensed\">\n",
       "<thead><tr><th>pl_name</th><th>pl_eqt</th><th>pl_trandur</th></tr></thead>\n",
       "<thead><tr><th></th><th>K</th><th>d</th></tr></thead>\n",
       "<thead><tr><th>str29</th><th>int64</th><th>float64</th></tr></thead>\n",
       "<tr><td>HD 189733 b</td><td>3000</td><td>0.075152</td></tr>\n",
       "<tr><td>NewSecretPlanet b</td><td>2156</td><td>0.13374999999999998</td></tr>\n",
       "</table>"
      ],
      "text/plain": [
       "<MasterFile length=2>\n",
       "     pl_name      pl_eqt      pl_trandur    \n",
       "                    K             d         \n",
       "      str29       int64        float64      \n",
       "----------------- ------ -------------------\n",
       "      HD 189733 b   3000            0.075152\n",
       "NewSecretPlanet b   2156 0.13374999999999998"
      ]
     },
     "execution_count": 14,
     "metadata": {},
     "output_type": "execute_result"
    }
   ],
   "source": [
    "data.by_pl_name('HD 189', 'NewSecret')['pl_name','pl_eqt','pl_trandur']"
   ]
  },
  {
   "cell_type": "markdown",
   "metadata": {},
   "source": [
    "Note that __pl_trandur__ column has been convert to days to match _exofile.ecsv_ units"
   ]
  },
  {
   "cell_type": "markdown",
   "metadata": {},
   "source": [
    "### The reference for these values will automatically change"
   ]
  },
  {
   "cell_type": "code",
   "execution_count": 15,
   "metadata": {},
   "outputs": [
    {
     "data": {
      "text/html": [
       "<i>MasterFile length=2</i>\n",
       "<table id=\"table140418649658192\" class=\"table-striped table-bordered table-condensed\">\n",
       "<thead><tr><th>pl_name</th><th>pl_eqt</th><th>pl_trandur</th></tr></thead>\n",
       "<thead><tr><th>str29</th><th>str42</th><th>str34</th></tr></thead>\n",
       "<tr><td>HD 189733 b</td><td>custom ref</td><td>Baluev et al. 2015</td></tr>\n",
       "<tr><td>NewSecretPlanet b</td><td>custom ref</td><td>custom ref</td></tr>\n",
       "</table>"
      ],
      "text/plain": [
       "<MasterFile length=2>\n",
       "     pl_name        pl_eqt       pl_trandur    \n",
       "      str29         str42          str34       \n",
       "----------------- ---------- ------------------\n",
       "      HD 189733 b custom ref Baluev et al. 2015\n",
       "NewSecretPlanet b custom ref         custom ref"
      ]
     },
     "execution_count": 15,
     "metadata": {},
     "output_type": "execute_result"
    }
   ],
   "source": [
    "ref = ExoFile.load_ref()\n",
    "ref.by_pl_name('HD 189', 'NewSecret')['pl_name','pl_eqt','pl_trandur']"
   ]
  },
  {
   "cell_type": "markdown",
   "metadata": {},
   "source": [
    "# Keep a version of the exofile on your computer\n",
    "\n",
    "Usefull to be able to work offline, or save a subsample of the exofile to be quicker to use\n",
    "### WARNING: Remember to NOT edit the exofile direclty, use custom_table instead."
   ]
  },
  {
   "cell_type": "markdown",
   "metadata": {},
   "source": [
    "## 1. Save the complete _exofile.ecsv_ in a dedicated folder\n",
    "(so that `ExoFile.load()` will work offline)\n",
    "- Again, a good practice is to keep this safety _exofile.ecsv_ in the aforementioned dedicated directory (could be the same as the custom_file), so it will always be loaded by `ExoFile.load()` by default."
   ]
  },
  {
   "cell_type": "markdown",
   "metadata": {},
   "source": [
    "### a) Save a version of the exofile\n",
    "(Only this step needs an internet connection)"
   ]
  },
  {
   "cell_type": "code",
   "execution_count": 16,
   "metadata": {},
   "outputs": [],
   "source": [
    "# Save a version\n",
    "data = ExoFile.load()\n",
    "data.write('/absolute/path/to/exofile.ecsv')"
   ]
  },
  {
   "cell_type": "markdown",
   "metadata": {},
   "source": [
    "### b) Specify the path of your local exofile"
   ]
  },
  {
   "cell_type": "code",
   "execution_count": 17,
   "metadata": {},
   "outputs": [],
   "source": [
    "# Edit the path to your local exofile\n",
    "edit_param(exofile='/absolute/path/to/exofile.ecsv')"
   ]
  },
  {
   "cell_type": "markdown",
   "metadata": {},
   "source": [
    "### c) Load the exofile offline \n",
    "NOTE: the `query=False` is not necessary here if you're working offline. `ExoFile.load()` will automatically reach for the local default exofile if the query is not working."
   ]
  },
  {
   "cell_type": "code",
   "execution_count": 18,
   "metadata": {},
   "outputs": [],
   "source": [
    "# Read a local version:\n",
    "data = ExoFile.load(query=False)"
   ]
  },
  {
   "cell_type": "markdown",
   "metadata": {},
   "source": [
    "### Note that the same steps could be done but for the reference file."
   ]
  },
  {
   "cell_type": "code",
   "execution_count": 19,
   "metadata": {},
   "outputs": [],
   "source": [
    "# Save a version\n",
    "data = ExoFile.load_ref()\n",
    "data.write('/absolute/path/to/exofile_ref.ecsv')\n",
    "\n",
    "# Edit the path to your local exofile\n",
    "edit_param(ref_file='/absolute/path/to/exofile_ref.ecsv')\n",
    "\n",
    "# Read a local version:\n",
    "data = ExoFile.load_ref(query=False)"
   ]
  },
  {
   "cell_type": "markdown",
   "metadata": {},
   "source": [
    "## 2. Save a subsample of _exofile.ecsv_ in your code directory\n",
    "(so that `ExoFile.load()` will be quicker)\n",
    "- In this case, we don't want to edit the parameters of the `exofile` code since it's specific to a routine."
   ]
  },
  {
   "cell_type": "markdown",
   "metadata": {},
   "source": [
    "### a) Save a version of the exofile\n",
    "(Only this step needs a connection)"
   ]
  },
  {
   "cell_type": "code",
   "execution_count": 24,
   "metadata": {},
   "outputs": [],
   "source": [
    "# Save a version (in this example I only need 3 exoplanets)\n",
    "sub_sample = ExoFile.load().by_pl_name('HD 189','WASP-33', 'HD 209458')"
   ]
  },
  {
   "cell_type": "code",
   "execution_count": 26,
   "metadata": {},
   "outputs": [],
   "source": [
    "# Write in the directory where you run your routine\n",
    "sub_sample.write('/path/to/your/routine/sub_sample_exofile.ecsv')"
   ]
  },
  {
   "cell_type": "markdown",
   "metadata": {},
   "source": [
    "### b) Specify the path of your local exofile only when loading it\n",
    "NOTES: \n",
    "- `query=False` is necessary here since otherwise, `ExoFile.load()` will only reach for the local exofile if the query doesn't work.\n",
    "- I assume the following line of code is called from your routine directory: `\"/path/to/your/routine/\"`"
   ]
  },
  {
   "cell_type": "code",
   "execution_count": 28,
   "metadata": {},
   "outputs": [],
   "source": [
    "# Read a local version:\n",
    "data = ExoFile.load(query=False, exofile='sub_sample_exofile.ecsv')"
   ]
  },
  {
   "cell_type": "markdown",
   "metadata": {},
   "source": [
    "###  Again, the same steps could be done but for the reference file."
   ]
  },
  {
   "cell_type": "markdown",
   "metadata": {},
   "source": [
    "# Other considerations\n",
    "## Using in a code\n",
    "- __Local version__: It is good practice to keep a version of _exofile.ecsv_ on your computer (as show in the previous section). This way, `ExoFile.load()` will work offline without changing anything. The values won't necessary be up to date (since you have to download a version yourself), but you won't get an error, even without specifying `query=False`.\n",
    " - I recommend that you save this _exofile.ecsv_ in a dedicated folder and give the full path to `edit_param(exofile=\"/your/absolute/path/to/exofile.ecsv\")`\n",
    "- __Custom table__: I recommend that you put your custom values in the aforementioned dedicated folder and give the full path to `edit_param(custom_file=\"/your/absolute/path/to/exofile_custom.csv\")`. This way, wherever you call `ExoFile.load()`, the custom values will be added to the output table.\n",
    "- __Reduced *exofile.ecsv*__: To speed-up a code where you need only a subsample of exoplanets' informations, I recommend that you save a version of _sub_sample_exofile.ecsv_ in the directory your code is working and specify the name of the file when calling `ExoFile.load(exofile=\"sub_sample_exofile.ecsv\", query=False)` instead of editing the parameters of the `exofile` code.\n",
    "- __Dealing with astropy Table__: The exofile is a astropy table, which is useful to store data, but not to do calculations. In my opinion, it is better to convert the data you need with the desired units to an array to use it in a code. See the next lines of code for an example."
   ]
  },
  {
   "cell_type": "code",
   "execution_count": 12,
   "metadata": {},
   "outputs": [
    {
     "data": {
      "text/plain": [
       "masked_array(data=[--, --, --, ..., --, --, 1503.0],\n",
       "             mask=[ True,  True,  True, ...,  True,  True, False],\n",
       "       fill_value=1e+20)"
      ]
     },
     "execution_count": 12,
     "metadata": {},
     "output_type": "execute_result"
    }
   ],
   "source": [
    "# Example: Get all available equilibrium temperatures\n",
    "# and make sure it is in Kelvins\n",
    "data['pl_eqt'].to_array(units='K')"
   ]
  },
  {
   "cell_type": "code",
   "execution_count": 17,
   "metadata": {},
   "outputs": [
    {
     "data": {
      "text/plain": [
       "array([  nan,   nan,   nan, ...,   nan,   nan, 1503.])"
      ]
     },
     "execution_count": 17,
     "metadata": {},
     "output_type": "execute_result"
    }
   ],
   "source": [
    "# The method returns a masked array.\n",
    "# If you prefer to use Nans:\n",
    "from numpy import nan\n",
    "eqt = data['pl_eqt'].to_array(units='K')\n",
    "eqt = eqt.filled(fill_value=nan)\n",
    "eqt"
   ]
  },
  {
   "cell_type": "markdown",
   "metadata": {},
   "source": [
    "*Everything you need to understand on how to use the exofile is above.* <br>*The next part of the notebook is just supplementary example of what you could do.*\n",
    "-------"
   ]
  },
  {
   "cell_type": "markdown",
   "metadata": {},
   "source": [
    "# Bonus utilities\n",
    "## Accessing tables from NASA exoplanet archive\n",
    "The confirmed planet table and the extended planet table can be queried with the exofile code.\n",
    "### Example with the extended table (Usefull to get all references from a specific target)"
   ]
  },
  {
   "cell_type": "code",
   "execution_count": 38,
   "metadata": {},
   "outputs": [],
   "source": [
    "from exofile.archive import ExtendedArchive"
   ]
  },
  {
   "cell_type": "code",
   "execution_count": 40,
   "metadata": {},
   "outputs": [],
   "source": [
    "# Query the whole archive, so can take some time\n",
    "extend = ExtendedArchive.query()"
   ]
  },
  {
   "cell_type": "code",
   "execution_count": 43,
   "metadata": {},
   "outputs": [],
   "source": [
    "# Change the columns name to get the same as the normal planet table\n",
    "extend.ch_col_names()"
   ]
  },
  {
   "cell_type": "code",
   "execution_count": 61,
   "metadata": {},
   "outputs": [
    {
     "data": {
      "text/html": [
       "<i>ExtendedArchive length=15</i>\n",
       "<table id=\"table5218090128\" class=\"table-striped table-bordered table-condensed\">\n",
       "<thead><tr><th>pl_name</th><th>pl_orbper</th><th>mpl_reflink</th></tr></thead>\n",
       "<thead><tr><th></th><th>d</th><th></th></tr></thead>\n",
       "<thead><tr><th>str29</th><th>float64</th><th>str178</th></tr></thead>\n",
       "<tr><td>HD 189733 b</td><td>--</td><td>&lt;a refstr=BARSTOW_ET_AL__2017 href=https://ui.adsabs.harvard.edu/abs/2017ApJ...834...50B/abstract target=ref&gt;Barstow et al. 2017&lt;/a&gt;</td></tr>\n",
       "<tr><td>HD 189733 b</td><td>2.2185752</td><td>&lt;a refstr=BONOMO_ET_AL__2017 href=https://ui.adsabs.harvard.edu/abs/2017A&amp;A...602A.107B/abstract target=ref&gt;Bonomo et al. 2017&lt;/a&gt;</td></tr>\n",
       "<tr><td>HD 189733 b</td><td>2.21857567</td><td>&lt;a refstr=STASSUN_ET_AL__2017 href=https://ui.adsabs.harvard.edu/abs/2017AJ....153..136S/abstract target=ref&gt;Stassun et al. 2017&lt;/a&gt;</td></tr>\n",
       "<tr><td>HD 189733 b</td><td>--</td><td>&lt;a refstr=TORRES_ET_AL__2008 href=https://ui.adsabs.harvard.edu/abs/2008ApJ...677.1324T/abstract target=ref&gt; Torres et al. 2008 &lt;/a&gt;</td></tr>\n",
       "<tr><td>HD 189733 b</td><td>2.219</td><td>&lt;a refstr=BOUCHY_ET_AL__2005 href=https://ui.adsabs.harvard.edu/abs/2005A&amp;A...444L..15B/abstract target=ref&gt; Bouchy et al. 2005 &lt;/a&gt;</td></tr>\n",
       "<tr><td>HD 189733 b</td><td>2.21857578</td><td>&lt;a refstr=SOUTHWORTH_2010 href=https://ui.adsabs.harvard.edu/abs/2010MNRAS.408.1689S/abstract target=ref&gt; Southworth 2010 &lt;/a&gt;</td></tr>\n",
       "<tr><td>HD 189733 b</td><td>2.21857567</td><td>&lt;a refstr=AGOL_ET_AL__2010 href=https://ui.adsabs.harvard.edu/abs/2010ApJ...721.1861A/abstract target=ref&gt; Agol et al. 2010 &lt;/a&gt;</td></tr>\n",
       "<tr><td>HD 189733 b</td><td>--</td><td>&lt;a refstr=BOYAJIAN_ET_AL__2015 href=https://ui.adsabs.harvard.edu/abs/2015MNRAS.447..846B/abstract target=ref&gt;Boyajian et al. 2015&lt;/a&gt;</td></tr>\n",
       "<tr><td>HD 189733 b</td><td>2.2185752</td><td>&lt;a refstr=BALUEV_ET_AL__2015 href=https://ui.adsabs.harvard.edu/abs/2015MNRAS.450.3101B/abstract target=ref&gt;Baluev et al. 2015&lt;/a&gt;</td></tr>\n",
       "<tr><td>HD 189733 b</td><td>--</td><td>&lt;a refstr=SALZ_ET_AL__2015 href=https://ui.adsabs.harvard.edu/abs/2015A&amp;A...576A..42S/abstract target=ref&gt;Salz et al. 2015&lt;/a&gt;</td></tr>\n",
       "<tr><td>HD 189733 b</td><td>--</td><td>&lt;a refstr=MORELLO_ET_AL__2014 href=https://ui.adsabs.harvard.edu/abs/2014ApJ...786...22M/abstract target=ref&gt;Morello et al. 2014&lt;/a&gt;</td></tr>\n",
       "<tr><td>HD 189733 b</td><td>--</td><td>&lt;a refstr=SING_ET_AL__2016 href=https://ui.adsabs.harvard.edu/abs/2016Natur.529...59S/abstract target=ref&gt;Sing et al. 2016&lt;/a&gt;</td></tr>\n",
       "<tr><td>HD 189733 b</td><td>--</td><td>&lt;a refstr=DI_GLORIA_ET_AL__2015 href=https://ui.adsabs.harvard.edu/abs/2015A&amp;A...580A..84D/abstract target=ref&gt;Di Gloria et al. 2015&lt;/a&gt;</td></tr>\n",
       "<tr><td>HD 189733 b</td><td>2.218577</td><td>&lt;a refstr=ADDISON_ET_AL__2019 href=https://ui.adsabs.harvard.edu/abs/2019PASP..131k5003A/abstract target=ref&gt;Addison et al. 2019&lt;/a&gt;</td></tr>\n",
       "<tr><td>HD 189733 b</td><td>2.21857567</td><td>&lt;a refstr=CEGLA_ET_AL__2016 href=https://ui.adsabs.harvard.edu/abs/2016A&amp;A...588A.127C/abstract target=ref&gt;Cegla et al. 2016&lt;/a&gt;</td></tr>\n",
       "</table>"
      ],
      "text/plain": [
       "<ExtendedArchive length=15>\n",
       "  pl_name   ...\n",
       "            ...\n",
       "   str29    ...\n",
       "----------- ...\n",
       "HD 189733 b ...\n",
       "HD 189733 b ...\n",
       "HD 189733 b ...\n",
       "HD 189733 b ...\n",
       "HD 189733 b ...\n",
       "HD 189733 b ...\n",
       "HD 189733 b ...\n",
       "HD 189733 b ...\n",
       "HD 189733 b ...\n",
       "HD 189733 b ...\n",
       "HD 189733 b ...\n",
       "HD 189733 b ...\n",
       "HD 189733 b ...\n",
       "HD 189733 b ...\n",
       "HD 189733 b ..."
      ]
     },
     "execution_count": 61,
     "metadata": {},
     "output_type": "execute_result"
    }
   ],
   "source": [
    "# Get index of a planet in the table\n",
    "index = extend['pl_name'].find('HD 189')[0]\n",
    "extend[index]['pl_name', 'pl_orbper', 'mpl_reflink']"
   ]
  },
  {
   "cell_type": "markdown",
   "metadata": {},
   "source": [
    "# Other examples"
   ]
  },
  {
   "cell_type": "markdown",
   "metadata": {},
   "source": [
    "## Search exoplanets confirmed by TESS"
   ]
  },
  {
   "cell_type": "code",
   "execution_count": 24,
   "metadata": {},
   "outputs": [
    {
     "data": {
      "text/html": [
       "<i>MasterFile masked=True length=31</i>\n",
       "<table id=\"table140044583895896\" class=\"table-striped table-bordered table-condensed\">\n",
       "<thead><tr><th>pl_name</th><th>pl_facility</th><th>pl_trandur</th><th>pl_massj</th><th>pl_eqt</th><th>st_j</th></tr></thead>\n",
       "<thead><tr><th></th><th></th><th>d</th><th>jupiterMass</th><th>K</th><th>mags</th></tr></thead>\n",
       "<thead><tr><th>object</th><th>object</th><th>float64</th><th>float64</th><th>float64</th><th>float64</th></tr></thead>\n",
       "<tr><td>DS Tuc A b</td><td>Transiting Exoplanet Survey Satellite (TESS)</td><td>0.13235</td><td>1.3</td><td>850.0</td><td>7.122</td></tr>\n",
       "<tr><td>GJ 143 b</td><td>Transiting Exoplanet Survey Satellite (TESS)</td><td>0.1345833</td><td>0.09637</td><td>422.0</td><td>6.081</td></tr>\n",
       "<tr><td>GJ 357 b</td><td>Transiting Exoplanet Survey Satellite (TESS)</td><td>0.06375</td><td>0.00579</td><td>525.0</td><td>7.337</td></tr>\n",
       "<tr><td>HD 1397 b</td><td>Transiting Exoplanet Survey Satellite (TESS)</td><td>0.3584</td><td>0.415</td><td>1228.0</td><td>6.442</td></tr>\n",
       "<tr><td>HD 15337 b</td><td>Transiting Exoplanet Survey Satellite (TESS)</td><td>0.10375</td><td>0.02363</td><td>1001.0</td><td>7.553</td></tr>\n",
       "<tr><td>HD 15337 c</td><td>Transiting Exoplanet Survey Satellite (TESS)</td><td>0.09375</td><td>0.02552</td><td>642.0</td><td>7.553</td></tr>\n",
       "<tr><td>HD 202772 A b</td><td>Transiting Exoplanet Survey Satellite (TESS)</td><td>0.2346</td><td>1.017</td><td>2132.0</td><td>--</td></tr>\n",
       "<tr><td>HD 21749 c</td><td>Transiting Exoplanet Survey Satellite (TESS)</td><td>0.1047917</td><td>0.01164</td><td>701.0</td><td>6.081</td></tr>\n",
       "<tr><td>HD 219666 b</td><td>Transiting Exoplanet Survey Satellite (TESS)</td><td>0.0899167</td><td>0.05223</td><td>1073.0</td><td>8.557</td></tr>\n",
       "<tr><td>...</td><td>...</td><td>...</td><td>...</td><td>...</td><td>...</td></tr>\n",
       "<tr><td>TOI 150.01</td><td>Transiting Exoplanet Survey Satellite (TESS)</td><td>0.2495833</td><td>1.75</td><td>1493.0</td><td>10.324</td></tr>\n",
       "<tr><td>TOI 172 b</td><td>Transiting Exoplanet Survey Satellite (TESS)</td><td>0.1964</td><td>5.42</td><td>1198.0</td><td>10.135</td></tr>\n",
       "<tr><td>TOI 216 b</td><td>Transiting Exoplanet Survey Satellite (TESS)</td><td>0.0859167</td><td>0.09439</td><td>628.0</td><td>10.759</td></tr>\n",
       "<tr><td>TOI 216 c</td><td>Transiting Exoplanet Survey Satellite (TESS)</td><td>0.22975</td><td>0.62927</td><td>497.0</td><td>10.759</td></tr>\n",
       "<tr><td>TOI 216.01</td><td>Transiting Exoplanet Survey Satellite (TESS)</td><td>0.22975</td><td>0.62927</td><td>497.0</td><td>10.759</td></tr>\n",
       "<tr><td>TOI 216.02</td><td>Transiting Exoplanet Survey Satellite (TESS)</td><td>0.0859167</td><td>0.09439</td><td>628.0</td><td>10.759</td></tr>\n",
       "<tr><td>TOI 270 b</td><td>Transiting Exoplanet Survey Satellite (TESS)</td><td>0.0577917</td><td>--</td><td>528.0</td><td>9.099</td></tr>\n",
       "<tr><td>TOI 270 c</td><td>Transiting Exoplanet Survey Satellite (TESS)</td><td>0.0690833</td><td>--</td><td>424.0</td><td>9.099</td></tr>\n",
       "<tr><td>TOI 270 d</td><td>Transiting Exoplanet Survey Satellite (TESS)</td><td>0.0895</td><td>--</td><td>340.0</td><td>9.099</td></tr>\n",
       "<tr><td>pi Men c</td><td>Transiting Exoplanet Survey Satellite (TESS)</td><td>0.1230417</td><td>0.01517</td><td>1170.0</td><td>4.869</td></tr>\n",
       "</table>"
      ],
      "text/plain": [
       "<MasterFile masked=True length=31>\n",
       "   pl_name                    pl_facility                  ...  pl_eqt   st_j \n",
       "                                                           ...    K      mags \n",
       "    object                       object                    ... float64 float64\n",
       "------------- -------------------------------------------- ... ------- -------\n",
       "   DS Tuc A b Transiting Exoplanet Survey Satellite (TESS) ...   850.0   7.122\n",
       "     GJ 143 b Transiting Exoplanet Survey Satellite (TESS) ...   422.0   6.081\n",
       "     GJ 357 b Transiting Exoplanet Survey Satellite (TESS) ...   525.0   7.337\n",
       "    HD 1397 b Transiting Exoplanet Survey Satellite (TESS) ...  1228.0   6.442\n",
       "   HD 15337 b Transiting Exoplanet Survey Satellite (TESS) ...  1001.0   7.553\n",
       "   HD 15337 c Transiting Exoplanet Survey Satellite (TESS) ...   642.0   7.553\n",
       "HD 202772 A b Transiting Exoplanet Survey Satellite (TESS) ...  2132.0      --\n",
       "   HD 21749 c Transiting Exoplanet Survey Satellite (TESS) ...   701.0   6.081\n",
       "  HD 219666 b Transiting Exoplanet Survey Satellite (TESS) ...  1073.0   8.557\n",
       "          ...                                          ... ...     ...     ...\n",
       "   TOI 150.01 Transiting Exoplanet Survey Satellite (TESS) ...  1493.0  10.324\n",
       "    TOI 172 b Transiting Exoplanet Survey Satellite (TESS) ...  1198.0  10.135\n",
       "    TOI 216 b Transiting Exoplanet Survey Satellite (TESS) ...   628.0  10.759\n",
       "    TOI 216 c Transiting Exoplanet Survey Satellite (TESS) ...   497.0  10.759\n",
       "   TOI 216.01 Transiting Exoplanet Survey Satellite (TESS) ...   497.0  10.759\n",
       "   TOI 216.02 Transiting Exoplanet Survey Satellite (TESS) ...   628.0  10.759\n",
       "    TOI 270 b Transiting Exoplanet Survey Satellite (TESS) ...   528.0   9.099\n",
       "    TOI 270 c Transiting Exoplanet Survey Satellite (TESS) ...   424.0   9.099\n",
       "    TOI 270 d Transiting Exoplanet Survey Satellite (TESS) ...   340.0   9.099\n",
       "     pi Men c Transiting Exoplanet Survey Satellite (TESS) ...  1170.0   4.869"
      ]
     },
     "execution_count": 24,
     "metadata": {},
     "output_type": "execute_result"
    }
   ],
   "source": [
    "index = data['pl_facility'].find('TESS')[0]\n",
    "tess_data = data[index]\n",
    "tess_data['pl_name', 'pl_facility', 'pl_trandur', 'pl_massj', 'pl_eqt','st_j']"
   ]
  },
  {
   "cell_type": "markdown",
   "metadata": {},
   "source": [
    "### Use it to compute some quantities\n",
    "#### Relative flux at 1.25 microns (J-band central wavelength) assuming blackbody radiation"
   ]
  },
  {
   "cell_type": "code",
   "execution_count": 72,
   "metadata": {},
   "outputs": [],
   "source": [
    "import astropy.units as u\n",
    "from astropy.modeling.blackbody import blackbody_lambda\n",
    "from numpy import isfinite, where\n",
    "import matplotlib.pyplot as plt"
   ]
  },
  {
   "cell_type": "code",
   "execution_count": 39,
   "metadata": {},
   "outputs": [
    {
     "data": {
      "text/latex": [
       "$[850,~422,~525,~1228,~1001,~642,~2132,~701,~1073,~0,~0,~0,~2061,~1572,~1326,~1075,~0,~0,~0,~805,~433,~1493,~1198,~628,~497,~497,~628,~528,~424,~340,~1170] \\; \\mathrm{K}$"
      ],
      "text/plain": [
       "<Quantity [ 850.,  422.,  525., 1228., 1001.,  642., 2132.,  701., 1073.,\n",
       "              0.,    0.,    0., 2061., 1572., 1326., 1075.,    0.,    0.,\n",
       "              0.,  805.,  433., 1493., 1198.,  628.,  497.,  497.,  628.,\n",
       "            528.,  424.,  340., 1170.] K>"
      ]
     },
     "execution_count": 39,
     "metadata": {},
     "output_type": "execute_result"
    }
   ],
   "source": [
    "T_pl = tess_data['pl_eqt'].quantity\n",
    "T_star = tess_data['st_teff'].quantity\n",
    "R_pl = tess_data['pl_radj'].quantity\n",
    "R_st = tess_data['st_rad'].quantity\n",
    "T_pl"
   ]
  },
  {
   "cell_type": "code",
   "execution_count": 33,
   "metadata": {},
   "outputs": [
    {
     "name": "stderr",
     "output_type": "stream",
     "text": [
      "/home/adb/anaconda3/lib/python3.7/site-packages/astropy/units/quantity.py:639: RuntimeWarning: divide by zero encountered in true_divide\n",
      "  result = super().__array_ufunc__(function, method, *arrays, **kwargs)\n"
     ]
    }
   ],
   "source": [
    "F_pl = blackbody_lambda(1.25 * u.micron, T_pl)\n",
    "F_star = blackbody_lambda(1.25 * u.micron, T_star)"
   ]
  },
  {
   "cell_type": "code",
   "execution_count": 45,
   "metadata": {},
   "outputs": [
    {
     "name": "stderr",
     "output_type": "stream",
     "text": [
      "/home/adb/anaconda3/lib/python3.7/site-packages/astropy/units/quantity.py:639: RuntimeWarning: invalid value encountered in true_divide\n",
      "  result = super().__array_ufunc__(function, method, *arrays, **kwargs)\n"
     ]
    },
    {
     "data": {
      "text/latex": [
       "$\\mathrm{\\frac{R_{\\rm J}^{2}}{R_{\\odot}^{2}}}$"
      ],
      "text/plain": [
       "Unit(\"jupiterRad2 / solRad2\")"
      ]
     },
     "execution_count": 45,
     "metadata": {},
     "output_type": "execute_result"
    }
   ],
   "source": [
    "ratio = F_pl/F_star * (R_pl/R_st)**2\n",
    "ratio.unit"
   ]
  },
  {
   "cell_type": "code",
   "execution_count": 69,
   "metadata": {},
   "outputs": [
    {
     "data": {
      "text/latex": [
       "$\\mathrm{}$"
      ],
      "text/plain": [
       "Unit(dimensionless)"
      ]
     },
     "execution_count": 69,
     "metadata": {},
     "output_type": "execute_result"
    }
   ],
   "source": [
    "ratio = ratio.decompose()\n",
    "ratio.unit"
   ]
  },
  {
   "cell_type": "code",
   "execution_count": 91,
   "metadata": {},
   "outputs": [
    {
     "data": {
      "application/javascript": [
       "/* Put everything inside the global mpl namespace */\n",
       "window.mpl = {};\n",
       "\n",
       "\n",
       "mpl.get_websocket_type = function() {\n",
       "    if (typeof(WebSocket) !== 'undefined') {\n",
       "        return WebSocket;\n",
       "    } else if (typeof(MozWebSocket) !== 'undefined') {\n",
       "        return MozWebSocket;\n",
       "    } else {\n",
       "        alert('Your browser does not have WebSocket support.' +\n",
       "              'Please try Chrome, Safari or Firefox ≥ 6. ' +\n",
       "              'Firefox 4 and 5 are also supported but you ' +\n",
       "              'have to enable WebSockets in about:config.');\n",
       "    };\n",
       "}\n",
       "\n",
       "mpl.figure = function(figure_id, websocket, ondownload, parent_element) {\n",
       "    this.id = figure_id;\n",
       "\n",
       "    this.ws = websocket;\n",
       "\n",
       "    this.supports_binary = (this.ws.binaryType != undefined);\n",
       "\n",
       "    if (!this.supports_binary) {\n",
       "        var warnings = document.getElementById(\"mpl-warnings\");\n",
       "        if (warnings) {\n",
       "            warnings.style.display = 'block';\n",
       "            warnings.textContent = (\n",
       "                \"This browser does not support binary websocket messages. \" +\n",
       "                    \"Performance may be slow.\");\n",
       "        }\n",
       "    }\n",
       "\n",
       "    this.imageObj = new Image();\n",
       "\n",
       "    this.context = undefined;\n",
       "    this.message = undefined;\n",
       "    this.canvas = undefined;\n",
       "    this.rubberband_canvas = undefined;\n",
       "    this.rubberband_context = undefined;\n",
       "    this.format_dropdown = undefined;\n",
       "\n",
       "    this.image_mode = 'full';\n",
       "\n",
       "    this.root = $('<div/>');\n",
       "    this._root_extra_style(this.root)\n",
       "    this.root.attr('style', 'display: inline-block');\n",
       "\n",
       "    $(parent_element).append(this.root);\n",
       "\n",
       "    this._init_header(this);\n",
       "    this._init_canvas(this);\n",
       "    this._init_toolbar(this);\n",
       "\n",
       "    var fig = this;\n",
       "\n",
       "    this.waiting = false;\n",
       "\n",
       "    this.ws.onopen =  function () {\n",
       "            fig.send_message(\"supports_binary\", {value: fig.supports_binary});\n",
       "            fig.send_message(\"send_image_mode\", {});\n",
       "            if (mpl.ratio != 1) {\n",
       "                fig.send_message(\"set_dpi_ratio\", {'dpi_ratio': mpl.ratio});\n",
       "            }\n",
       "            fig.send_message(\"refresh\", {});\n",
       "        }\n",
       "\n",
       "    this.imageObj.onload = function() {\n",
       "            if (fig.image_mode == 'full') {\n",
       "                // Full images could contain transparency (where diff images\n",
       "                // almost always do), so we need to clear the canvas so that\n",
       "                // there is no ghosting.\n",
       "                fig.context.clearRect(0, 0, fig.canvas.width, fig.canvas.height);\n",
       "            }\n",
       "            fig.context.drawImage(fig.imageObj, 0, 0);\n",
       "        };\n",
       "\n",
       "    this.imageObj.onunload = function() {\n",
       "        fig.ws.close();\n",
       "    }\n",
       "\n",
       "    this.ws.onmessage = this._make_on_message_function(this);\n",
       "\n",
       "    this.ondownload = ondownload;\n",
       "}\n",
       "\n",
       "mpl.figure.prototype._init_header = function() {\n",
       "    var titlebar = $(\n",
       "        '<div class=\"ui-dialog-titlebar ui-widget-header ui-corner-all ' +\n",
       "        'ui-helper-clearfix\"/>');\n",
       "    var titletext = $(\n",
       "        '<div class=\"ui-dialog-title\" style=\"width: 100%; ' +\n",
       "        'text-align: center; padding: 3px;\"/>');\n",
       "    titlebar.append(titletext)\n",
       "    this.root.append(titlebar);\n",
       "    this.header = titletext[0];\n",
       "}\n",
       "\n",
       "\n",
       "\n",
       "mpl.figure.prototype._canvas_extra_style = function(canvas_div) {\n",
       "\n",
       "}\n",
       "\n",
       "\n",
       "mpl.figure.prototype._root_extra_style = function(canvas_div) {\n",
       "\n",
       "}\n",
       "\n",
       "mpl.figure.prototype._init_canvas = function() {\n",
       "    var fig = this;\n",
       "\n",
       "    var canvas_div = $('<div/>');\n",
       "\n",
       "    canvas_div.attr('style', 'position: relative; clear: both; outline: 0');\n",
       "\n",
       "    function canvas_keyboard_event(event) {\n",
       "        return fig.key_event(event, event['data']);\n",
       "    }\n",
       "\n",
       "    canvas_div.keydown('key_press', canvas_keyboard_event);\n",
       "    canvas_div.keyup('key_release', canvas_keyboard_event);\n",
       "    this.canvas_div = canvas_div\n",
       "    this._canvas_extra_style(canvas_div)\n",
       "    this.root.append(canvas_div);\n",
       "\n",
       "    var canvas = $('<canvas/>');\n",
       "    canvas.addClass('mpl-canvas');\n",
       "    canvas.attr('style', \"left: 0; top: 0; z-index: 0; outline: 0\")\n",
       "\n",
       "    this.canvas = canvas[0];\n",
       "    this.context = canvas[0].getContext(\"2d\");\n",
       "\n",
       "    var backingStore = this.context.backingStorePixelRatio ||\n",
       "\tthis.context.webkitBackingStorePixelRatio ||\n",
       "\tthis.context.mozBackingStorePixelRatio ||\n",
       "\tthis.context.msBackingStorePixelRatio ||\n",
       "\tthis.context.oBackingStorePixelRatio ||\n",
       "\tthis.context.backingStorePixelRatio || 1;\n",
       "\n",
       "    mpl.ratio = (window.devicePixelRatio || 1) / backingStore;\n",
       "\n",
       "    var rubberband = $('<canvas/>');\n",
       "    rubberband.attr('style', \"position: absolute; left: 0; top: 0; z-index: 1;\")\n",
       "\n",
       "    var pass_mouse_events = true;\n",
       "\n",
       "    canvas_div.resizable({\n",
       "        start: function(event, ui) {\n",
       "            pass_mouse_events = false;\n",
       "        },\n",
       "        resize: function(event, ui) {\n",
       "            fig.request_resize(ui.size.width, ui.size.height);\n",
       "        },\n",
       "        stop: function(event, ui) {\n",
       "            pass_mouse_events = true;\n",
       "            fig.request_resize(ui.size.width, ui.size.height);\n",
       "        },\n",
       "    });\n",
       "\n",
       "    function mouse_event_fn(event) {\n",
       "        if (pass_mouse_events)\n",
       "            return fig.mouse_event(event, event['data']);\n",
       "    }\n",
       "\n",
       "    rubberband.mousedown('button_press', mouse_event_fn);\n",
       "    rubberband.mouseup('button_release', mouse_event_fn);\n",
       "    // Throttle sequential mouse events to 1 every 20ms.\n",
       "    rubberband.mousemove('motion_notify', mouse_event_fn);\n",
       "\n",
       "    rubberband.mouseenter('figure_enter', mouse_event_fn);\n",
       "    rubberband.mouseleave('figure_leave', mouse_event_fn);\n",
       "\n",
       "    canvas_div.on(\"wheel\", function (event) {\n",
       "        event = event.originalEvent;\n",
       "        event['data'] = 'scroll'\n",
       "        if (event.deltaY < 0) {\n",
       "            event.step = 1;\n",
       "        } else {\n",
       "            event.step = -1;\n",
       "        }\n",
       "        mouse_event_fn(event);\n",
       "    });\n",
       "\n",
       "    canvas_div.append(canvas);\n",
       "    canvas_div.append(rubberband);\n",
       "\n",
       "    this.rubberband = rubberband;\n",
       "    this.rubberband_canvas = rubberband[0];\n",
       "    this.rubberband_context = rubberband[0].getContext(\"2d\");\n",
       "    this.rubberband_context.strokeStyle = \"#000000\";\n",
       "\n",
       "    this._resize_canvas = function(width, height) {\n",
       "        // Keep the size of the canvas, canvas container, and rubber band\n",
       "        // canvas in synch.\n",
       "        canvas_div.css('width', width)\n",
       "        canvas_div.css('height', height)\n",
       "\n",
       "        canvas.attr('width', width * mpl.ratio);\n",
       "        canvas.attr('height', height * mpl.ratio);\n",
       "        canvas.attr('style', 'width: ' + width + 'px; height: ' + height + 'px;');\n",
       "\n",
       "        rubberband.attr('width', width);\n",
       "        rubberband.attr('height', height);\n",
       "    }\n",
       "\n",
       "    // Set the figure to an initial 600x600px, this will subsequently be updated\n",
       "    // upon first draw.\n",
       "    this._resize_canvas(600, 600);\n",
       "\n",
       "    // Disable right mouse context menu.\n",
       "    $(this.rubberband_canvas).bind(\"contextmenu\",function(e){\n",
       "        return false;\n",
       "    });\n",
       "\n",
       "    function set_focus () {\n",
       "        canvas.focus();\n",
       "        canvas_div.focus();\n",
       "    }\n",
       "\n",
       "    window.setTimeout(set_focus, 100);\n",
       "}\n",
       "\n",
       "mpl.figure.prototype._init_toolbar = function() {\n",
       "    var fig = this;\n",
       "\n",
       "    var nav_element = $('<div/>')\n",
       "    nav_element.attr('style', 'width: 100%');\n",
       "    this.root.append(nav_element);\n",
       "\n",
       "    // Define a callback function for later on.\n",
       "    function toolbar_event(event) {\n",
       "        return fig.toolbar_button_onclick(event['data']);\n",
       "    }\n",
       "    function toolbar_mouse_event(event) {\n",
       "        return fig.toolbar_button_onmouseover(event['data']);\n",
       "    }\n",
       "\n",
       "    for(var toolbar_ind in mpl.toolbar_items) {\n",
       "        var name = mpl.toolbar_items[toolbar_ind][0];\n",
       "        var tooltip = mpl.toolbar_items[toolbar_ind][1];\n",
       "        var image = mpl.toolbar_items[toolbar_ind][2];\n",
       "        var method_name = mpl.toolbar_items[toolbar_ind][3];\n",
       "\n",
       "        if (!name) {\n",
       "            // put a spacer in here.\n",
       "            continue;\n",
       "        }\n",
       "        var button = $('<button/>');\n",
       "        button.addClass('ui-button ui-widget ui-state-default ui-corner-all ' +\n",
       "                        'ui-button-icon-only');\n",
       "        button.attr('role', 'button');\n",
       "        button.attr('aria-disabled', 'false');\n",
       "        button.click(method_name, toolbar_event);\n",
       "        button.mouseover(tooltip, toolbar_mouse_event);\n",
       "\n",
       "        var icon_img = $('<span/>');\n",
       "        icon_img.addClass('ui-button-icon-primary ui-icon');\n",
       "        icon_img.addClass(image);\n",
       "        icon_img.addClass('ui-corner-all');\n",
       "\n",
       "        var tooltip_span = $('<span/>');\n",
       "        tooltip_span.addClass('ui-button-text');\n",
       "        tooltip_span.html(tooltip);\n",
       "\n",
       "        button.append(icon_img);\n",
       "        button.append(tooltip_span);\n",
       "\n",
       "        nav_element.append(button);\n",
       "    }\n",
       "\n",
       "    var fmt_picker_span = $('<span/>');\n",
       "\n",
       "    var fmt_picker = $('<select/>');\n",
       "    fmt_picker.addClass('mpl-toolbar-option ui-widget ui-widget-content');\n",
       "    fmt_picker_span.append(fmt_picker);\n",
       "    nav_element.append(fmt_picker_span);\n",
       "    this.format_dropdown = fmt_picker[0];\n",
       "\n",
       "    for (var ind in mpl.extensions) {\n",
       "        var fmt = mpl.extensions[ind];\n",
       "        var option = $(\n",
       "            '<option/>', {selected: fmt === mpl.default_extension}).html(fmt);\n",
       "        fmt_picker.append(option)\n",
       "    }\n",
       "\n",
       "    // Add hover states to the ui-buttons\n",
       "    $( \".ui-button\" ).hover(\n",
       "        function() { $(this).addClass(\"ui-state-hover\");},\n",
       "        function() { $(this).removeClass(\"ui-state-hover\");}\n",
       "    );\n",
       "\n",
       "    var status_bar = $('<span class=\"mpl-message\"/>');\n",
       "    nav_element.append(status_bar);\n",
       "    this.message = status_bar[0];\n",
       "}\n",
       "\n",
       "mpl.figure.prototype.request_resize = function(x_pixels, y_pixels) {\n",
       "    // Request matplotlib to resize the figure. Matplotlib will then trigger a resize in the client,\n",
       "    // which will in turn request a refresh of the image.\n",
       "    this.send_message('resize', {'width': x_pixels, 'height': y_pixels});\n",
       "}\n",
       "\n",
       "mpl.figure.prototype.send_message = function(type, properties) {\n",
       "    properties['type'] = type;\n",
       "    properties['figure_id'] = this.id;\n",
       "    this.ws.send(JSON.stringify(properties));\n",
       "}\n",
       "\n",
       "mpl.figure.prototype.send_draw_message = function() {\n",
       "    if (!this.waiting) {\n",
       "        this.waiting = true;\n",
       "        this.ws.send(JSON.stringify({type: \"draw\", figure_id: this.id}));\n",
       "    }\n",
       "}\n",
       "\n",
       "\n",
       "mpl.figure.prototype.handle_save = function(fig, msg) {\n",
       "    var format_dropdown = fig.format_dropdown;\n",
       "    var format = format_dropdown.options[format_dropdown.selectedIndex].value;\n",
       "    fig.ondownload(fig, format);\n",
       "}\n",
       "\n",
       "\n",
       "mpl.figure.prototype.handle_resize = function(fig, msg) {\n",
       "    var size = msg['size'];\n",
       "    if (size[0] != fig.canvas.width || size[1] != fig.canvas.height) {\n",
       "        fig._resize_canvas(size[0], size[1]);\n",
       "        fig.send_message(\"refresh\", {});\n",
       "    };\n",
       "}\n",
       "\n",
       "mpl.figure.prototype.handle_rubberband = function(fig, msg) {\n",
       "    var x0 = msg['x0'] / mpl.ratio;\n",
       "    var y0 = (fig.canvas.height - msg['y0']) / mpl.ratio;\n",
       "    var x1 = msg['x1'] / mpl.ratio;\n",
       "    var y1 = (fig.canvas.height - msg['y1']) / mpl.ratio;\n",
       "    x0 = Math.floor(x0) + 0.5;\n",
       "    y0 = Math.floor(y0) + 0.5;\n",
       "    x1 = Math.floor(x1) + 0.5;\n",
       "    y1 = Math.floor(y1) + 0.5;\n",
       "    var min_x = Math.min(x0, x1);\n",
       "    var min_y = Math.min(y0, y1);\n",
       "    var width = Math.abs(x1 - x0);\n",
       "    var height = Math.abs(y1 - y0);\n",
       "\n",
       "    fig.rubberband_context.clearRect(\n",
       "        0, 0, fig.canvas.width, fig.canvas.height);\n",
       "\n",
       "    fig.rubberband_context.strokeRect(min_x, min_y, width, height);\n",
       "}\n",
       "\n",
       "mpl.figure.prototype.handle_figure_label = function(fig, msg) {\n",
       "    // Updates the figure title.\n",
       "    fig.header.textContent = msg['label'];\n",
       "}\n",
       "\n",
       "mpl.figure.prototype.handle_cursor = function(fig, msg) {\n",
       "    var cursor = msg['cursor'];\n",
       "    switch(cursor)\n",
       "    {\n",
       "    case 0:\n",
       "        cursor = 'pointer';\n",
       "        break;\n",
       "    case 1:\n",
       "        cursor = 'default';\n",
       "        break;\n",
       "    case 2:\n",
       "        cursor = 'crosshair';\n",
       "        break;\n",
       "    case 3:\n",
       "        cursor = 'move';\n",
       "        break;\n",
       "    }\n",
       "    fig.rubberband_canvas.style.cursor = cursor;\n",
       "}\n",
       "\n",
       "mpl.figure.prototype.handle_message = function(fig, msg) {\n",
       "    fig.message.textContent = msg['message'];\n",
       "}\n",
       "\n",
       "mpl.figure.prototype.handle_draw = function(fig, msg) {\n",
       "    // Request the server to send over a new figure.\n",
       "    fig.send_draw_message();\n",
       "}\n",
       "\n",
       "mpl.figure.prototype.handle_image_mode = function(fig, msg) {\n",
       "    fig.image_mode = msg['mode'];\n",
       "}\n",
       "\n",
       "mpl.figure.prototype.updated_canvas_event = function() {\n",
       "    // Called whenever the canvas gets updated.\n",
       "    this.send_message(\"ack\", {});\n",
       "}\n",
       "\n",
       "// A function to construct a web socket function for onmessage handling.\n",
       "// Called in the figure constructor.\n",
       "mpl.figure.prototype._make_on_message_function = function(fig) {\n",
       "    return function socket_on_message(evt) {\n",
       "        if (evt.data instanceof Blob) {\n",
       "            /* FIXME: We get \"Resource interpreted as Image but\n",
       "             * transferred with MIME type text/plain:\" errors on\n",
       "             * Chrome.  But how to set the MIME type?  It doesn't seem\n",
       "             * to be part of the websocket stream */\n",
       "            evt.data.type = \"image/png\";\n",
       "\n",
       "            /* Free the memory for the previous frames */\n",
       "            if (fig.imageObj.src) {\n",
       "                (window.URL || window.webkitURL).revokeObjectURL(\n",
       "                    fig.imageObj.src);\n",
       "            }\n",
       "\n",
       "            fig.imageObj.src = (window.URL || window.webkitURL).createObjectURL(\n",
       "                evt.data);\n",
       "            fig.updated_canvas_event();\n",
       "            fig.waiting = false;\n",
       "            return;\n",
       "        }\n",
       "        else if (typeof evt.data === 'string' && evt.data.slice(0, 21) == \"data:image/png;base64\") {\n",
       "            fig.imageObj.src = evt.data;\n",
       "            fig.updated_canvas_event();\n",
       "            fig.waiting = false;\n",
       "            return;\n",
       "        }\n",
       "\n",
       "        var msg = JSON.parse(evt.data);\n",
       "        var msg_type = msg['type'];\n",
       "\n",
       "        // Call the  \"handle_{type}\" callback, which takes\n",
       "        // the figure and JSON message as its only arguments.\n",
       "        try {\n",
       "            var callback = fig[\"handle_\" + msg_type];\n",
       "        } catch (e) {\n",
       "            console.log(\"No handler for the '\" + msg_type + \"' message type: \", msg);\n",
       "            return;\n",
       "        }\n",
       "\n",
       "        if (callback) {\n",
       "            try {\n",
       "                // console.log(\"Handling '\" + msg_type + \"' message: \", msg);\n",
       "                callback(fig, msg);\n",
       "            } catch (e) {\n",
       "                console.log(\"Exception inside the 'handler_\" + msg_type + \"' callback:\", e, e.stack, msg);\n",
       "            }\n",
       "        }\n",
       "    };\n",
       "}\n",
       "\n",
       "// from http://stackoverflow.com/questions/1114465/getting-mouse-location-in-canvas\n",
       "mpl.findpos = function(e) {\n",
       "    //this section is from http://www.quirksmode.org/js/events_properties.html\n",
       "    var targ;\n",
       "    if (!e)\n",
       "        e = window.event;\n",
       "    if (e.target)\n",
       "        targ = e.target;\n",
       "    else if (e.srcElement)\n",
       "        targ = e.srcElement;\n",
       "    if (targ.nodeType == 3) // defeat Safari bug\n",
       "        targ = targ.parentNode;\n",
       "\n",
       "    // jQuery normalizes the pageX and pageY\n",
       "    // pageX,Y are the mouse positions relative to the document\n",
       "    // offset() returns the position of the element relative to the document\n",
       "    var x = e.pageX - $(targ).offset().left;\n",
       "    var y = e.pageY - $(targ).offset().top;\n",
       "\n",
       "    return {\"x\": x, \"y\": y};\n",
       "};\n",
       "\n",
       "/*\n",
       " * return a copy of an object with only non-object keys\n",
       " * we need this to avoid circular references\n",
       " * http://stackoverflow.com/a/24161582/3208463\n",
       " */\n",
       "function simpleKeys (original) {\n",
       "  return Object.keys(original).reduce(function (obj, key) {\n",
       "    if (typeof original[key] !== 'object')\n",
       "        obj[key] = original[key]\n",
       "    return obj;\n",
       "  }, {});\n",
       "}\n",
       "\n",
       "mpl.figure.prototype.mouse_event = function(event, name) {\n",
       "    var canvas_pos = mpl.findpos(event)\n",
       "\n",
       "    if (name === 'button_press')\n",
       "    {\n",
       "        this.canvas.focus();\n",
       "        this.canvas_div.focus();\n",
       "    }\n",
       "\n",
       "    var x = canvas_pos.x * mpl.ratio;\n",
       "    var y = canvas_pos.y * mpl.ratio;\n",
       "\n",
       "    this.send_message(name, {x: x, y: y, button: event.button,\n",
       "                             step: event.step,\n",
       "                             guiEvent: simpleKeys(event)});\n",
       "\n",
       "    /* This prevents the web browser from automatically changing to\n",
       "     * the text insertion cursor when the button is pressed.  We want\n",
       "     * to control all of the cursor setting manually through the\n",
       "     * 'cursor' event from matplotlib */\n",
       "    event.preventDefault();\n",
       "    return false;\n",
       "}\n",
       "\n",
       "mpl.figure.prototype._key_event_extra = function(event, name) {\n",
       "    // Handle any extra behaviour associated with a key event\n",
       "}\n",
       "\n",
       "mpl.figure.prototype.key_event = function(event, name) {\n",
       "\n",
       "    // Prevent repeat events\n",
       "    if (name == 'key_press')\n",
       "    {\n",
       "        if (event.which === this._key)\n",
       "            return;\n",
       "        else\n",
       "            this._key = event.which;\n",
       "    }\n",
       "    if (name == 'key_release')\n",
       "        this._key = null;\n",
       "\n",
       "    var value = '';\n",
       "    if (event.ctrlKey && event.which != 17)\n",
       "        value += \"ctrl+\";\n",
       "    if (event.altKey && event.which != 18)\n",
       "        value += \"alt+\";\n",
       "    if (event.shiftKey && event.which != 16)\n",
       "        value += \"shift+\";\n",
       "\n",
       "    value += 'k';\n",
       "    value += event.which.toString();\n",
       "\n",
       "    this._key_event_extra(event, name);\n",
       "\n",
       "    this.send_message(name, {key: value,\n",
       "                             guiEvent: simpleKeys(event)});\n",
       "    return false;\n",
       "}\n",
       "\n",
       "mpl.figure.prototype.toolbar_button_onclick = function(name) {\n",
       "    if (name == 'download') {\n",
       "        this.handle_save(this, null);\n",
       "    } else {\n",
       "        this.send_message(\"toolbar_button\", {name: name});\n",
       "    }\n",
       "};\n",
       "\n",
       "mpl.figure.prototype.toolbar_button_onmouseover = function(tooltip) {\n",
       "    this.message.textContent = tooltip;\n",
       "};\n",
       "mpl.toolbar_items = [[\"Home\", \"Reset original view\", \"fa fa-home icon-home\", \"home\"], [\"Back\", \"Back to previous view\", \"fa fa-arrow-left icon-arrow-left\", \"back\"], [\"Forward\", \"Forward to next view\", \"fa fa-arrow-right icon-arrow-right\", \"forward\"], [\"\", \"\", \"\", \"\"], [\"Pan\", \"Pan axes with left mouse, zoom with right\", \"fa fa-arrows icon-move\", \"pan\"], [\"Zoom\", \"Zoom to rectangle\", \"fa fa-square-o icon-check-empty\", \"zoom\"], [\"\", \"\", \"\", \"\"], [\"Download\", \"Download plot\", \"fa fa-floppy-o icon-save\", \"download\"]];\n",
       "\n",
       "mpl.extensions = [\"eps\", \"jpeg\", \"pdf\", \"png\", \"ps\", \"raw\", \"svg\", \"tif\"];\n",
       "\n",
       "mpl.default_extension = \"png\";var comm_websocket_adapter = function(comm) {\n",
       "    // Create a \"websocket\"-like object which calls the given IPython comm\n",
       "    // object with the appropriate methods. Currently this is a non binary\n",
       "    // socket, so there is still some room for performance tuning.\n",
       "    var ws = {};\n",
       "\n",
       "    ws.close = function() {\n",
       "        comm.close()\n",
       "    };\n",
       "    ws.send = function(m) {\n",
       "        //console.log('sending', m);\n",
       "        comm.send(m);\n",
       "    };\n",
       "    // Register the callback with on_msg.\n",
       "    comm.on_msg(function(msg) {\n",
       "        //console.log('receiving', msg['content']['data'], msg);\n",
       "        // Pass the mpl event to the overridden (by mpl) onmessage function.\n",
       "        ws.onmessage(msg['content']['data'])\n",
       "    });\n",
       "    return ws;\n",
       "}\n",
       "\n",
       "mpl.mpl_figure_comm = function(comm, msg) {\n",
       "    // This is the function which gets called when the mpl process\n",
       "    // starts-up an IPython Comm through the \"matplotlib\" channel.\n",
       "\n",
       "    var id = msg.content.data.id;\n",
       "    // Get hold of the div created by the display call when the Comm\n",
       "    // socket was opened in Python.\n",
       "    var element = $(\"#\" + id);\n",
       "    var ws_proxy = comm_websocket_adapter(comm)\n",
       "\n",
       "    function ondownload(figure, format) {\n",
       "        window.open(figure.imageObj.src);\n",
       "    }\n",
       "\n",
       "    var fig = new mpl.figure(id, ws_proxy,\n",
       "                           ondownload,\n",
       "                           element.get(0));\n",
       "\n",
       "    // Call onopen now - mpl needs it, as it is assuming we've passed it a real\n",
       "    // web socket which is closed, not our websocket->open comm proxy.\n",
       "    ws_proxy.onopen();\n",
       "\n",
       "    fig.parent_element = element.get(0);\n",
       "    fig.cell_info = mpl.find_output_cell(\"<div id='\" + id + \"'></div>\");\n",
       "    if (!fig.cell_info) {\n",
       "        console.error(\"Failed to find cell for figure\", id, fig);\n",
       "        return;\n",
       "    }\n",
       "\n",
       "    var output_index = fig.cell_info[2]\n",
       "    var cell = fig.cell_info[0];\n",
       "\n",
       "};\n",
       "\n",
       "mpl.figure.prototype.handle_close = function(fig, msg) {\n",
       "    var width = fig.canvas.width/mpl.ratio\n",
       "    fig.root.unbind('remove')\n",
       "\n",
       "    // Update the output cell to use the data from the current canvas.\n",
       "    fig.push_to_output();\n",
       "    var dataURL = fig.canvas.toDataURL();\n",
       "    // Re-enable the keyboard manager in IPython - without this line, in FF,\n",
       "    // the notebook keyboard shortcuts fail.\n",
       "    IPython.keyboard_manager.enable()\n",
       "    $(fig.parent_element).html('<img src=\"' + dataURL + '\" width=\"' + width + '\">');\n",
       "    fig.close_ws(fig, msg);\n",
       "}\n",
       "\n",
       "mpl.figure.prototype.close_ws = function(fig, msg){\n",
       "    fig.send_message('closing', msg);\n",
       "    // fig.ws.close()\n",
       "}\n",
       "\n",
       "mpl.figure.prototype.push_to_output = function(remove_interactive) {\n",
       "    // Turn the data on the canvas into data in the output cell.\n",
       "    var width = this.canvas.width/mpl.ratio\n",
       "    var dataURL = this.canvas.toDataURL();\n",
       "    this.cell_info[1]['text/html'] = '<img src=\"' + dataURL + '\" width=\"' + width + '\">';\n",
       "}\n",
       "\n",
       "mpl.figure.prototype.updated_canvas_event = function() {\n",
       "    // Tell IPython that the notebook contents must change.\n",
       "    IPython.notebook.set_dirty(true);\n",
       "    this.send_message(\"ack\", {});\n",
       "    var fig = this;\n",
       "    // Wait a second, then push the new image to the DOM so\n",
       "    // that it is saved nicely (might be nice to debounce this).\n",
       "    setTimeout(function () { fig.push_to_output() }, 1000);\n",
       "}\n",
       "\n",
       "mpl.figure.prototype._init_toolbar = function() {\n",
       "    var fig = this;\n",
       "\n",
       "    var nav_element = $('<div/>')\n",
       "    nav_element.attr('style', 'width: 100%');\n",
       "    this.root.append(nav_element);\n",
       "\n",
       "    // Define a callback function for later on.\n",
       "    function toolbar_event(event) {\n",
       "        return fig.toolbar_button_onclick(event['data']);\n",
       "    }\n",
       "    function toolbar_mouse_event(event) {\n",
       "        return fig.toolbar_button_onmouseover(event['data']);\n",
       "    }\n",
       "\n",
       "    for(var toolbar_ind in mpl.toolbar_items){\n",
       "        var name = mpl.toolbar_items[toolbar_ind][0];\n",
       "        var tooltip = mpl.toolbar_items[toolbar_ind][1];\n",
       "        var image = mpl.toolbar_items[toolbar_ind][2];\n",
       "        var method_name = mpl.toolbar_items[toolbar_ind][3];\n",
       "\n",
       "        if (!name) { continue; };\n",
       "\n",
       "        var button = $('<button class=\"btn btn-default\" href=\"#\" title=\"' + name + '\"><i class=\"fa ' + image + ' fa-lg\"></i></button>');\n",
       "        button.click(method_name, toolbar_event);\n",
       "        button.mouseover(tooltip, toolbar_mouse_event);\n",
       "        nav_element.append(button);\n",
       "    }\n",
       "\n",
       "    // Add the status bar.\n",
       "    var status_bar = $('<span class=\"mpl-message\" style=\"text-align:right; float: right;\"/>');\n",
       "    nav_element.append(status_bar);\n",
       "    this.message = status_bar[0];\n",
       "\n",
       "    // Add the close button to the window.\n",
       "    var buttongrp = $('<div class=\"btn-group inline pull-right\"></div>');\n",
       "    var button = $('<button class=\"btn btn-mini btn-primary\" href=\"#\" title=\"Stop Interaction\"><i class=\"fa fa-power-off icon-remove icon-large\"></i></button>');\n",
       "    button.click(function (evt) { fig.handle_close(fig, {}); } );\n",
       "    button.mouseover('Stop Interaction', toolbar_mouse_event);\n",
       "    buttongrp.append(button);\n",
       "    var titlebar = this.root.find($('.ui-dialog-titlebar'));\n",
       "    titlebar.prepend(buttongrp);\n",
       "}\n",
       "\n",
       "mpl.figure.prototype._root_extra_style = function(el){\n",
       "    var fig = this\n",
       "    el.on(\"remove\", function(){\n",
       "\tfig.close_ws(fig, {});\n",
       "    });\n",
       "}\n",
       "\n",
       "mpl.figure.prototype._canvas_extra_style = function(el){\n",
       "    // this is important to make the div 'focusable\n",
       "    el.attr('tabindex', 0)\n",
       "    // reach out to IPython and tell the keyboard manager to turn it's self\n",
       "    // off when our div gets focus\n",
       "\n",
       "    // location in version 3\n",
       "    if (IPython.notebook.keyboard_manager) {\n",
       "        IPython.notebook.keyboard_manager.register_events(el);\n",
       "    }\n",
       "    else {\n",
       "        // location in version 2\n",
       "        IPython.keyboard_manager.register_events(el);\n",
       "    }\n",
       "\n",
       "}\n",
       "\n",
       "mpl.figure.prototype._key_event_extra = function(event, name) {\n",
       "    var manager = IPython.notebook.keyboard_manager;\n",
       "    if (!manager)\n",
       "        manager = IPython.keyboard_manager;\n",
       "\n",
       "    // Check for shift+enter\n",
       "    if (event.shiftKey && event.which == 13) {\n",
       "        this.canvas_div.blur();\n",
       "        event.shiftKey = false;\n",
       "        // Send a \"J\" for go to next cell\n",
       "        event.which = 74;\n",
       "        event.keyCode = 74;\n",
       "        manager.command_mode();\n",
       "        manager.handle_keydown(event);\n",
       "    }\n",
       "}\n",
       "\n",
       "mpl.figure.prototype.handle_save = function(fig, msg) {\n",
       "    fig.ondownload(fig, null);\n",
       "}\n",
       "\n",
       "\n",
       "mpl.find_output_cell = function(html_output) {\n",
       "    // Return the cell and output element which can be found *uniquely* in the notebook.\n",
       "    // Note - this is a bit hacky, but it is done because the \"notebook_saving.Notebook\"\n",
       "    // IPython event is triggered only after the cells have been serialised, which for\n",
       "    // our purposes (turning an active figure into a static one), is too late.\n",
       "    var cells = IPython.notebook.get_cells();\n",
       "    var ncells = cells.length;\n",
       "    for (var i=0; i<ncells; i++) {\n",
       "        var cell = cells[i];\n",
       "        if (cell.cell_type === 'code'){\n",
       "            for (var j=0; j<cell.output_area.outputs.length; j++) {\n",
       "                var data = cell.output_area.outputs[j];\n",
       "                if (data.data) {\n",
       "                    // IPython >= 3 moved mimebundle to data attribute of output\n",
       "                    data = data.data;\n",
       "                }\n",
       "                if (data['text/html'] == html_output) {\n",
       "                    return [cell, data, j];\n",
       "                }\n",
       "            }\n",
       "        }\n",
       "    }\n",
       "}\n",
       "\n",
       "// Register the function which deals with the matplotlib target/channel.\n",
       "// The kernel may be null if the page has been refreshed.\n",
       "if (IPython.notebook.kernel != null) {\n",
       "    IPython.notebook.kernel.comm_manager.register_target('matplotlib', mpl.mpl_figure_comm);\n",
       "}\n"
      ],
      "text/plain": [
       "<IPython.core.display.Javascript object>"
      ]
     },
     "metadata": {},
     "output_type": "display_data"
    },
    {
     "data": {
      "text/html": [
       "<img src=\"data:image/png;base64,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\" width=\"640\">"
      ],
      "text/plain": [
       "<IPython.core.display.HTML object>"
      ]
     },
     "metadata": {},
     "output_type": "display_data"
    },
    {
     "name": "stdout",
     "output_type": "stream",
     "text": [
      "-- 8.989431936961867e-05 HD 202772 A b\n",
      "8.825 0.00015031734504322524 HD 2685 b\n",
      "10.324 2.1800312898283643e-05 TOI 150.01\n"
     ]
    },
    {
     "name": "stderr",
     "output_type": "stream",
     "text": [
      "/home/adb/anaconda3/lib/python3.7/site-packages/astropy/units/quantity.py:639: RuntimeWarning: invalid value encountered in greater\n",
      "  result = super().__array_ufunc__(function, method, *arrays, **kwargs)\n"
     ]
    }
   ],
   "source": [
    "mask = (ratio == 0) | (~isfinite(ratio)) \n",
    "plt.plot(tess_data['st_j'][~mask], ratio[~mask]*1e6, 'o')\n",
    "\n",
    "itext = where(ratio > 10 * 1e-6)[0]\n",
    "for i in itext:\n",
    "    print(tess_data['st_j'][i],ratio[i], tess_data['pl_name'][i])\n",
    "    plt.text(tess_data['st_j'][i], ratio[i]*1e6, tess_data['pl_name'][i])\n",
    "\n",
    "plt.ylabel('Fp/Fstar [ppm] at 1.25 micron')\n",
    "_ = plt.xlabel('mag J')"
   ]
  },
  {
   "cell_type": "markdown",
   "metadata": {},
   "source": [
    "## Edit columns or values\n",
    "See https://docs.astropy.org/en/stable/table/modify_table.html"
   ]
  },
  {
   "cell_type": "markdown",
   "metadata": {},
   "source": [
    "### Change units"
   ]
  },
  {
   "cell_type": "code",
   "execution_count": 119,
   "metadata": {},
   "outputs": [],
   "source": [
    "test_table = tess_data.copy()"
   ]
  },
  {
   "cell_type": "code",
   "execution_count": 120,
   "metadata": {},
   "outputs": [],
   "source": [
    "# You cannot change the units like that\n",
    "new_data = test_table['pl_trandur'].to('h')\n",
    "mask = test_table['pl_trandur'].mask\n",
    "test_table['pl_trandur'] = new_data\n",
    "test_table['pl_trandur'].mask = mask"
   ]
  },
  {
   "cell_type": "code",
   "execution_count": 121,
   "metadata": {},
   "outputs": [
    {
     "data": {
      "text/html": [
       "&lt;MaskedColumn name=&apos;pl_trandur&apos; dtype=&apos;float64&apos; unit=&apos;h&apos; length=31&gt;\n",
       "<table>\n",
       "<tr><td>3.1764</td></tr>\n",
       "<tr><td>3.2299992</td></tr>\n",
       "<tr><td>1.53</td></tr>\n",
       "<tr><td>8.6016</td></tr>\n",
       "<tr><td>2.4899999999999998</td></tr>\n",
       "<tr><td>2.25</td></tr>\n",
       "<tr><td>5.6304</td></tr>\n",
       "<tr><td>2.5150008</td></tr>\n",
       "<tr><td>2.1580008</td></tr>\n",
       "<tr><td>--</td></tr>\n",
       "<tr><td>--</td></tr>\n",
       "<tr><td>--</td></tr>\n",
       "<tr><td>...</td></tr>\n",
       "<tr><td>0.5212007999999999</td></tr>\n",
       "<tr><td>1.3776</td></tr>\n",
       "<tr><td>5.9899992</td></tr>\n",
       "<tr><td>4.7136</td></tr>\n",
       "<tr><td>2.0620008</td></tr>\n",
       "<tr><td>5.514</td></tr>\n",
       "<tr><td>5.514</td></tr>\n",
       "<tr><td>2.0620008</td></tr>\n",
       "<tr><td>1.3870008</td></tr>\n",
       "<tr><td>1.6579992</td></tr>\n",
       "<tr><td>2.1479999999999997</td></tr>\n",
       "<tr><td>2.9530008</td></tr>\n",
       "</table>"
      ],
      "text/plain": [
       "<MaskedColumn name='pl_trandur' dtype='float64' unit='h' length=31>\n",
       "            3.1764\n",
       "         3.2299992\n",
       "              1.53\n",
       "            8.6016\n",
       "2.4899999999999998\n",
       "              2.25\n",
       "            5.6304\n",
       "         2.5150008\n",
       "         2.1580008\n",
       "                --\n",
       "                --\n",
       "                --\n",
       "               ...\n",
       "0.5212007999999999\n",
       "            1.3776\n",
       "         5.9899992\n",
       "            4.7136\n",
       "         2.0620008\n",
       "             5.514\n",
       "             5.514\n",
       "         2.0620008\n",
       "         1.3870008\n",
       "         1.6579992\n",
       "2.1479999999999997\n",
       "         2.9530008"
      ]
     },
     "execution_count": 121,
     "metadata": {},
     "output_type": "execute_result"
    }
   ],
   "source": [
    "test_table['pl_trandur']"
   ]
  },
  {
   "cell_type": "code",
   "execution_count": 122,
   "metadata": {},
   "outputs": [
    {
     "data": {
      "text/html": [
       "&lt;MaskedColumn name=&apos;pl_trandur&apos; dtype=&apos;float64&apos; unit=&apos;d&apos; format=&apos;{!r:&gt;}&apos; length=31&gt;\n",
       "<table>\n",
       "<tr><td>0.13235</td></tr>\n",
       "<tr><td>0.1345833</td></tr>\n",
       "<tr><td>0.06375</td></tr>\n",
       "<tr><td>0.3584</td></tr>\n",
       "<tr><td>0.10375</td></tr>\n",
       "<tr><td>0.09375</td></tr>\n",
       "<tr><td>0.2346</td></tr>\n",
       "<tr><td>0.1047917</td></tr>\n",
       "<tr><td>0.0899167</td></tr>\n",
       "<tr><td>--</td></tr>\n",
       "<tr><td>--</td></tr>\n",
       "<tr><td>--</td></tr>\n",
       "<tr><td>...</td></tr>\n",
       "<tr><td>0.0217167</td></tr>\n",
       "<tr><td>0.0574</td></tr>\n",
       "<tr><td>0.2495833</td></tr>\n",
       "<tr><td>0.1964</td></tr>\n",
       "<tr><td>0.0859167</td></tr>\n",
       "<tr><td>0.22975</td></tr>\n",
       "<tr><td>0.22975</td></tr>\n",
       "<tr><td>0.0859167</td></tr>\n",
       "<tr><td>0.0577917</td></tr>\n",
       "<tr><td>0.0690833</td></tr>\n",
       "<tr><td>0.0895</td></tr>\n",
       "<tr><td>0.1230417</td></tr>\n",
       "</table>"
      ],
      "text/plain": [
       "<MaskedColumn name='pl_trandur' dtype='float64' unit='d' format='{!r:>}' length=31>\n",
       "  0.13235\n",
       "0.1345833\n",
       "  0.06375\n",
       "   0.3584\n",
       "  0.10375\n",
       "  0.09375\n",
       "   0.2346\n",
       "0.1047917\n",
       "0.0899167\n",
       "       --\n",
       "       --\n",
       "       --\n",
       "      ...\n",
       "0.0217167\n",
       "   0.0574\n",
       "0.2495833\n",
       "   0.1964\n",
       "0.0859167\n",
       "  0.22975\n",
       "  0.22975\n",
       "0.0859167\n",
       "0.0577917\n",
       "0.0690833\n",
       "   0.0895\n",
       "0.1230417"
      ]
     },
     "execution_count": 122,
     "metadata": {},
     "output_type": "execute_result"
    }
   ],
   "source": [
    "tess_data['pl_trandur']"
   ]
  },
  {
   "cell_type": "markdown",
   "metadata": {},
   "source": [
    "# Plan transit observations with astroplan"
   ]
  },
  {
   "cell_type": "code",
   "execution_count": 202,
   "metadata": {},
   "outputs": [],
   "source": [
    "from astropy.time import Time\n",
    "import warnings\n",
    "from astropy.utils.exceptions import AstropyUserWarning, AstropyWarning\n",
    "from astropy.coordinates.name_resolve import NameResolveError\n",
    "from astropy.coordinates import SkyCoord\n",
    "from astropy.table import Table\n",
    "# Import astroplan tools and constraints\n",
    "# Other constraints are available\n",
    "from astroplan import (FixedTarget, Observer, EclipsingSystem,\n",
    "                       PrimaryEclipseConstraint, is_event_observable,\n",
    "                       AtNightConstraint, AltitudeConstraint,\n",
    "                       TimeConstraint, AirmassConstraint)"
   ]
  },
  {
   "cell_type": "code",
   "execution_count": 140,
   "metadata": {},
   "outputs": [
    {
     "data": {
      "text/html": [
       "<i>MasterFile masked=True length=27</i>\n",
       "<table id=\"table140044560192792-391529\" class=\"table-striped table-bordered table-condensed\">\n",
       "<thead><tr><th>idx</th><th>pl_name</th><th>pl_tranmid</th><th>pl_trandur</th><th>pl_orbper</th></tr></thead>\n",
       "<thead><tr><th></th><th></th><th>d</th><th>d</th><th>d</th></tr></thead>\n",
       "<tr><td>0</td><td>DS Tuc A b</td><td>2458332.30997</td><td>0.13235</td><td>8.138268</td></tr>\n",
       "<tr><td>1</td><td>GJ 143 b</td><td>2458385.92502</td><td>0.1345833</td><td>35.589</td></tr>\n",
       "<tr><td>2</td><td>GJ 357 b</td><td>2458517.99862</td><td>0.06375</td><td>3.93072</td></tr>\n",
       "<tr><td>3</td><td>HD 1397 b</td><td>2458332.08261</td><td>0.3584</td><td>11.53533</td></tr>\n",
       "<tr><td>4</td><td>HD 15337 b</td><td>2458411.46156</td><td>0.10375</td><td>4.75615</td></tr>\n",
       "<tr><td>5</td><td>HD 15337 c</td><td>2458414.5501</td><td>0.09375</td><td>17.1784</td></tr>\n",
       "<tr><td>6</td><td>HD 202772 A b</td><td>2458338.61047</td><td>0.2346</td><td>3.308958</td></tr>\n",
       "<tr><td>7</td><td>HD 21749 c</td><td>2458371.2287</td><td>0.1047917</td><td>7.78993</td></tr>\n",
       "<tr><td>8</td><td>HD 219666 b</td><td>2458329.1996</td><td>0.0899167</td><td>6.03607</td></tr>\n",
       "<tr><td>9</td><td>HR 858 b</td><td>2458409.18969</td><td>0.1129</td><td>3.58599</td></tr>\n",
       "<tr><td>10</td><td>HR 858 c</td><td>2458415.6344</td><td>0.1209</td><td>5.97293</td></tr>\n",
       "<tr><td>11</td><td>HR 858 d</td><td>2458409.7328</td><td>0.1431</td><td>11.23</td></tr>\n",
       "<tr><td>12</td><td>L 98-59 b</td><td>2458366.1701</td><td>0.0425</td><td>2.25314</td></tr>\n",
       "<tr><td>13</td><td>L 98-59 c</td><td>2458367.2755</td><td>0.0516667</td><td>3.690621</td></tr>\n",
       "<tr><td>14</td><td>L 98-59 d</td><td>2458362.7375</td><td>0.0379167</td><td>7.45086</td></tr>\n",
       "<tr><td>15</td><td>LHS 3844 b</td><td>2458325.72558</td><td>0.0217167</td><td>0.46292913</td></tr>\n",
       "<tr><td>16</td><td>LTT 1445 A b</td><td>2458423.42629</td><td>0.0574</td><td>5.35882</td></tr>\n",
       "<tr><td>17</td><td>TOI 150.01</td><td>2458326.279039</td><td>0.2495833</td><td>5.857342</td></tr>\n",
       "<tr><td>18</td><td>TOI 172 b</td><td>2458345.8734</td><td>0.1964</td><td>9.47725</td></tr>\n",
       "<tr><td>19</td><td>TOI 216 b</td><td>2458325.327</td><td>0.0859167</td><td>17.089</td></tr>\n",
       "<tr><td>20</td><td>TOI 216 c</td><td>2458331.28531</td><td>0.22975</td><td>34.556</td></tr>\n",
       "<tr><td>21</td><td>TOI 216.01</td><td>2458331.28531</td><td>0.22975</td><td>34.556</td></tr>\n",
       "<tr><td>22</td><td>TOI 216.02</td><td>2458325.327</td><td>0.0859167</td><td>17.089</td></tr>\n",
       "<tr><td>23</td><td>TOI 270 b</td><td>2458461.01464</td><td>0.0577917</td><td>3.36008</td></tr>\n",
       "<tr><td>24</td><td>TOI 270 c</td><td>2458463.08481</td><td>0.0690833</td><td>5.660172</td></tr>\n",
       "<tr><td>25</td><td>TOI 270 d</td><td>2458469.33834</td><td>0.0895</td><td>11.38014</td></tr>\n",
       "<tr><td>26</td><td>pi Men c</td><td>2458325.504</td><td>0.1230417</td><td>6.2679</td></tr>\n",
       "</table><style>table.dataTable {clear: both; width: auto !important; margin: 0 !important;}\n",
       ".dataTables_info, .dataTables_length, .dataTables_filter, .dataTables_paginate{\n",
       "display: inline-block; margin-right: 1em; }\n",
       ".paginate_button { margin-right: 5px; }\n",
       "</style>\n",
       "<script>\n",
       "\n",
       "var astropy_sort_num = function(a, b) {\n",
       "    var a_num = parseFloat(a);\n",
       "    var b_num = parseFloat(b);\n",
       "\n",
       "    if (isNaN(a_num) && isNaN(b_num))\n",
       "        return ((a < b) ? -1 : ((a > b) ? 1 : 0));\n",
       "    else if (!isNaN(a_num) && !isNaN(b_num))\n",
       "        return ((a_num < b_num) ? -1 : ((a_num > b_num) ? 1 : 0));\n",
       "    else\n",
       "        return isNaN(a_num) ? -1 : 1;\n",
       "}\n",
       "\n",
       "require.config({paths: {\n",
       "    datatables: 'https://cdn.datatables.net/1.10.12/js/jquery.dataTables.min'\n",
       "}});\n",
       "require([\"datatables\"], function(){\n",
       "    console.log(\"$('#table140044560192792-391529').dataTable()\");\n",
       "    \n",
       "jQuery.extend( jQuery.fn.dataTableExt.oSort, {\n",
       "    \"optionalnum-asc\": astropy_sort_num,\n",
       "    \"optionalnum-desc\": function (a,b) { return -astropy_sort_num(a, b); }\n",
       "});\n",
       "\n",
       "    $('#table140044560192792-391529').dataTable({\n",
       "        order: [],\n",
       "        pageLength: 50,\n",
       "        lengthMenu: [[10, 25, 50, 100, 500, 1000, -1], [10, 25, 50, 100, 500, 1000, 'All']],\n",
       "        pagingType: \"full_numbers\",\n",
       "        columnDefs: [{targets: [0, 2, 3, 4], type: \"optionalnum\"}]\n",
       "    });\n",
       "});\n",
       "</script>\n"
      ],
      "text/plain": [
       "<IPython.core.display.HTML object>"
      ]
     },
     "execution_count": 140,
     "metadata": {},
     "output_type": "execute_result"
    }
   ],
   "source": [
    "# Keep only target with transit duration\n",
    "missing = tess_data['pl_trandur'].mask\n",
    "transit_data = tess_data[~missing]\n",
    "transit_data['pl_name', 'pl_tranmid', 'pl_trandur', 'pl_orbper'].show_in_notebook()"
   ]
  },
  {
   "cell_type": "code",
   "execution_count": 143,
   "metadata": {},
   "outputs": [],
   "source": [
    "epoch = Time(transit_data['pl_tranmid'], format='jd')\n",
    "period = transit_data['pl_orbper'].quantity\n",
    "transit_duration = transit_data['pl_trandur'].quantity"
   ]
  },
  {
   "cell_type": "markdown",
   "metadata": {},
   "source": [
    "### Constraints"
   ]
  },
  {
   "cell_type": "code",
   "execution_count": 186,
   "metadata": {},
   "outputs": [],
   "source": [
    "# 2020A semester at cfht\n",
    "t1, t2 = Time(['2020-02-01 00:00', '2020-07-31 00:00'])\n",
    "site = 'cfht'\n",
    "\n",
    "# See astroplan available constraints\n",
    "constraints = [AtNightConstraint.twilight_nautical(),\n",
    "               AirmassConstraint(max=3.),\n",
    "               TimeConstraint(t1, t2)\n",
    "              ]"
   ]
  },
  {
   "cell_type": "markdown",
   "metadata": {},
   "source": [
    "### Compute next transits"
   ]
  },
  {
   "cell_type": "code",
   "execution_count": 215,
   "metadata": {},
   "outputs": [
    {
     "name": "stdout",
     "output_type": "stream",
     "text": [
      "no event found for  DS Tuc A b\n",
      "no event found for  GJ 143 b\n"
     ]
    }
   ],
   "source": [
    "obs = Observer.at_site(site)\n",
    "\n",
    "ra_unit = transit_data['ra'].unit\n",
    "dec_unit = transit_data['dec'].unit\n",
    "\n",
    "for itar, row in enumerate(transit_data):\n",
    "\n",
    "    # -------------------------\n",
    "    # Steps to predict transits\n",
    "    # -------------------------\n",
    "\n",
    "    ra = row['ra'] * ra_unit\n",
    "    dec = row['dec'] * dec_unit\n",
    "    coord = SkyCoord(ra=ra, dec=dec)\n",
    "    target = FixedTarget(coord=coord, name=row['pl_name'])\n",
    "\n",
    "    # Define system\n",
    "    sys = EclipsingSystem(primary_eclipse_time=epoch[itar],\n",
    "                          orbital_period=period[itar],\n",
    "                          duration=transit_duration[itar],\n",
    "                          name=target.name\n",
    "                         )\n",
    "    \n",
    "    # Predict 'n' next transits\n",
    "    with warnings.catch_warnings(record=True) as w:\n",
    "        \n",
    "        # Compute transits\n",
    "        t_mid = sys.next_primary_eclipse_time(t1, n_eclipses=1000)\n",
    "        \n",
    "    # Check if last event after time limit\n",
    "    if t_mid[-1] < t2:\n",
    "        warnings.warn('end time ('+t2.value +\n",
    "                      ') is passed the last computed event time (' +\n",
    "                      t_mid[-1].value+')\\n' +\n",
    "                     '\\t You can change the n_eclipse kwarg ' +\n",
    "                     'value or choose a different window (start or end time)',\n",
    "                     AstropyUserWarning\n",
    "                    )\n",
    "        \n",
    "    # Catch warnings\n",
    "    with warnings.catch_warnings(record=True) as w:\n",
    "        \n",
    "        # Compute transit start/end (t1, t4)\n",
    "        t1_t4 = sys.next_primary_ingress_egress_time(t1, n_eclipses=1000)\n",
    "\n",
    "        # Compute observable events\n",
    "        index = is_event_observable(constraints, obs, target,\n",
    "                                    times_ingress_egress=t1_t4).squeeze()\n",
    "        \n",
    "    # -------------------\n",
    "    # End of steps to predict transits\n",
    "    # -------------------\n",
    "        \n",
    "    # Print result\n",
    "    if index.any():\n",
    "        out = Table([t_mid[index].iso, *t1_t4[index].T.iso],\n",
    "                    names=['Mid transit', 'ingress', 'egress'],meta={'pl_name':target.name})\n",
    "        break\n",
    "    else:\n",
    "        print('no event found for ', target.name)"
   ]
  },
  {
   "cell_type": "code",
   "execution_count": 216,
   "metadata": {},
   "outputs": [
    {
     "data": {
      "text/html": [
       "<i>Table length=4</i>\n",
       "<table id=\"table140044589939848\" class=\"table-striped table-bordered table-condensed\">\n",
       "<thead><tr><th>Mid transit</th><th>ingress</th><th>egress</th></tr></thead>\n",
       "<thead><tr><th>str23</th><th>str23</th><th>str23</th></tr></thead>\n",
       "<tr><td>2020-03-06 12:01:55.776</td><td>2020-03-06 11:16:01.776</td><td>2020-03-06 12:47:49.776</td></tr>\n",
       "<tr><td>2020-03-10 10:22:09.984</td><td>2020-03-10 09:36:15.984</td><td>2020-03-10 11:08:03.984</td></tr>\n",
       "<tr><td>2020-03-14 08:42:24.192</td><td>2020-03-14 07:56:30.192</td><td>2020-03-14 09:28:18.192</td></tr>\n",
       "<tr><td>2020-03-18 07:02:38.400</td><td>2020-03-18 06:16:44.400</td><td>2020-03-18 07:48:32.400</td></tr>\n",
       "</table>"
      ],
      "text/plain": [
       "<Table length=4>\n",
       "      Mid transit               ingress                  egress        \n",
       "         str23                   str23                   str23         \n",
       "----------------------- ----------------------- -----------------------\n",
       "2020-03-06 12:01:55.776 2020-03-06 11:16:01.776 2020-03-06 12:47:49.776\n",
       "2020-03-10 10:22:09.984 2020-03-10 09:36:15.984 2020-03-10 11:08:03.984\n",
       "2020-03-14 08:42:24.192 2020-03-14 07:56:30.192 2020-03-14 09:28:18.192\n",
       "2020-03-18 07:02:38.400 2020-03-18 06:16:44.400 2020-03-18 07:48:32.400"
      ]
     },
     "execution_count": 216,
     "metadata": {},
     "output_type": "execute_result"
    }
   ],
   "source": [
    "out"
   ]
  },
  {
   "cell_type": "code",
   "execution_count": null,
   "metadata": {},
   "outputs": [],
   "source": []
  },
  {
   "cell_type": "code",
   "execution_count": null,
   "metadata": {},
   "outputs": [],
   "source": []
  }
 ],
 "metadata": {
  "kernelspec": {
   "display_name": "Python 3",
   "language": "python",
   "name": "python3"
  },
  "language_info": {
   "codemirror_mode": {
    "name": "ipython",
    "version": 3
   },
   "file_extension": ".py",
   "mimetype": "text/x-python",
   "name": "python",
   "nbconvert_exporter": "python",
   "pygments_lexer": "ipython3",
   "version": "3.7.6"
  }
 },
 "nbformat": 4,
 "nbformat_minor": 2
}
