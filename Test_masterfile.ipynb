{
 "cells": [
  {
   "cell_type": "code",
   "execution_count": 1,
   "metadata": {},
   "outputs": [],
   "source": [
    "from masterfile.archive import MasterFile\n",
    "\n",
    "new, ref = MasterFile.update()\n",
    "\n",
    "new.write(\"/home/adb/Archive/masterfile.ecsv\", overwrite=True)\n",
    "ref.write(\"/home/adb/Archive/reference_file.ecsv\", overwrite=True)"
   ]
  },
  {
   "cell_type": "code",
   "execution_count": 3,
   "metadata": {},
   "outputs": [
    {
     "data": {
      "text/html": [
       "<i>PlanetArchive masked=True length=1</i>\n",
       "<table id=\"table139690951894032\" class=\"table-striped table-bordered table-condensed\">\n",
       "<thead><tr><th>pl_tranmid</th><th>pl_tranmiderr1</th><th>pl_tranmiderr2</th></tr></thead>\n",
       "<thead><tr><th>d</th><th>d</th><th>d</th></tr></thead>\n",
       "<thead><tr><th>float64</th><th>float64</th><th>float64</th></tr></thead>\n",
       "<tr><td>2456034.2126</td><td>0.00015</td><td>-0.00015</td></tr>\n",
       "</table>"
      ],
      "text/plain": [
       "<PlanetArchive masked=True length=1>\n",
       " pl_tranmid  pl_tranmiderr1 pl_tranmiderr2\n",
       "     d             d              d       \n",
       "  float64       float64        float64    \n",
       "------------ -------------- --------------\n",
       "2456034.2126        0.00015       -0.00015"
      ]
     },
     "execution_count": 3,
     "metadata": {},
     "output_type": "execute_result"
    }
   ],
   "source": [
    "new.by_pl_name('WASP-14 b', name_key='pl_name')['pl_tranmid','pl_tranmiderr1', 'pl_tranmiderr2']"
   ]
  },
  {
   "cell_type": "code",
   "execution_count": null,
   "metadata": {},
   "outputs": [],
   "source": []
  }
 ],
 "metadata": {
  "kernelspec": {
   "display_name": "Python 3",
   "language": "python",
   "name": "python3"
  },
  "language_info": {
   "codemirror_mode": {
    "name": "ipython",
    "version": 3
   },
   "file_extension": ".py",
   "mimetype": "text/x-python",
   "name": "python",
   "nbconvert_exporter": "python",
   "pygments_lexer": "ipython3",
   "version": "3.7.5"
  }
 },
 "nbformat": 4,
 "nbformat_minor": 2
}
